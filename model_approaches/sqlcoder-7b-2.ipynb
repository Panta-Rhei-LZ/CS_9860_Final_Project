{
 "cells": [
  {
   "cell_type": "code",
   "execution_count": 2,
   "metadata": {},
   "outputs": [],
   "source": [
    "import sqlparse\n",
    "import torch\n",
    "from transformers import AutoTokenizer, AutoModelForCausalLM, TRANSFORMERS_CACHE\n"
   ]
  },
  {
   "cell_type": "code",
   "execution_count": 3,
   "metadata": {},
   "outputs": [
    {
     "name": "stdout",
     "output_type": "stream",
     "text": [
      "True\n",
      "17170956288\n",
      "C:\\Users\\zly20\\.cache\\huggingface\\hub\n"
     ]
    }
   ],
   "source": [
    "print(torch.cuda.is_available())\n",
    "torch.cuda.empty_cache()\n",
    "\n",
    "available_memory = torch.cuda.get_device_properties(0).total_memory\n",
    "print(available_memory)\n",
    "\n",
    "print(TRANSFORMERS_CACHE)"
   ]
  },
  {
   "cell_type": "code",
   "execution_count": 4,
   "metadata": {},
   "outputs": [
    {
     "data": {
      "application/vnd.jupyter.widget-view+json": {
       "model_id": "c5a5f1d0064d489f83d57a66fce7ad7b",
       "version_major": 2,
       "version_minor": 0
      },
      "text/plain": [
       "Loading checkpoint shards:   0%|          | 0/3 [00:00<?, ?it/s]"
      ]
     },
     "metadata": {},
     "output_type": "display_data"
    }
   ],
   "source": [
    "model_name = \"defog/sqlcoder-7b-2\"\n",
    "cache_dir = \"E:/Data File/transformers.cache\"  # Specify your desired cache directory\n",
    "tokenizer = AutoTokenizer.from_pretrained(model_name,cache_dir=cache_dir)\n",
    "\n",
    "if available_memory > 15e9:\n",
    "    # if you have atleast 15GB of GPU memory, run load the model in float16\n",
    "    model = AutoModelForCausalLM.from_pretrained(\n",
    "        model_name,\n",
    "        trust_remote_code=True,\n",
    "        torch_dtype=torch.float16,\n",
    "        device_map=\"auto\",\n",
    "        use_cache=True,\n",
    "        cache_dir=cache_dir\n",
    "    )\n",
    "else:\n",
    "    # else, load in 8 bits – this is a bit slower\n",
    "    model = AutoModelForCausalLM.from_pretrained(\n",
    "        model_name,\n",
    "        trust_remote_code=True,\n",
    "        # torch_dtype=torch.float16,\n",
    "        load_in_8bit=True,\n",
    "        device_map=\"auto\",\n",
    "        use_cache=True,\n",
    "        cache_dir=cache_dir\n",
    "    )"
   ]
  },
  {
   "cell_type": "code",
   "execution_count": 5,
   "metadata": {},
   "outputs": [],
   "source": [
    "prompt = \"\"\"### Task\n",
    "Generate a SQL query to answer [QUESTION]{question}[/QUESTION]\n",
    "\n",
    "### Instructions\n",
    "- If you cannot answer the question with the available database schema, return 'I do not know'\n",
    "- You do not need to generate your thought process but just the answer\n",
    "\n",
    "For example:\n",
    "  question: 'List all the businesses with more than 4.5 stars',\n",
    "  answer: 'SELECT name FROM business WHERE rating > 4.5'\n",
    "\n",
    "### Database Schema\n",
    "This query will run on a database whose schema is represented in this string:\n",
    "CREATE TABLE business (\n",
    "  bid INTEGER PRIMARY KEY AUTO_INCREMENT, -- Unique ID for each business\n",
    "  business_id VARCHAR(255) NOT NULL UNIQUE, -- External business identifier\n",
    "  name VARCHAR(255) NOT NULL, -- Name of the business\n",
    "  full_address VARCHAR(255) NOT NULL, -- Full street address\n",
    "  city VARCHAR(255) NOT NULL, -- City of the business\n",
    "  latitude VARCHAR(255) NOT NULL, -- Latitude coordinate\n",
    "  longitude VARCHAR(255) NOT NULL, -- Longitude coordinate\n",
    "  review_count BIGINT NOT NULL, -- Number of reviews the business has received\n",
    "  is_open TINYINT(1) NOT NULL, -- Indicates if the business is open (1) or closed (0)\n",
    "  rating FLOAT DEFAULT NULL, -- Average rating of the business\n",
    "  state VARCHAR(255) DEFAULT NULL -- State or province\n",
    ");\n",
    "\n",
    "CREATE TABLE category (\n",
    "  id INTEGER PRIMARY KEY AUTO_INCREMENT, -- Unique ID for each category record\n",
    "  business_id VARCHAR(255) NOT NULL, -- ID of the business this category belongs to\n",
    "  category_name VARCHAR(255) NOT NULL, -- Name of the category\n",
    "  FOREIGN KEY (business_id) REFERENCES business(business_id)\n",
    ");\n",
    "\n",
    "CREATE TABLE checkin (\n",
    "  cid INTEGER PRIMARY KEY AUTO_INCREMENT, -- Unique ID for each check-in record\n",
    "  business_id VARCHAR(255) NOT NULL, -- ID of the business where the check-in occurred\n",
    "  count INTEGER DEFAULT NULL, -- Number of check-ins\n",
    "  day VARCHAR(12) DEFAULT NULL, -- Day of the week the check-in occurred\n",
    "  FOREIGN KEY (business_id) REFERENCES business(business_id)\n",
    ");\n",
    "\n",
    "CREATE TABLE neighborhood (\n",
    "  id INTEGER PRIMARY KEY AUTO_INCREMENT, -- Unique ID for each neighborhood record\n",
    "  business_id VARCHAR(255) NOT NULL, -- ID of the business in the neighborhood\n",
    "  neighborhood_name VARCHAR(255) NOT NULL, -- Name of the neighborhood\n",
    "  FOREIGN KEY (business_id) REFERENCES business(business_id)\n",
    ");\n",
    "\n",
    "CREATE TABLE review (\n",
    "  rid INTEGER PRIMARY KEY AUTO_INCREMENT, -- Unique ID for each review\n",
    "  business_id VARCHAR(255) NOT NULL, -- ID of the business being reviewed\n",
    "  user_id VARCHAR(255) NOT NULL, -- ID of the user who wrote the review\n",
    "  rating FLOAT DEFAULT NULL, -- Rating given in the review\n",
    "  text LONGTEXT NOT NULL, -- Content of the review\n",
    "  year INTEGER DEFAULT NULL, -- Year the review was posted\n",
    "  month VARCHAR(10) DEFAULT NULL, -- Month the review was posted\n",
    "  FOREIGN KEY (business_id) REFERENCES business(business_id),\n",
    "  FOREIGN KEY (user_id) REFERENCES user(user_id)\n",
    ");\n",
    "\n",
    "CREATE TABLE tip (\n",
    "  tip_id INTEGER PRIMARY KEY AUTO_INCREMENT, -- Unique ID for each tip\n",
    "  business_id VARCHAR(255) NOT NULL, -- ID of the business the tip is about\n",
    "  text LONGTEXT NOT NULL, -- Content of the tip\n",
    "  user_id VARCHAR(255) NOT NULL, -- ID of the user who left the tip\n",
    "  likes INTEGER NOT NULL, -- Number of likes the tip received\n",
    "  year INTEGER DEFAULT NULL, -- Year the tip was posted\n",
    "  month VARCHAR(10) DEFAULT NULL, -- Month the tip was posted\n",
    "  FOREIGN KEY (business_id) REFERENCES business(business_id),\n",
    "  FOREIGN KEY (user_id) REFERENCES user(user_id)\n",
    ");\n",
    "\n",
    "CREATE TABLE user (\n",
    "  uid INTEGER PRIMARY KEY AUTO_INCREMENT, -- Unique ID for each user record\n",
    "  user_id VARCHAR(255) NOT NULL UNIQUE, -- External user identifier\n",
    "  name VARCHAR(255) NOT NULL -- Name of the user\n",
    ");\n",
    "\n",
    "### Answer\n",
    "Given the database schema, here is the SQL query that answers [QUESTION]{question}[/QUESTION]\n",
    "[SQL]\n",
    "\"\"\""
   ]
  },
  {
   "cell_type": "code",
   "execution_count": 6,
   "metadata": {},
   "outputs": [],
   "source": [
    "def generate_query(question):\n",
    "    updated_prompt = prompt.format(question=question)\n",
    "    inputs = tokenizer(updated_prompt, return_tensors=\"pt\").to(\"cuda\")\n",
    "    generated_ids = model.generate(\n",
    "        **inputs,\n",
    "        num_return_sequences=1,\n",
    "        eos_token_id=tokenizer.eos_token_id,\n",
    "        pad_token_id=tokenizer.eos_token_id,\n",
    "        max_new_tokens=512,\n",
    "        do_sample=False,\n",
    "        num_beams=1,\n",
    "    )\n",
    "    outputs = tokenizer.batch_decode(generated_ids, skip_special_tokens=True)\n",
    "\n",
    "    torch.cuda.empty_cache()\n",
    "    torch.cuda.synchronize()\n",
    "    # empty cache so that you do generate more results w/o memory crashing\n",
    "    # particularly important on Colab – memory management is much more straightforward\n",
    "    # when running on an inference service\n",
    "    return sqlparse.format(outputs[0].split(\"[SQL]\")[-1], reindent=True)"
   ]
  },
  {
   "cell_type": "code",
   "execution_count": 8,
   "metadata": {},
   "outputs": [
    {
     "name": "stdout",
     "output_type": "stream",
     "text": [
      "\n",
      "SELECT r.text,\n",
      "       b.name\n",
      "FROM review r\n",
      "JOIN business b ON r.business_id = b.business_id\n",
      "WHERE r.rating < 1;\n"
     ]
    }
   ],
   "source": [
    "question = \"List all the reviews which rated a business less than 1\"\n",
    "generated_sql = generate_query(question)\n",
    "print(generated_sql)"
   ]
  }
 ],
 "metadata": {
  "kernelspec": {
   "display_name": "Python 3",
   "language": "python",
   "name": "python3"
  },
  "language_info": {
   "codemirror_mode": {
    "name": "ipython",
    "version": 3
   },
   "file_extension": ".py",
   "mimetype": "text/x-python",
   "name": "python",
   "nbconvert_exporter": "python",
   "pygments_lexer": "ipython3",
   "version": "3.11.9"
  }
 },
 "nbformat": 4,
 "nbformat_minor": 2
}
