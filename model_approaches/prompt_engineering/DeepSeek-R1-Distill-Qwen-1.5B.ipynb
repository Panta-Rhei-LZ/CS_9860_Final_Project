{
 "cells": [
  {
   "cell_type": "markdown",
   "metadata": {},
   "source": [
    "# Read Data\n",
    "\n",
    "* Spider Dataset\n",
    "\n",
    "* https://yale-lily.github.io/spider"
   ]
  },
  {
   "cell_type": "code",
   "execution_count": 1,
   "metadata": {},
   "outputs": [],
   "source": [
    "from datasets import load_dataset\n",
    "\n",
    "# Load Spider dataset\n",
    "ds = load_dataset(\"spider\")\n",
    "db_ids = [\"department_management\", \"farm\", \"aircraft\", \"architecture\", \"cinema\"]\n",
    "\n",
    "data = []\n",
    "\n",
    "for db_id in db_ids:\n",
    "    subset = ds[\"train\"].filter(lambda x: x[\"db_id\"] == db_id)\n",
    "    questions = [entry[\"question\"] for entry in subset]\n",
    "    queries = [entry[\"query\"] for entry in subset]\n",
    "\n",
    "    # Combine into (db_id, question, query) triplets\n",
    "    entries = [{\"db_id\": db_id, \"question\": q, \"query\": sql} for q, sql in zip(questions, queries)]\n",
    "\n",
    "    # Add to overall list\n",
    "    data.extend(entries)"
   ]
  },
  {
   "cell_type": "markdown",
   "metadata": {},
   "source": [
    "# DeepSeek-R1-Distill-Qwen-1.5B"
   ]
  },
  {
   "cell_type": "code",
   "execution_count": null,
   "metadata": {},
   "outputs": [
    {
     "name": "stdout",
     "output_type": "stream",
     "text": [
      "True\n",
      "17170956288\n",
      "C:\\Users\\zly20\\.cache\\huggingface\\hub\n"
     ]
    }
   ],
   "source": [
    "import sqlparse\n",
    "import torch\n",
    "from transformers import AutoTokenizer, AutoModelForCausalLM, BitsAndBytesConfig, TRANSFORMERS_CACHE\n",
    "\n",
    "print(torch.cuda.is_available())\n",
    "torch.cuda.empty_cache()\n",
    "\n",
    "available_memory = torch.cuda.get_device_properties(0).total_memory\n",
    "print(available_memory)\n",
    "\n",
    "print(TRANSFORMERS_CACHE)\n",
    "\n",
    "model_name = \"deepseek-ai/DeepSeek-R1-Distill-Qwen-1.5B\"\n",
    "cache_dir = \"E:/Data File/transformers.cache\"\n",
    "tokenizer = AutoTokenizer.from_pretrained(model_name,cache_dir=cache_dir)\n",
    "\n",
    "if available_memory > 6e9:\n",
    "    # if you have atleast 6GB of GPU memory, run load the model in float16\n",
    "    model = AutoModelForCausalLM.from_pretrained(\n",
    "        model_name,\n",
    "        trust_remote_code=True,\n",
    "        torch_dtype=torch.float16,\n",
    "        device_map=\"auto\",\n",
    "        use_cache=True,\n",
    "        cache_dir=cache_dir\n",
    "    )\n",
    "else:\n",
    "    # else, load in 8 bits – this is a bit slower\n",
    "    model = AutoModelForCausalLM.from_pretrained(\n",
    "        model_name,\n",
    "        trust_remote_code=True,\n",
    "        # torch_dtype=torch.float16,\n",
    "        load_in_8bit=True,\n",
    "        device_map=\"auto\",\n",
    "        use_cache=True,\n",
    "        cache_dir=cache_dir\n",
    "    )"
   ]
  },
  {
   "cell_type": "code",
   "execution_count": 3,
   "metadata": {},
   "outputs": [],
   "source": [
    "department_prompt = \"\"\"\n",
    "### Task\n",
    "Generate a SQLite query to answer [QUESTION]{question}[/QUESTION]\n",
    "\n",
    "### Instructions\n",
    "- If you cannot answer the question with the available database schema, return 'I do not know'\n",
    "- Pay close attention to the given database schema, note on how they can join together\n",
    "- You do not need to generate your thought process but just the answer\n",
    "- Your answer should end with '[/SQL]'\n",
    "\n",
    "CREATE TABLE IF NOT EXISTS \"department\" (\n",
    "\"Department_ID\" int,\n",
    "\"Name\" text,\n",
    "\"Creation\" text,\n",
    "\"Ranking\" int,\n",
    "\"Budget_in_Billions\" real,\n",
    "\"Num_Employees\" real,\n",
    "PRIMARY KEY (\"Department_ID\")\n",
    ");\n",
    "\n",
    "CREATE TABLE IF NOT EXISTS \"head\" (\n",
    "\"head_ID\" int,\n",
    "\"name\" text,\n",
    "\"born_state\" text,\n",
    "\"age\" real,\n",
    "PRIMARY KEY (\"head_ID\")\n",
    ");\n",
    "\n",
    "CREATE TABLE IF NOT EXISTS \"management\" (\n",
    "\"department_ID\" int,\n",
    "\"head_ID\" int,\n",
    "\"temporary_acting\" text,\n",
    "PRIMARY KEY (\"Department_ID\",\"head_ID\"),\n",
    "FOREIGN KEY (\"Department_ID\") REFERENCES `department`(\"Department_ID\"),\n",
    "FOREIGN KEY (\"head_ID\") REFERENCES `head`(\"head_ID\")\n",
    ");\n",
    "\n",
    "### Answer\n",
    "Given the database schema, here is the SQLite query that answers [QUESTION]{question}[/QUESTION]\n",
    "[SQL]\n",
    "\"\"\" \n",
    "\n",
    "\n",
    "farm_prompt = \"\"\"\n",
    "### Task\n",
    "Generate a SQLite query to answer [QUESTION]{question}[/QUESTION]\n",
    "\n",
    "### Instructions\n",
    "- If you cannot answer the question with the available database schema, return 'I do not know'\n",
    "- Pay close attention to the given database schema, note on how they can join together\n",
    "- You do not need to generate your thought process but just the answer\n",
    "- Your answer should end with '[/SQL]'\n",
    "\n",
    "CREATE TABLE \"city\" (\n",
    "\"City_ID\" int,\n",
    "\"Official_Name\" text,\n",
    "\"Status\" text,\n",
    "\"Area_km_2\" real,\n",
    "\"Population\" real,\n",
    "\"Census_Ranking\" text,\n",
    "PRIMARY KEY (\"City_ID\")\n",
    ");\n",
    "\n",
    "CREATE TABLE \"farm\" (\n",
    "\"Farm_ID\" int,\n",
    "\"Year\" int,\n",
    "\"Total_Horses\" real,\n",
    "\"Working_Horses\" real,\n",
    "\"Total_Cattle\" real,\n",
    "\"Oxen\" real,\n",
    "\"Bulls\" real,\n",
    "\"Cows\" real,\n",
    "\"Pigs\" real,\n",
    "\"Sheep_and_Goats\" real,\n",
    "PRIMARY KEY (\"Farm_ID\")\n",
    ");\n",
    "\n",
    "CREATE TABLE \"farm_competition\" (\n",
    "\"Competition_ID\" int,\n",
    "\"Year\" int,\n",
    "\"Theme\" text,\n",
    "\"Host_city_ID\" int,\n",
    "\"Hosts\" text,\n",
    "PRIMARY KEY (\"Competition_ID\"),\n",
    "FOREIGN KEY (`Host_city_ID`) REFERENCES `city`(`City_ID`)\n",
    ");\n",
    "\n",
    "\n",
    "CREATE TABLE \"competition_record\" (\n",
    "\"Competition_ID\" int,\n",
    "\"Farm_ID\" int,\n",
    "\"Rank\" int,\n",
    "PRIMARY KEY (\"Competition_ID\",\"Farm_ID\"),\n",
    "FOREIGN KEY (`Competition_ID`) REFERENCES `farm_competition`(`Competition_ID`),\n",
    "FOREIGN KEY (`Farm_ID`) REFERENCES `farm`(`Farm_ID`)\n",
    ");\n",
    "\n",
    "### Answer\n",
    "Given the database schema, here is the SQLite query that answers [QUESTION]{question}[/QUESTION]\n",
    "[SQL]\n",
    "\"\"\"\n",
    "\n",
    "\n",
    "aircraft_prompt = \"\"\"\n",
    "### Task\n",
    "Generate a SQLite query to answer [QUESTION]{question}[/QUESTION]\n",
    "\n",
    "### Instructions\n",
    "- If you cannot answer the question with the available database schema, return 'I do not know'\n",
    "- Pay close attention to the given database schema, note on how they can join together\n",
    "- You do not need to generate your thought process but just the answer\n",
    "- Your answer should end with '[/SQL]'\n",
    "\n",
    "CREATE TABLE `pilot` (\n",
    "  `Pilot_Id` int(11) NOT NULL,\n",
    "  `Name` varchar(50) NOT NULL,\n",
    "  `Age` int(11) NOT NULL,\n",
    "  PRIMARY KEY (`Pilot_Id`)\n",
    ");\n",
    "\n",
    "CREATE TABLE `aircraft` (\n",
    "  \"Aircraft_ID\" int(11) NOT NULL,\n",
    "  \"Aircraft\" varchar(50) NOT NULL,\n",
    "  \"Description\" varchar(50) NOT NULL,\n",
    "  \"Max_Gross_Weight\" varchar(50) NOT NULL,\n",
    "  \"Total_disk_area\" varchar(50) NOT NULL,\n",
    "  \"Max_disk_Loading\" varchar(50) NOT NULL,\n",
    "  PRIMARY KEY (`Aircraft_ID`)\n",
    ");\n",
    "\n",
    "CREATE TABLE `match` (\n",
    "\"Round\" real,\n",
    "\"Location\" text,\n",
    "\"Country\" text,\n",
    "\"Date\" text,\n",
    "\"Fastest_Qualifying\" text,\n",
    "\"Winning_Pilot\" text,\n",
    "\"Winning_Aircraft\" text,\n",
    "PRIMARY KEY (\"Round\"),\n",
    "FOREIGN KEY (`Winning_Aircraft`) REFERENCES `aircraft`(`Aircraft_ID`),\n",
    "FOREIGN KEY (`Winning_Pilot`) REFERENCES `pilot`(`Pilot_Id`)\n",
    ");\n",
    "\n",
    "CREATE TABLE `airport` (\n",
    "\"Airport_ID\" int,\n",
    "\"Airport_Name\" text,\n",
    "\"Total_Passengers\" real,\n",
    "\"%_Change_2007\" text,\n",
    "\"International_Passengers\" real,\n",
    "\"Domestic_Passengers\" real,\n",
    "\"Transit_Passengers\" real,\n",
    "\"Aircraft_Movements\" real,\n",
    "\"Freight_Metric_Tonnes\" real,\n",
    "PRIMARY KEY (\"Airport_ID\")\n",
    ");\n",
    "\n",
    "CREATE TABLE `airport_aircraft` (\n",
    "\"ID\" int,\n",
    "\"Airport_ID\" int,\n",
    "\"Aircraft_ID\" int,\n",
    "PRIMARY KEY (\"Airport_ID\",\"Aircraft_ID\"),\n",
    "FOREIGN KEY (\"Airport_ID\") REFERENCES `airport`(`Airport_ID`),\n",
    "FOREIGN KEY (\"Aircraft_ID\") REFERENCES `aircraft`(`Aircraft_ID`)\n",
    ");\n",
    "\n",
    "### Answer\n",
    "Given the database schema, here is the SQLite query that answers [QUESTION]{question}[/QUESTION]\n",
    "[SQL]\n",
    "\"\"\"\n",
    "\n",
    "\n",
    "architecture_prompt = \"\"\"\n",
    "### Task\n",
    "Generate a SQLite query to answer [QUESTION]{question}[/QUESTION]\n",
    "\n",
    "### Instructions\n",
    "- If you cannot answer the question with the available database schema, return 'I do not know'\n",
    "- Pay close attention to the given database schema, note on how they can join together\n",
    "- You do not need to generate your thought process but just the answer\n",
    "- Your answer should end with '[/SQL]'\n",
    "\n",
    "CREATE TABLE \"architect\" (\n",
    "\"id\" text,\n",
    "\"name\" text,\n",
    "\"nationality\" text,\n",
    "\"gender\" text,\n",
    "primary key(\"id\")\n",
    ");\n",
    "\n",
    "CREATE TABLE \"bridge\" (\n",
    "\"architect_id\" int,\n",
    "\"id\" int,\n",
    "\"name\" text,\n",
    "\"location\" text,\n",
    "\"length_meters\" real,\n",
    "\"length_feet\" real,\n",
    "primary key(\"id\"),\n",
    "foreign key (\"architect_id\" ) references `architect`(\"id\")\n",
    ");\n",
    "\n",
    "CREATE TABLE \"mill\" (\n",
    "\"architect_id\" int,\n",
    "\"id\" int,\n",
    "\"location\" text,\n",
    "\"name\" text,\n",
    "\"type\" text,\n",
    "\"built_year\" int,\n",
    "\"notes\" text,\n",
    "primary key (\"id\"),\n",
    "foreign key (\"architect_id\" ) references `architect`(\"id\")\n",
    ");\n",
    "\n",
    "### Answer\n",
    "Given the database schema, here is the SQLite query that answers [QUESTION]{question}[/QUESTION]\n",
    "[SQL]\n",
    "\"\"\"\n",
    "\n",
    "\n",
    "cinema_prompt = \"\"\"\n",
    "### Task\n",
    "Generate a SQLite query to answer [QUESTION]{question}[/QUESTION]\n",
    "\n",
    "### Instructions\n",
    "- If you cannot answer the question with the available database schema, return 'I do not know'\n",
    "- Pay close attention to the given database schema, note on how they can join together\n",
    "- You do not need to generate your thought process but just the answer\n",
    "- Your answer should end with '[/SQL]'\n",
    "\n",
    "CREATE TABLE \"film\" (\n",
    "\"Film_ID\" int,\n",
    "\"Rank_in_series\" int,\n",
    "\"Number_in_season\" int,\n",
    "\"Title\" text,\n",
    "\"Directed_by\" text,\n",
    "\"Original_air_date\" text,\n",
    "\"Production_code\" text,\n",
    "PRIMARY KEY (\"Film_ID\")\n",
    ");\n",
    "\n",
    "CREATE TABLE \"cinema\" (\n",
    "\"Cinema_ID\" int,\n",
    "\"Name\" text,\n",
    "\"Openning_year\" int,\n",
    "\"Capacity\" int,\n",
    "\"Location\" text,\n",
    "PRIMARY KEY (\"Cinema_ID\"));\n",
    "\n",
    "CREATE TABLE \"schedule\" (\n",
    "\"Cinema_ID\" int,\n",
    "\"Film_ID\" int,\n",
    "\"Date\" text,\n",
    "\"Show_times_per_day\" int,\n",
    "\"Price\" float,\n",
    "PRIMARY KEY (\"Cinema_ID\",\"Film_ID\"),\n",
    "FOREIGN KEY (`Film_ID`) REFERENCES `film`(`Film_ID`),\n",
    "FOREIGN KEY (`Cinema_ID`) REFERENCES `cinema`(`Cinema_ID`)\n",
    ");\n",
    "\n",
    "### Answer\n",
    "Given the database schema, here is the SQLite query that answers [QUESTION]{question}[/QUESTION]\n",
    "[SQL]\n",
    "\"\"\"\n",
    "\n",
    "# Store each prompt and its corresponding DB name\n",
    "dbs = [\n",
    "    (\"department_management\", department_prompt),\n",
    "    (\"farm\", farm_prompt),\n",
    "    (\"aircraft\", aircraft_prompt),\n",
    "    (\"architecture\", architecture_prompt),\n",
    "    (\"cinema\", cinema_prompt),\n",
    "]"
   ]
  },
  {
   "cell_type": "code",
   "execution_count": 4,
   "metadata": {},
   "outputs": [
    {
     "name": "stdout",
     "output_type": "stream",
     "text": [
      "🔍 Evaluating department_management (16 questions)\n"
     ]
    },
    {
     "name": "stderr",
     "output_type": "stream",
     "text": [
      "department_management:   0%|          | 0/16 [00:00<?, ?it/s]c:\\Users\\zly20\\AppData\\Local\\Programs\\Python\\Python311\\Lib\\site-packages\\transformers\\generation\\configuration_utils.py:628: UserWarning: `do_sample` is set to `False`. However, `temperature` is set to `0.6` -- this flag is only used in sample-based generation modes. You should set `do_sample=True` or unset `temperature`.\n",
      "  warnings.warn(\n",
      "c:\\Users\\zly20\\AppData\\Local\\Programs\\Python\\Python311\\Lib\\site-packages\\transformers\\generation\\configuration_utils.py:633: UserWarning: `do_sample` is set to `False`. However, `top_p` is set to `0.95` -- this flag is only used in sample-based generation modes. You should set `do_sample=True` or unset `top_p`.\n",
      "  warnings.warn(\n",
      "department_management:   6%|▋         | 1/16 [00:03<00:45,  3.05s/it]c:\\Users\\zly20\\AppData\\Local\\Programs\\Python\\Python311\\Lib\\site-packages\\transformers\\generation\\configuration_utils.py:628: UserWarning: `do_sample` is set to `False`. However, `temperature` is set to `0.6` -- this flag is only used in sample-based generation modes. You should set `do_sample=True` or unset `temperature`.\n",
      "  warnings.warn(\n",
      "c:\\Users\\zly20\\AppData\\Local\\Programs\\Python\\Python311\\Lib\\site-packages\\transformers\\generation\\configuration_utils.py:633: UserWarning: `do_sample` is set to `False`. However, `top_p` is set to `0.95` -- this flag is only used in sample-based generation modes. You should set `do_sample=True` or unset `top_p`.\n",
      "  warnings.warn(\n",
      "department_management:  12%|█▎        | 2/16 [00:06<00:43,  3.11s/it]c:\\Users\\zly20\\AppData\\Local\\Programs\\Python\\Python311\\Lib\\site-packages\\transformers\\generation\\configuration_utils.py:628: UserWarning: `do_sample` is set to `False`. However, `temperature` is set to `0.6` -- this flag is only used in sample-based generation modes. You should set `do_sample=True` or unset `temperature`.\n",
      "  warnings.warn(\n",
      "c:\\Users\\zly20\\AppData\\Local\\Programs\\Python\\Python311\\Lib\\site-packages\\transformers\\generation\\configuration_utils.py:633: UserWarning: `do_sample` is set to `False`. However, `top_p` is set to `0.95` -- this flag is only used in sample-based generation modes. You should set `do_sample=True` or unset `top_p`.\n",
      "  warnings.warn(\n",
      "department_management:  19%|█▉        | 3/16 [00:09<00:39,  3.05s/it]"
     ]
    },
    {
     "name": "stdout",
     "output_type": "stream",
     "text": [
      "Query failed: Execution failed on sql '\n",
      "SELECT dDepartment_ID,\n",
      "       dName,\n",
      "       dBudget_in_Billions,\n",
      "       dCreation,\n",
      "       dNum_Employees\n",
      "FROM department': no such column: dDepartment_ID\n"
     ]
    },
    {
     "name": "stderr",
     "output_type": "stream",
     "text": [
      "c:\\Users\\zly20\\AppData\\Local\\Programs\\Python\\Python311\\Lib\\site-packages\\transformers\\generation\\configuration_utils.py:628: UserWarning: `do_sample` is set to `False`. However, `temperature` is set to `0.6` -- this flag is only used in sample-based generation modes. You should set `do_sample=True` or unset `temperature`.\n",
      "  warnings.warn(\n",
      "c:\\Users\\zly20\\AppData\\Local\\Programs\\Python\\Python311\\Lib\\site-packages\\transformers\\generation\\configuration_utils.py:633: UserWarning: `do_sample` is set to `False`. However, `top_p` is set to `0.95` -- this flag is only used in sample-based generation modes. You should set `do_sample=True` or unset `top_p`.\n",
      "  warnings.warn(\n",
      "department_management:  25%|██▌       | 4/16 [00:11<00:34,  2.90s/it]c:\\Users\\zly20\\AppData\\Local\\Programs\\Python\\Python311\\Lib\\site-packages\\transformers\\generation\\configuration_utils.py:628: UserWarning: `do_sample` is set to `False`. However, `temperature` is set to `0.6` -- this flag is only used in sample-based generation modes. You should set `do_sample=True` or unset `temperature`.\n",
      "  warnings.warn(\n",
      "c:\\Users\\zly20\\AppData\\Local\\Programs\\Python\\Python311\\Lib\\site-packages\\transformers\\generation\\configuration_utils.py:633: UserWarning: `do_sample` is set to `False`. However, `top_p` is set to `0.95` -- this flag is only used in sample-based generation modes. You should set `do_sample=True` or unset `top_p`.\n",
      "  warnings.warn(\n",
      "department_management:  31%|███▏      | 5/16 [00:14<00:32,  2.94s/it]"
     ]
    },
    {
     "name": "stdout",
     "output_type": "stream",
     "text": [
      "Query failed: Execution failed on sql '\n",
      "SELECT Avg(Num_Employees) AS Average_Employees\n",
      "FROM management\n",
      "WHERE Department_ID IN\n",
      "    (SELECT Department_ID\n",
      "     FROM department\n",
      "     WHERE Ranking >= 10\n",
      "       AND Ranking <= 15);': no such column: Num_Employees\n"
     ]
    },
    {
     "name": "stderr",
     "output_type": "stream",
     "text": [
      "c:\\Users\\zly20\\AppData\\Local\\Programs\\Python\\Python311\\Lib\\site-packages\\transformers\\generation\\configuration_utils.py:628: UserWarning: `do_sample` is set to `False`. However, `temperature` is set to `0.6` -- this flag is only used in sample-based generation modes. You should set `do_sample=True` or unset `temperature`.\n",
      "  warnings.warn(\n",
      "c:\\Users\\zly20\\AppData\\Local\\Programs\\Python\\Python311\\Lib\\site-packages\\transformers\\generation\\configuration_utils.py:633: UserWarning: `do_sample` is set to `False`. However, `top_p` is set to `0.95` -- this flag is only used in sample-based generation modes. You should set `do_sample=True` or unset `top_p`.\n",
      "  warnings.warn(\n",
      "department_management:  38%|███▊      | 6/16 [00:18<00:30,  3.05s/it]"
     ]
    },
    {
     "name": "stdout",
     "output_type": "stream",
     "text": [
      "Query failed: Execution failed on sql '\n",
      "SELECT h.name\n",
      "FROM head\n",
      "WHERE h.born_state != 'California';': no such column: h.name\n"
     ]
    },
    {
     "name": "stderr",
     "output_type": "stream",
     "text": [
      "c:\\Users\\zly20\\AppData\\Local\\Programs\\Python\\Python311\\Lib\\site-packages\\transformers\\generation\\configuration_utils.py:628: UserWarning: `do_sample` is set to `False`. However, `temperature` is set to `0.6` -- this flag is only used in sample-based generation modes. You should set `do_sample=True` or unset `temperature`.\n",
      "  warnings.warn(\n",
      "c:\\Users\\zly20\\AppData\\Local\\Programs\\Python\\Python311\\Lib\\site-packages\\transformers\\generation\\configuration_utils.py:633: UserWarning: `do_sample` is set to `False`. However, `top_p` is set to `0.95` -- this flag is only used in sample-based generation modes. You should set `do_sample=True` or unset `top_p`.\n",
      "  warnings.warn(\n",
      "department_management:  44%|████▍     | 7/16 [00:21<00:27,  3.08s/it]"
     ]
    },
    {
     "name": "stdout",
     "output_type": "stream",
     "text": [
      "Query failed: Execution failed on sql '\n",
      "SELECT DISTINCT c.Creation,\n",
      "                m.Budget_in_Billions\n",
      "FROM \"department\" AS d,\n",
      "     \"C management\" AS m\n",
      "WHERE m(head_ID) = dDepartment_ID\n",
      "  AND d.Name = 'Alabama';': no such table: C management\n"
     ]
    },
    {
     "name": "stderr",
     "output_type": "stream",
     "text": [
      "c:\\Users\\zly20\\AppData\\Local\\Programs\\Python\\Python311\\Lib\\site-packages\\transformers\\generation\\configuration_utils.py:628: UserWarning: `do_sample` is set to `False`. However, `temperature` is set to `0.6` -- this flag is only used in sample-based generation modes. You should set `do_sample=True` or unset `temperature`.\n",
      "  warnings.warn(\n",
      "c:\\Users\\zly20\\AppData\\Local\\Programs\\Python\\Python311\\Lib\\site-packages\\transformers\\generation\\configuration_utils.py:633: UserWarning: `do_sample` is set to `False`. However, `top_p` is set to `0.95` -- this flag is only used in sample-based generation modes. You should set `do_sample=True` or unset `top_p`.\n",
      "  warnings.warn(\n",
      "department_management:  50%|█████     | 8/16 [00:24<00:26,  3.26s/it]"
     ]
    },
    {
     "name": "stdout",
     "output_type": "stream",
     "text": [
      "Query failed: Execution failed on sql '\n",
      "SELECT DISTINCT s.name\n",
      "FROM\n",
      "  (SELECT h.name\n",
      "   FROM head h\n",
      "   WHERE h.age >= 3) AS h1\n",
      "FROM department d\n",
      "WHERE d.department_ID IN\n",
      "    (SELECT d.department_ID\n",
      "     FROM management m\n",
      "     WHERE m.head_ID = h1.head_ID)': near \"FROM\": syntax error\n"
     ]
    },
    {
     "name": "stderr",
     "output_type": "stream",
     "text": [
      "c:\\Users\\zly20\\AppData\\Local\\Programs\\Python\\Python311\\Lib\\site-packages\\transformers\\generation\\configuration_utils.py:628: UserWarning: `do_sample` is set to `False`. However, `temperature` is set to `0.6` -- this flag is only used in sample-based generation modes. You should set `do_sample=True` or unset `temperature`.\n",
      "  warnings.warn(\n",
      "c:\\Users\\zly20\\AppData\\Local\\Programs\\Python\\Python311\\Lib\\site-packages\\transformers\\generation\\configuration_utils.py:633: UserWarning: `do_sample` is set to `False`. However, `top_p` is set to `0.95` -- this flag is only used in sample-based generation modes. You should set `do_sample=True` or unset `top_p`.\n",
      "  warnings.warn(\n",
      "department_management:  56%|█████▋    | 9/16 [00:28<00:22,  3.26s/it]c:\\Users\\zly20\\AppData\\Local\\Programs\\Python\\Python311\\Lib\\site-packages\\transformers\\generation\\configuration_utils.py:628: UserWarning: `do_sample` is set to `False`. However, `temperature` is set to `0.6` -- this flag is only used in sample-based generation modes. You should set `do_sample=True` or unset `temperature`.\n",
      "  warnings.warn(\n",
      "c:\\Users\\zly20\\AppData\\Local\\Programs\\Python\\Python311\\Lib\\site-packages\\transformers\\generation\\configuration_utils.py:633: UserWarning: `do_sample` is set to `False`. However, `top_p` is set to `0.95` -- this flag is only used in sample-based generation modes. You should set `do_sample=True` or unset `top_p`.\n",
      "  warnings.warn(\n",
      "department_management:  62%|██████▎   | 10/16 [00:30<00:18,  3.01s/it]c:\\Users\\zly20\\AppData\\Local\\Programs\\Python\\Python311\\Lib\\site-packages\\transformers\\generation\\configuration_utils.py:628: UserWarning: `do_sample` is set to `False`. However, `temperature` is set to `0.6` -- this flag is only used in sample-based generation modes. You should set `do_sample=True` or unset `temperature`.\n",
      "  warnings.warn(\n",
      "c:\\Users\\zly20\\AppData\\Local\\Programs\\Python\\Python311\\Lib\\site-packages\\transformers\\generation\\configuration_utils.py:633: UserWarning: `do_sample` is set to `False`. However, `top_p` is set to `0.95` -- this flag is only used in sample-based generation modes. You should set `do_sample=True` or unset `top_p`.\n",
      "  warnings.warn(\n",
      "department_management:  69%|██████▉   | 11/16 [00:32<00:13,  2.71s/it]c:\\Users\\zly20\\AppData\\Local\\Programs\\Python\\Python311\\Lib\\site-packages\\transformers\\generation\\configuration_utils.py:628: UserWarning: `do_sample` is set to `False`. However, `temperature` is set to `0.6` -- this flag is only used in sample-based generation modes. You should set `do_sample=True` or unset `temperature`.\n",
      "  warnings.warn(\n",
      "c:\\Users\\zly20\\AppData\\Local\\Programs\\Python\\Python311\\Lib\\site-packages\\transformers\\generation\\configuration_utils.py:633: UserWarning: `do_sample` is set to `False`. However, `top_p` is set to `0.95` -- this flag is only used in sample-based generation modes. You should set `do_sample=True` or unset `top_p`.\n",
      "  warnings.warn(\n",
      "department_management:  75%|███████▌  | 12/16 [00:35<00:10,  2.75s/it]"
     ]
    },
    {
     "name": "stdout",
     "output_type": "stream",
     "text": [
      "Query failed: Execution failed on sql '\n",
      "SELECT COUNT(*)\n",
      "FROM management\n",
      "WHERE NOT EXISTS (\"head\"\n",
      "                  WHERE \"head_ID\" IN (\"management\"[\"head_ID\"]));': near \"\"head\"\": syntax error\n"
     ]
    },
    {
     "name": "stderr",
     "output_type": "stream",
     "text": [
      "c:\\Users\\zly20\\AppData\\Local\\Programs\\Python\\Python311\\Lib\\site-packages\\transformers\\generation\\configuration_utils.py:628: UserWarning: `do_sample` is set to `False`. However, `temperature` is set to `0.6` -- this flag is only used in sample-based generation modes. You should set `do_sample=True` or unset `temperature`.\n",
      "  warnings.warn(\n",
      "c:\\Users\\zly20\\AppData\\Local\\Programs\\Python\\Python311\\Lib\\site-packages\\transformers\\generation\\configuration_utils.py:633: UserWarning: `do_sample` is set to `False`. However, `top_p` is set to `0.95` -- this flag is only used in sample-based generation modes. You should set `do_sample=True` or unset `top_p`.\n",
      "  warnings.warn(\n",
      "department_management:  81%|████████▏ | 13/16 [00:38<00:08,  2.81s/it]"
     ]
    },
    {
     "name": "stdout",
     "output_type": "stream",
     "text": [
      "Query failed: Execution failed on sql '\n",
      "SELECT DISTINCT age\n",
      "FROM head\n",
      "WHERE management\n",
      "  AND head have a relationship where management's department ID is not null and head's ID is not null.': near \"have\": syntax error\n"
     ]
    },
    {
     "name": "stderr",
     "output_type": "stream",
     "text": [
      "c:\\Users\\zly20\\AppData\\Local\\Programs\\Python\\Python311\\Lib\\site-packages\\transformers\\generation\\configuration_utils.py:628: UserWarning: `do_sample` is set to `False`. However, `temperature` is set to `0.6` -- this flag is only used in sample-based generation modes. You should set `do_sample=True` or unset `temperature`.\n",
      "  warnings.warn(\n",
      "c:\\Users\\zly20\\AppData\\Local\\Programs\\Python\\Python311\\Lib\\site-packages\\transformers\\generation\\configuration_utils.py:633: UserWarning: `do_sample` is set to `False`. However, `top_p` is set to `0.95` -- this flag is only used in sample-based generation modes. You should set `do_sample=True` or unset `top_p`.\n",
      "  warnings.warn(\n",
      "department_management:  88%|████████▊ | 14/16 [00:42<00:06,  3.10s/it]"
     ]
    },
    {
     "name": "stdout",
     "output_type": "stream",
     "text": [
      "Query failed: Execution failed on sql '\n",
      "SELECT s.born_state\n",
      "FROM head h\n",
      "JOIN department d ON h.department_ID = d.department_ID\n",
      "JOIN management m ON m.department_ID = d.department_ID\n",
      "WHERE h.name = 'Treasury'\n",
      "  AND h.name = 'Homeland Security'': no such column: s.born_state\n"
     ]
    },
    {
     "name": "stderr",
     "output_type": "stream",
     "text": [
      "c:\\Users\\zly20\\AppData\\Local\\Programs\\Python\\Python311\\Lib\\site-packages\\transformers\\generation\\configuration_utils.py:628: UserWarning: `do_sample` is set to `False`. However, `temperature` is set to `0.6` -- this flag is only used in sample-based generation modes. You should set `do_sample=True` or unset `temperature`.\n",
      "  warnings.warn(\n",
      "c:\\Users\\zly20\\AppData\\Local\\Programs\\Python\\Python311\\Lib\\site-packages\\transformers\\generation\\configuration_utils.py:633: UserWarning: `do_sample` is set to `False`. However, `top_p` is set to `0.95` -- this flag is only used in sample-based generation modes. You should set `do_sample=True` or unset `top_p`.\n",
      "  warnings.warn(\n",
      "department_management:  94%|█████████▍| 15/16 [00:45<00:03,  3.15s/it]"
     ]
    },
    {
     "name": "stdout",
     "output_type": "stream",
     "text": [
      "Query failed: Execution failed on sql '\n",
      "SELECT d.Department_ID,\n",
      "       d.Name,\n",
      "       hNum\n",
      "FROM department d\n",
      "LEFT JOIN head h ON d.Department_ID = h.department_ID\n",
      "WHERE h.head_ID > 0': no such column: hNum\n"
     ]
    },
    {
     "name": "stderr",
     "output_type": "stream",
     "text": [
      "c:\\Users\\zly20\\AppData\\Local\\Programs\\Python\\Python311\\Lib\\site-packages\\transformers\\generation\\configuration_utils.py:628: UserWarning: `do_sample` is set to `False`. However, `temperature` is set to `0.6` -- this flag is only used in sample-based generation modes. You should set `do_sample=True` or unset `temperature`.\n",
      "  warnings.warn(\n",
      "c:\\Users\\zly20\\AppData\\Local\\Programs\\Python\\Python311\\Lib\\site-packages\\transformers\\generation\\configuration_utils.py:633: UserWarning: `do_sample` is set to `False`. However, `top_p` is set to `0.95` -- this flag is only used in sample-based generation modes. You should set `do_sample=True` or unset `top_p`.\n",
      "  warnings.warn(\n",
      "department_management: 100%|██████████| 16/16 [00:48<00:00,  3.01s/it]\n"
     ]
    },
    {
     "name": "stdout",
     "output_type": "stream",
     "text": [
      "Query failed: Execution failed on sql '\n",
      "SELECT h\n",
      "FROM head\n",
      "WHERE h.name LIKE '%Ha%'\n",
      "  OR h.name LIKE 'Ha%';': no such column: h\n",
      "✅ Accuracy for department_management: 0/16 = 0.00%\n",
      "🔍 Evaluating farm (40 questions)\n"
     ]
    },
    {
     "name": "stderr",
     "output_type": "stream",
     "text": [
      "farm:   0%|          | 0/40 [00:00<?, ?it/s]c:\\Users\\zly20\\AppData\\Local\\Programs\\Python\\Python311\\Lib\\site-packages\\transformers\\generation\\configuration_utils.py:628: UserWarning: `do_sample` is set to `False`. However, `temperature` is set to `0.6` -- this flag is only used in sample-based generation modes. You should set `do_sample=True` or unset `temperature`.\n",
      "  warnings.warn(\n",
      "c:\\Users\\zly20\\AppData\\Local\\Programs\\Python\\Python311\\Lib\\site-packages\\transformers\\generation\\configuration_utils.py:633: UserWarning: `do_sample` is set to `False`. However, `top_p` is set to `0.95` -- this flag is only used in sample-based generation modes. You should set `do_sample=True` or unset `top_p`.\n",
      "  warnings.warn(\n",
      "farm:   2%|▎         | 1/40 [00:02<01:32,  2.37s/it]c:\\Users\\zly20\\AppData\\Local\\Programs\\Python\\Python311\\Lib\\site-packages\\transformers\\generation\\configuration_utils.py:628: UserWarning: `do_sample` is set to `False`. However, `temperature` is set to `0.6` -- this flag is only used in sample-based generation modes. You should set `do_sample=True` or unset `temperature`.\n",
      "  warnings.warn(\n",
      "c:\\Users\\zly20\\AppData\\Local\\Programs\\Python\\Python311\\Lib\\site-packages\\transformers\\generation\\configuration_utils.py:633: UserWarning: `do_sample` is set to `False`. However, `top_p` is set to `0.95` -- this flag is only used in sample-based generation modes. You should set `do_sample=True` or unset `top_p`.\n",
      "  warnings.warn(\n",
      "farm:   5%|▌         | 2/40 [00:03<01:03,  1.66s/it]c:\\Users\\zly20\\AppData\\Local\\Programs\\Python\\Python311\\Lib\\site-packages\\transformers\\generation\\configuration_utils.py:628: UserWarning: `do_sample` is set to `False`. However, `temperature` is set to `0.6` -- this flag is only used in sample-based generation modes. You should set `do_sample=True` or unset `temperature`.\n",
      "  warnings.warn(\n",
      "c:\\Users\\zly20\\AppData\\Local\\Programs\\Python\\Python311\\Lib\\site-packages\\transformers\\generation\\configuration_utils.py:633: UserWarning: `do_sample` is set to `False`. However, `top_p` is set to `0.95` -- this flag is only used in sample-based generation modes. You should set `do_sample=True` or unset `top_p`.\n",
      "  warnings.warn(\n",
      "farm:   8%|▊         | 3/40 [00:05<01:06,  1.79s/it]"
     ]
    },
    {
     "name": "stdout",
     "output_type": "stream",
     "text": [
      "Query failed: Execution failed on sql '\n",
      "SELECT SUM(Horses) AS Total_Horses\n",
      "FROM farm;': no such column: Horses\n"
     ]
    },
    {
     "name": "stderr",
     "output_type": "stream",
     "text": [
      "c:\\Users\\zly20\\AppData\\Local\\Programs\\Python\\Python311\\Lib\\site-packages\\transformers\\generation\\configuration_utils.py:628: UserWarning: `do_sample` is set to `False`. However, `temperature` is set to `0.6` -- this flag is only used in sample-based generation modes. You should set `do_sample=True` or unset `temperature`.\n",
      "  warnings.warn(\n",
      "c:\\Users\\zly20\\AppData\\Local\\Programs\\Python\\Python311\\Lib\\site-packages\\transformers\\generation\\configuration_utils.py:633: UserWarning: `do_sample` is set to `False`. However, `top_p` is set to `0.95` -- this flag is only used in sample-based generation modes. You should set `do_sample=True` or unset `top_p`.\n",
      "  warnings.warn(\n",
      "farm:  10%|█         | 4/40 [00:08<01:27,  2.44s/it]"
     ]
    },
    {
     "name": "stdout",
     "output_type": "stream",
     "text": [
      "Query failed: Execution failed on sql '\n",
      "SELECT FARM_ID,\n",
      "       Total_Horses FROMFarm;': no such column: FARM_ID\n"
     ]
    },
    {
     "name": "stderr",
     "output_type": "stream",
     "text": [
      "c:\\Users\\zly20\\AppData\\Local\\Programs\\Python\\Python311\\Lib\\site-packages\\transformers\\generation\\configuration_utils.py:628: UserWarning: `do_sample` is set to `False`. However, `temperature` is set to `0.6` -- this flag is only used in sample-based generation modes. You should set `do_sample=True` or unset `temperature`.\n",
      "  warnings.warn(\n",
      "c:\\Users\\zly20\\AppData\\Local\\Programs\\Python\\Python311\\Lib\\site-packages\\transformers\\generation\\configuration_utils.py:633: UserWarning: `do_sample` is set to `False`. However, `top_p` is set to `0.95` -- this flag is only used in sample-based generation modes. You should set `do_sample=True` or unset `top_p`.\n",
      "  warnings.warn(\n",
      "farm:  12%|█▎        | 5/40 [00:12<01:37,  2.79s/it]"
     ]
    },
    {
     "name": "stdout",
     "output_type": "stream",
     "text": [
      "Query failed: Execution failed on sql '\n",
      "SELECT c.Farm_ID,\n",
      "       c.Year,\n",
      "       c.Rank,\n",
      "       c.Farm_ID,\n",
      "       c.Year,\n",
      "       c.Rank,\n",
      "       c.Farm_ID,\n",
      "       c.Year,\n",
      "       c.Rank,\n",
      "       c.Farm_ID,\n",
      "       c.Year,\n",
      "       c.Rank,\n",
      "       c.Farm_ID,\n",
      "       c.Year,\n",
      "       c.Rank,\n",
      "       c.Farm_ID,\n",
      "       c.Year,\n",
      "       c.Rank,\n",
      "       c.Farm_ID,\n",
      "       c.Year,\n",
      "       c.Rank,\n",
      "       c.Farm_ID,\n",
      "       c.Year,\n",
      "       c.Rank,\n",
      "       c.Farm_ID,\n",
      "       c.Year,\n",
      "       c.Rank,\n",
      "       c.Farm_ID,\n",
      "       c.Year,\n",
      "       c.Rank,\n",
      "       c.Farm_ID,\n",
      "       c.Year,\n",
      "       c.Rank,': incomplete input\n"
     ]
    },
    {
     "name": "stderr",
     "output_type": "stream",
     "text": [
      "c:\\Users\\zly20\\AppData\\Local\\Programs\\Python\\Python311\\Lib\\site-packages\\transformers\\generation\\configuration_utils.py:628: UserWarning: `do_sample` is set to `False`. However, `temperature` is set to `0.6` -- this flag is only used in sample-based generation modes. You should set `do_sample=True` or unset `temperature`.\n",
      "  warnings.warn(\n",
      "c:\\Users\\zly20\\AppData\\Local\\Programs\\Python\\Python311\\Lib\\site-packages\\transformers\\generation\\configuration_utils.py:633: UserWarning: `do_sample` is set to `False`. However, `top_p` is set to `0.95` -- this flag is only used in sample-based generation modes. You should set `do_sample=True` or unset `top_p`.\n",
      "  warnings.warn(\n",
      "farm:  15%|█▌        | 6/40 [00:15<01:42,  3.01s/it]"
     ]
    },
    {
     "name": "stdout",
     "output_type": "stream",
     "text": [
      "Query failed: Execution failed on sql '\n",
      "SELECT Hosts\n",
      "FROM competition_record\n",
      "WHERE Rank = 0\n",
      "  OR Theme != 'Aliens';': no such column: Hosts\n"
     ]
    },
    {
     "name": "stderr",
     "output_type": "stream",
     "text": [
      "c:\\Users\\zly20\\AppData\\Local\\Programs\\Python\\Python311\\Lib\\site-packages\\transformers\\generation\\configuration_utils.py:628: UserWarning: `do_sample` is set to `False`. However, `temperature` is set to `0.6` -- this flag is only used in sample-based generation modes. You should set `do_sample=True` or unset `temperature`.\n",
      "  warnings.warn(\n",
      "c:\\Users\\zly20\\AppData\\Local\\Programs\\Python\\Python311\\Lib\\site-packages\\transformers\\generation\\configuration_utils.py:633: UserWarning: `do_sample` is set to `False`. However, `top_p` is set to `0.95` -- this flag is only used in sample-based generation modes. You should set `do_sample=True` or unset `top_p`.\n",
      "  warnings.warn(\n",
      "farm:  20%|██        | 8/40 [00:21<01:32,  2.88s/it]"
     ]
    },
    {
     "name": "stdout",
     "output_type": "stream",
     "text": [
      "Query failed: Execution failed on sql '\n",
      "SELECT t.Theme,\n",
      "       t.Host_city_ID,\n",
      "       t Host_city_ID,\n",
      "       t Host,\n",
      "         t Host,\n",
      "           t Host,\n",
      "             t Host,\n",
      "               t Host,\n",
      "                 t Host,\n",
      "                   t Host,\n",
      "                     t Host,\n",
      "                       t Host,\n",
      "                         t Host,\n",
      "                           t Host,\n",
      "                             t Host,\n",
      "                               t Host,\n",
      "                                 t Host,\n",
      "                                   t Host,\n",
      "                                     t Host,\n",
      "                                       t Host,\n",
      "                                         t Host,\n",
      "                                           t Host,\n",
      "                                             t Host,\n",
      "                                               t Host,\n",
      "                                                 t Host,\n",
      "                                                   t Host,\n",
      "                                                     t Host,\n",
      "                                                       t Host,\n",
      "                                                         t Host,\n",
      "                                                           t Host,\n",
      "                                                             t Host,\n",
      "                                                               t Host,\n",
      "                                                                 t Host,\n",
      "                                                                   t Host,\n",
      "                                                                     t Host,\n",
      "                                                                       t Host,\n",
      "                                                                         t Host,\n",
      "                                                                           t Host,\n",
      "                                                                             t Host,\n",
      "                                                                               t Host,': incomplete input\n"
     ]
    },
    {
     "name": "stderr",
     "output_type": "stream",
     "text": [
      "c:\\Users\\zly20\\AppData\\Local\\Programs\\Python\\Python311\\Lib\\site-packages\\transformers\\generation\\configuration_utils.py:628: UserWarning: `do_sample` is set to `False`. However, `temperature` is set to `0.6` -- this flag is only used in sample-based generation modes. You should set `do_sample=True` or unset `temperature`.\n",
      "  warnings.warn(\n",
      "c:\\Users\\zly20\\AppData\\Local\\Programs\\Python\\Python311\\Lib\\site-packages\\transformers\\generation\\configuration_utils.py:633: UserWarning: `do_sample` is set to `False`. However, `top_p` is set to `0.95` -- this flag is only used in sample-based generation modes. You should set `do_sample=True` or unset `top_p`.\n",
      "  warnings.warn(\n",
      "farm:  22%|██▎       | 9/40 [00:24<01:27,  2.82s/it]"
     ]
    },
    {
     "name": "stdout",
     "output_type": "stream",
     "text": [
      "Query failed: Execution failed on sql 'SELECT ...\n",
      "FROM ... WHERE ...;': near \".\": syntax error\n"
     ]
    },
    {
     "name": "stderr",
     "output_type": "stream",
     "text": [
      "c:\\Users\\zly20\\AppData\\Local\\Programs\\Python\\Python311\\Lib\\site-packages\\transformers\\generation\\configuration_utils.py:628: UserWarning: `do_sample` is set to `False`. However, `temperature` is set to `0.6` -- this flag is only used in sample-based generation modes. You should set `do_sample=True` or unset `temperature`.\n",
      "  warnings.warn(\n",
      "c:\\Users\\zly20\\AppData\\Local\\Programs\\Python\\Python311\\Lib\\site-packages\\transformers\\generation\\configuration_utils.py:633: UserWarning: `do_sample` is set to `False`. However, `top_p` is set to `0.95` -- this flag is only used in sample-based generation modes. You should set `do_sample=True` or unset `top_p`.\n",
      "  warnings.warn(\n",
      "farm:  25%|██▌       | 10/40 [00:27<01:27,  2.90s/it]c:\\Users\\zly20\\AppData\\Local\\Programs\\Python\\Python311\\Lib\\site-packages\\transformers\\generation\\configuration_utils.py:628: UserWarning: `do_sample` is set to `False`. However, `temperature` is set to `0.6` -- this flag is only used in sample-based generation modes. You should set `do_sample=True` or unset `temperature`.\n",
      "  warnings.warn(\n",
      "c:\\Users\\zly20\\AppData\\Local\\Programs\\Python\\Python311\\Lib\\site-packages\\transformers\\generation\\configuration_utils.py:633: UserWarning: `do_sample` is set to `False`. However, `top_p` is set to `0.95` -- this flag is only used in sample-based generation modes. You should set `do_sample=True` or unset `top_p`.\n",
      "  warnings.warn(\n",
      "farm:  28%|██▊       | 11/40 [00:31<01:33,  3.22s/it]c:\\Users\\zly20\\AppData\\Local\\Programs\\Python\\Python311\\Lib\\site-packages\\transformers\\generation\\configuration_utils.py:628: UserWarning: `do_sample` is set to `False`. However, `temperature` is set to `0.6` -- this flag is only used in sample-based generation modes. You should set `do_sample=True` or unset `temperature`.\n",
      "  warnings.warn(\n",
      "c:\\Users\\zly20\\AppData\\Local\\Programs\\Python\\Python311\\Lib\\site-packages\\transformers\\generation\\configuration_utils.py:633: UserWarning: `do_sample` is set to `False`. However, `top_p` is set to `0.95` -- this flag is only used in sample-based generation modes. You should set `do_sample=True` or unset `top_p`.\n",
      "  warnings.warn(\n",
      "farm:  30%|███       | 12/40 [00:34<01:32,  3.30s/it]c:\\Users\\zly20\\AppData\\Local\\Programs\\Python\\Python311\\Lib\\site-packages\\transformers\\generation\\configuration_utils.py:628: UserWarning: `do_sample` is set to `False`. However, `temperature` is set to `0.6` -- this flag is only used in sample-based generation modes. You should set `do_sample=True` or unset `temperature`.\n",
      "  warnings.warn(\n",
      "c:\\Users\\zly20\\AppData\\Local\\Programs\\Python\\Python311\\Lib\\site-packages\\transformers\\generation\\configuration_utils.py:633: UserWarning: `do_sample` is set to `False`. However, `top_p` is set to `0.95` -- this flag is only used in sample-based generation modes. You should set `do_sample=True` or unset `top_p`.\n",
      "  warnings.warn(\n",
      "farm:  32%|███▎      | 13/40 [00:35<01:11,  2.65s/it]c:\\Users\\zly20\\AppData\\Local\\Programs\\Python\\Python311\\Lib\\site-packages\\transformers\\generation\\configuration_utils.py:628: UserWarning: `do_sample` is set to `False`. However, `temperature` is set to `0.6` -- this flag is only used in sample-based generation modes. You should set `do_sample=True` or unset `temperature`.\n",
      "  warnings.warn(\n",
      "c:\\Users\\zly20\\AppData\\Local\\Programs\\Python\\Python311\\Lib\\site-packages\\transformers\\generation\\configuration_utils.py:633: UserWarning: `do_sample` is set to `False`. However, `top_p` is set to `0.95` -- this flag is only used in sample-based generation modes. You should set `do_sample=True` or unset `top_p`.\n",
      "  warnings.warn(\n",
      "farm:  35%|███▌      | 14/40 [00:36<00:54,  2.11s/it]c:\\Users\\zly20\\AppData\\Local\\Programs\\Python\\Python311\\Lib\\site-packages\\transformers\\generation\\configuration_utils.py:628: UserWarning: `do_sample` is set to `False`. However, `temperature` is set to `0.6` -- this flag is only used in sample-based generation modes. You should set `do_sample=True` or unset `temperature`.\n",
      "  warnings.warn(\n",
      "c:\\Users\\zly20\\AppData\\Local\\Programs\\Python\\Python311\\Lib\\site-packages\\transformers\\generation\\configuration_utils.py:633: UserWarning: `do_sample` is set to `False`. However, `top_p` is set to `0.95` -- this flag is only used in sample-based generation modes. You should set `do_sample=True` or unset `top_p`.\n",
      "  warnings.warn(\n",
      "farm:  38%|███▊      | 15/40 [00:39<00:56,  2.28s/it]"
     ]
    },
    {
     "name": "stdout",
     "output_type": "stream",
     "text": [
      "Query failed: Execution failed on sql '\n",
      "SELECT City Official_Name,\n",
      "       Population DESC,\n",
      "       State,\n",
      "       Area_km_2,\n",
      "       Census_Ranking,\n",
      "       Rank,\n",
      "       State,\n",
      "       Area_km_2,\n",
      "       Census_Ranking,\n",
      "       Rank\n",
      "FROM city\n",
      "ORDER BY Population DESC': no such column: City\n"
     ]
    },
    {
     "name": "stderr",
     "output_type": "stream",
     "text": [
      "c:\\Users\\zly20\\AppData\\Local\\Programs\\Python\\Python311\\Lib\\site-packages\\transformers\\generation\\configuration_utils.py:628: UserWarning: `do_sample` is set to `False`. However, `temperature` is set to `0.6` -- this flag is only used in sample-based generation modes. You should set `do_sample=True` or unset `temperature`.\n",
      "  warnings.warn(\n",
      "c:\\Users\\zly20\\AppData\\Local\\Programs\\Python\\Python311\\Lib\\site-packages\\transformers\\generation\\configuration_utils.py:633: UserWarning: `do_sample` is set to `False`. However, `top_p` is set to `0.95` -- this flag is only used in sample-based generation modes. You should set `do_sample=True` or unset `top_p`.\n",
      "  warnings.warn(\n",
      "farm:  40%|████      | 16/40 [00:42<00:58,  2.44s/it]"
     ]
    },
    {
     "name": "stdout",
     "output_type": "stream",
     "text": [
      "Query failed: Execution failed on sql '\n",
      "SELECT CityOfficialName,\n",
      "       Population,\n",
      "       OrderBy(Population) AS OrderBy_Population,\n",
      "       CityID,\n",
      "       CityOfficialName\n",
      "FROM city\n",
      "ORDER BY Population DESC': no such column: CityOfficialName\n"
     ]
    },
    {
     "name": "stderr",
     "output_type": "stream",
     "text": [
      "c:\\Users\\zly20\\AppData\\Local\\Programs\\Python\\Python311\\Lib\\site-packages\\transformers\\generation\\configuration_utils.py:628: UserWarning: `do_sample` is set to `False`. However, `temperature` is set to `0.6` -- this flag is only used in sample-based generation modes. You should set `do_sample=True` or unset `temperature`.\n",
      "  warnings.warn(\n",
      "c:\\Users\\zly20\\AppData\\Local\\Programs\\Python\\Python311\\Lib\\site-packages\\transformers\\generation\\configuration_utils.py:633: UserWarning: `do_sample` is set to `False`. However, `top_p` is set to `0.95` -- this flag is only used in sample-based generation modes. You should set `do_sample=True` or unset `top_p`.\n",
      "  warnings.warn(\n",
      "farm:  45%|████▌     | 18/40 [00:49<01:06,  3.04s/it]"
     ]
    },
    {
     "name": "stdout",
     "output_type": "stream",
     "text": [
      "Query failed: Execution failed on sql '\n",
      "SELECT CityOfficialName,\n",
      "       Status,\n",
      "       Population,\n",
      "       Rank,\n",
      "       Area_km_2,\n",
      "       Census_Ranking, ..., ..., ..., ..., ..., ..., ..., ..., ..., ..., ..., ..., ..., ..., ..., ..., ..., ..., ..., ..., ..., ..., ..., ..., ..., ..., ..., ..., ..., ..., ..., ..., ..., ..., ..., ..., ..., ..., ..., ..., ..., ..., ..., ..., ..., ..., ...': near \".\": syntax error\n"
     ]
    },
    {
     "name": "stderr",
     "output_type": "stream",
     "text": [
      "c:\\Users\\zly20\\AppData\\Local\\Programs\\Python\\Python311\\Lib\\site-packages\\transformers\\generation\\configuration_utils.py:628: UserWarning: `do_sample` is set to `False`. However, `temperature` is set to `0.6` -- this flag is only used in sample-based generation modes. You should set `do_sample=True` or unset `temperature`.\n",
      "  warnings.warn(\n",
      "c:\\Users\\zly20\\AppData\\Local\\Programs\\Python\\Python311\\Lib\\site-packages\\transformers\\generation\\configuration_utils.py:633: UserWarning: `do_sample` is set to `False`. However, `top_p` is set to `0.95` -- this flag is only used in sample-based generation modes. You should set `do_sample=True` or unset `top_p`.\n",
      "  warnings.warn(\n",
      "farm:  48%|████▊     | 19/40 [00:52<01:05,  3.13s/it]"
     ]
    },
    {
     "name": "stdout",
     "output_type": "stream",
     "text": [
      "Query failed: Execution failed on sql '\n",
      "SELECT C.Farm_ID,\n",
      "       C.Year,\n",
      "       C.Farm_ID,\n",
      "       C.Year,\n",
      "       C.Farm_ID,\n",
      "       C.Year,\n",
      "       C.Farm_ID,\n",
      "       C.Year\n",
      "FROM city,\n",
      "     farm_competition,\n",
      "     competition_record,\n",
      "     farm': no such column: C.Farm_ID\n"
     ]
    },
    {
     "name": "stderr",
     "output_type": "stream",
     "text": [
      "c:\\Users\\zly20\\AppData\\Local\\Programs\\Python\\Python311\\Lib\\site-packages\\transformers\\generation\\configuration_utils.py:628: UserWarning: `do_sample` is set to `False`. However, `temperature` is set to `0.6` -- this flag is only used in sample-based generation modes. You should set `do_sample=True` or unset `temperature`.\n",
      "  warnings.warn(\n",
      "c:\\Users\\zly20\\AppData\\Local\\Programs\\Python\\Python311\\Lib\\site-packages\\transformers\\generation\\configuration_utils.py:633: UserWarning: `do_sample` is set to `False`. However, `top_p` is set to `0.95` -- this flag is only used in sample-based generation modes. You should set `do_sample=True` or unset `top_p`.\n",
      "  warnings.warn(\n",
      "farm:  50%|█████     | 20/40 [00:55<00:59,  2.99s/it]"
     ]
    },
    {
     "name": "stdout",
     "output_type": "stream",
     "text": [
      "Query failed: Execution failed on sql '\n",
      "SELECT c.Farm_ID,\n",
      "       c.Farm_ID as Host_city_ID,\n",
      "       cHosts,\n",
      "       cHosts,\n",
      "       cHosts,\n",
      "       cHosts,\n",
      "       cHosts,\n",
      "       cHosts,\n",
      "       cHosts,\n",
      "       cHosts,\n",
      "       cHosts,\n",
      "       cHosts,\n",
      "       cHosts,\n",
      "       cHosts,\n",
      "       cHosts,\n",
      "       cHosts,\n",
      "       cHosts,\n",
      "       cHosts,\n",
      "       cHosts,\n",
      "       cHosts,\n",
      "       cHosts,\n",
      "       cHosts,\n",
      "       cHosts,\n",
      "       cHosts,\n",
      "       cHosts,\n",
      "       cHosts,\n",
      "       cHosts,\n",
      "       cHosts,\n",
      "       cHosts,\n",
      "       cHosts,\n",
      "       cHosts,\n",
      "       cHosts,\n",
      "       cHosts,\n",
      "       cHosts,\n",
      "       cHosts,\n",
      "       cHosts,\n",
      "       cHosts,\n",
      "       cHosts,\n",
      "       cHosts,\n",
      "       cHosts,\n",
      "       c': no such column: c.Farm_ID\n"
     ]
    },
    {
     "name": "stderr",
     "output_type": "stream",
     "text": [
      "c:\\Users\\zly20\\AppData\\Local\\Programs\\Python\\Python311\\Lib\\site-packages\\transformers\\generation\\configuration_utils.py:628: UserWarning: `do_sample` is set to `False`. However, `temperature` is set to `0.6` -- this flag is only used in sample-based generation modes. You should set `do_sample=True` or unset `temperature`.\n",
      "  warnings.warn(\n",
      "c:\\Users\\zly20\\AppData\\Local\\Programs\\Python\\Python311\\Lib\\site-packages\\transformers\\generation\\configuration_utils.py:633: UserWarning: `do_sample` is set to `False`. However, `top_p` is set to `0.95` -- this flag is only used in sample-based generation modes. You should set `do_sample=True` or unset `top_p`.\n",
      "  warnings.warn(\n",
      "farm:  52%|█████▎    | 21/40 [00:57<00:55,  2.92s/it]c:\\Users\\zly20\\AppData\\Local\\Programs\\Python\\Python311\\Lib\\site-packages\\transformers\\generation\\configuration_utils.py:628: UserWarning: `do_sample` is set to `False`. However, `temperature` is set to `0.6` -- this flag is only used in sample-based generation modes. You should set `do_sample=True` or unset `temperature`.\n",
      "  warnings.warn(\n",
      "c:\\Users\\zly20\\AppData\\Local\\Programs\\Python\\Python311\\Lib\\site-packages\\transformers\\generation\\configuration_utils.py:633: UserWarning: `do_sample` is set to `False`. However, `top_p` is set to `0.95` -- this flag is only used in sample-based generation modes. You should set `do_sample=True` or unset `top_p`.\n",
      "  warnings.warn(\n",
      "farm:  55%|█████▌    | 22/40 [01:00<00:51,  2.86s/it]c:\\Users\\zly20\\AppData\\Local\\Programs\\Python\\Python311\\Lib\\site-packages\\transformers\\generation\\configuration_utils.py:628: UserWarning: `do_sample` is set to `False`. However, `temperature` is set to `0.6` -- this flag is only used in sample-based generation modes. You should set `do_sample=True` or unset `temperature`.\n",
      "  warnings.warn(\n",
      "c:\\Users\\zly20\\AppData\\Local\\Programs\\Python\\Python311\\Lib\\site-packages\\transformers\\generation\\configuration_utils.py:633: UserWarning: `do_sample` is set to `False`. However, `top_p` is set to `0.95` -- this flag is only used in sample-based generation modes. You should set `do_sample=True` or unset `top_p`.\n",
      "  warnings.warn(\n",
      "farm:  57%|█████▊    | 23/40 [01:03<00:49,  2.91s/it]c:\\Users\\zly20\\AppData\\Local\\Programs\\Python\\Python311\\Lib\\site-packages\\transformers\\generation\\configuration_utils.py:628: UserWarning: `do_sample` is set to `False`. However, `temperature` is set to `0.6` -- this flag is only used in sample-based generation modes. You should set `do_sample=True` or unset `temperature`.\n",
      "  warnings.warn(\n",
      "c:\\Users\\zly20\\AppData\\Local\\Programs\\Python\\Python311\\Lib\\site-packages\\transformers\\generation\\configuration_utils.py:633: UserWarning: `do_sample` is set to `False`. However, `top_p` is set to `0.95` -- this flag is only used in sample-based generation modes. You should set `do_sample=True` or unset `top_p`.\n",
      "  warnings.warn(\n"
     ]
    },
    {
     "name": "stdout",
     "output_type": "stream",
     "text": [
      "Query failed: Execution failed on sql '\n",
      "SELECT c.City_ID,\n",
      "       c.Status\n",
      "FROM competition_record c\n",
      "JOIN ON farm_competition fc\n",
      "JOIN ON city city\n",
      "WHERE c.Rank =\n",
      "    (SELECT MAX(Rank)\n",
      "     From competition_record c)': near \"ON\": syntax error\n"
     ]
    },
    {
     "name": "stderr",
     "output_type": "stream",
     "text": [
      "farm:  60%|██████    | 24/40 [01:07<00:50,  3.13s/it]"
     ]
    },
    {
     "name": "stdout",
     "output_type": "stream",
     "text": [
      "Query failed: Execution failed on sql '\n",
      "SELECT c.Farm_ID,\n",
      "       cHost_city_ID,\n",
      "       cHosts,\n",
      "       cHosts_status\n",
      "FROM competition_record c\n",
      "JOIN city c_city ON cHosts = c_cityofficial_name SELECT ...\n",
      "FROM ... WHERE ...\n",
      "ORDER BY ... LIMIT ...;': near \"SELECT\": syntax error\n"
     ]
    },
    {
     "name": "stderr",
     "output_type": "stream",
     "text": [
      "c:\\Users\\zly20\\AppData\\Local\\Programs\\Python\\Python311\\Lib\\site-packages\\transformers\\generation\\configuration_utils.py:628: UserWarning: `do_sample` is set to `False`. However, `temperature` is set to `0.6` -- this flag is only used in sample-based generation modes. You should set `do_sample=True` or unset `temperature`.\n",
      "  warnings.warn(\n",
      "c:\\Users\\zly20\\AppData\\Local\\Programs\\Python\\Python311\\Lib\\site-packages\\transformers\\generation\\configuration_utils.py:633: UserWarning: `do_sample` is set to `False`. However, `top_p` is set to `0.95` -- this flag is only used in sample-based generation modes. You should set `do_sample=True` or unset `top_p`.\n",
      "  warnings.warn(\n",
      "farm:  62%|██████▎   | 25/40 [01:11<00:50,  3.38s/it]"
     ]
    },
    {
     "name": "stdout",
     "output_type": "stream",
     "text": [
      "Query failed: Execution failed on sql '\n",
      "SELECT distinct f1.Football\n",
      "from farm_competition c,\n",
      "     farm f\n",
      "where c.Football = f.Football\n",
      "  and cHost_city_ID = fHost_city_ID\n",
      "  and fPopulation > 1000;': no such column: f1.Football\n"
     ]
    },
    {
     "name": "stderr",
     "output_type": "stream",
     "text": [
      "c:\\Users\\zly20\\AppData\\Local\\Programs\\Python\\Python311\\Lib\\site-packages\\transformers\\generation\\configuration_utils.py:628: UserWarning: `do_sample` is set to `False`. However, `temperature` is set to `0.6` -- this flag is only used in sample-based generation modes. You should set `do_sample=True` or unset `temperature`.\n",
      "  warnings.warn(\n",
      "c:\\Users\\zly20\\AppData\\Local\\Programs\\Python\\Python311\\Lib\\site-packages\\transformers\\generation\\configuration_utils.py:633: UserWarning: `do_sample` is set to `False`. However, `top_p` is set to `0.95` -- this flag is only used in sample-based generation modes. You should set `do_sample=True` or unset `top_p`.\n",
      "  warnings.warn(\n",
      "farm:  65%|██████▌   | 26/40 [01:14<00:44,  3.19s/it]"
     ]
    },
    {
     "name": "stdout",
     "output_type": "stream",
     "text": [
      "Query failed: Execution failed on sql '\n",
      "SELECT distinct \"Theme\"\n",
      "from \"competition\"\n",
      "where \"Host_city\" has a population greater than 1000.': near \"has\": syntax error\n"
     ]
    },
    {
     "name": "stderr",
     "output_type": "stream",
     "text": [
      "c:\\Users\\zly20\\AppData\\Local\\Programs\\Python\\Python311\\Lib\\site-packages\\transformers\\generation\\configuration_utils.py:628: UserWarning: `do_sample` is set to `False`. However, `temperature` is set to `0.6` -- this flag is only used in sample-based generation modes. You should set `do_sample=True` or unset `temperature`.\n",
      "  warnings.warn(\n",
      "c:\\Users\\zly20\\AppData\\Local\\Programs\\Python\\Python311\\Lib\\site-packages\\transformers\\generation\\configuration_utils.py:633: UserWarning: `do_sample` is set to `False`. However, `top_p` is set to `0.95` -- this flag is only used in sample-based generation modes. You should set `do_sample=True` or unset `top_p`.\n",
      "  warnings.warn(\n",
      "farm:  68%|██████▊   | 27/40 [01:17<00:40,  3.14s/it]"
     ]
    },
    {
     "name": "stdout",
     "output_type": "stream",
     "text": [
      "Query failed: Execution failed on sql '\n",
      "SELECT c.City_ID,\n",
      "       cofficial_name,\n",
      "       c.status,\n",
      "       avg(c POPULATION) as average_pop\n",
      "FROM city c\n",
      "GROUP BY c.City_ID,\n",
      "         c.status': near \"POPULATION\": syntax error\n"
     ]
    },
    {
     "name": "stderr",
     "output_type": "stream",
     "text": [
      "c:\\Users\\zly20\\AppData\\Local\\Programs\\Python\\Python311\\Lib\\site-packages\\transformers\\generation\\configuration_utils.py:628: UserWarning: `do_sample` is set to `False`. However, `temperature` is set to `0.6` -- this flag is only used in sample-based generation modes. You should set `do_sample=True` or unset `temperature`.\n",
      "  warnings.warn(\n",
      "c:\\Users\\zly20\\AppData\\Local\\Programs\\Python\\Python311\\Lib\\site-packages\\transformers\\generation\\configuration_utils.py:633: UserWarning: `do_sample` is set to `False`. However, `top_p` is set to `0.95` -- this flag is only used in sample-based generation modes. You should set `do_sample=True` or unset `top_p`.\n",
      "  warnings.warn(\n",
      "farm:  70%|███████   | 28/40 [01:19<00:36,  3.02s/it]"
     ]
    },
    {
     "name": "stdout",
     "output_type": "stream",
     "text": [
      "Query failed: Execution failed on sql '\n",
      "SELECT c.City_ID,\n",
      "       cOfficial_Name,\n",
      "       c.Status,\n",
      "       c.Population,\n",
      "       c.Census_Ranking\n",
      "FROM city c\n",
      "LEFT JOIN competition_record cr ON c.City_ID = cr.Host_city_ID\n",
      "LEFT JOIN farm_f on cr.Farm_ID\n",
      "LEFT JOIN competition_record cr ON cr.Host_city_ID = c.City_ID': no such table: farm_f\n"
     ]
    },
    {
     "name": "stderr",
     "output_type": "stream",
     "text": [
      "c:\\Users\\zly20\\AppData\\Local\\Programs\\Python\\Python311\\Lib\\site-packages\\transformers\\generation\\configuration_utils.py:628: UserWarning: `do_sample` is set to `False`. However, `temperature` is set to `0.6` -- this flag is only used in sample-based generation modes. You should set `do_sample=True` or unset `temperature`.\n",
      "  warnings.warn(\n",
      "c:\\Users\\zly20\\AppData\\Local\\Programs\\Python\\Python311\\Lib\\site-packages\\transformers\\generation\\configuration_utils.py:633: UserWarning: `do_sample` is set to `False`. However, `top_p` is set to `0.95` -- this flag is only used in sample-based generation modes. You should set `do_sample=True` or unset `top_p`.\n",
      "  warnings.warn(\n",
      "farm:  72%|███████▎  | 29/40 [01:22<00:32,  2.95s/it]c:\\Users\\zly20\\AppData\\Local\\Programs\\Python\\Python311\\Lib\\site-packages\\transformers\\generation\\configuration_utils.py:628: UserWarning: `do_sample` is set to `False`. However, `temperature` is set to `0.6` -- this flag is only used in sample-based generation modes. You should set `do_sample=True` or unset `temperature`.\n",
      "  warnings.warn(\n",
      "c:\\Users\\zly20\\AppData\\Local\\Programs\\Python\\Python311\\Lib\\site-packages\\transformers\\generation\\configuration_utils.py:633: UserWarning: `do_sample` is set to `False`. However, `top_p` is set to `0.95` -- this flag is only used in sample-based generation modes. You should set `do_sample=True` or unset `top_p`.\n",
      "  warnings.warn(\n",
      "farm:  75%|███████▌  | 30/40 [01:25<00:30,  3.07s/it]c:\\Users\\zly20\\AppData\\Local\\Programs\\Python\\Python311\\Lib\\site-packages\\transformers\\generation\\configuration_utils.py:628: UserWarning: `do_sample` is set to `False`. However, `temperature` is set to `0.6` -- this flag is only used in sample-based generation modes. You should set `do_sample=True` or unset `temperature`.\n",
      "  warnings.warn(\n",
      "c:\\Users\\zly20\\AppData\\Local\\Programs\\Python\\Python311\\Lib\\site-packages\\transformers\\generation\\configuration_utils.py:633: UserWarning: `do_sample` is set to `False`. However, `top_p` is set to `0.95` -- this flag is only used in sample-based generation modes. You should set `do_sample=True` or unset `top_p`.\n",
      "  warnings.warn(\n",
      "farm:  78%|███████▊  | 31/40 [01:28<00:27,  3.06s/it]"
     ]
    },
    {
     "name": "stdout",
     "output_type": "stream",
     "text": [
      "Query failed: Execution failed on sql '\n",
      "SELECT COUNT(*) AS Status_count\n",
      "FROM city\n",
      "GROUP BY Official_Name [HSQL]': near \"[HSQL]\": syntax error\n"
     ]
    },
    {
     "name": "stderr",
     "output_type": "stream",
     "text": [
      "c:\\Users\\zly20\\AppData\\Local\\Programs\\Python\\Python311\\Lib\\site-packages\\transformers\\generation\\configuration_utils.py:628: UserWarning: `do_sample` is set to `False`. However, `temperature` is set to `0.6` -- this flag is only used in sample-based generation modes. You should set `do_sample=True` or unset `temperature`.\n",
      "  warnings.warn(\n",
      "c:\\Users\\zly20\\AppData\\Local\\Programs\\Python\\Python311\\Lib\\site-packages\\transformers\\generation\\configuration_utils.py:633: UserWarning: `do_sample` is set to `False`. However, `top_p` is set to `0.95` -- this flag is only used in sample-based generation modes. You should set `do_sample=True` or unset `top_p`.\n",
      "  warnings.warn(\n",
      "farm:  80%|████████  | 32/40 [01:31<00:23,  2.99s/it]c:\\Users\\zly20\\AppData\\Local\\Programs\\Python\\Python311\\Lib\\site-packages\\transformers\\generation\\configuration_utils.py:628: UserWarning: `do_sample` is set to `False`. However, `temperature` is set to `0.6` -- this flag is only used in sample-based generation modes. You should set `do_sample=True` or unset `temperature`.\n",
      "  warnings.warn(\n",
      "c:\\Users\\zly20\\AppData\\Local\\Programs\\Python\\Python311\\Lib\\site-packages\\transformers\\generation\\configuration_utils.py:633: UserWarning: `do_sample` is set to `False`. However, `top_p` is set to `0.95` -- this flag is only used in sample-based generation modes. You should set `do_sample=True` or unset `top_p`.\n",
      "  warnings.warn(\n",
      "farm:  82%|████████▎ | 33/40 [01:34<00:20,  2.92s/it]c:\\Users\\zly20\\AppData\\Local\\Programs\\Python\\Python311\\Lib\\site-packages\\transformers\\generation\\configuration_utils.py:628: UserWarning: `do_sample` is set to `False`. However, `temperature` is set to `0.6` -- this flag is only used in sample-based generation modes. You should set `do_sample=True` or unset `temperature`.\n",
      "  warnings.warn(\n",
      "c:\\Users\\zly20\\AppData\\Local\\Programs\\Python\\Python311\\Lib\\site-packages\\transformers\\generation\\configuration_utils.py:633: UserWarning: `do_sample` is set to `False`. However, `top_p` is set to `0.95` -- this flag is only used in sample-based generation modes. You should set `do_sample=True` or unset `top_p`.\n",
      "  warnings.warn(\n",
      "farm:  85%|████████▌ | 34/40 [01:36<00:16,  2.73s/it]c:\\Users\\zly20\\AppData\\Local\\Programs\\Python\\Python311\\Lib\\site-packages\\transformers\\generation\\configuration_utils.py:628: UserWarning: `do_sample` is set to `False`. However, `temperature` is set to `0.6` -- this flag is only used in sample-based generation modes. You should set `do_sample=True` or unset `temperature`.\n",
      "  warnings.warn(\n",
      "c:\\Users\\zly20\\AppData\\Local\\Programs\\Python\\Python311\\Lib\\site-packages\\transformers\\generation\\configuration_utils.py:633: UserWarning: `do_sample` is set to `False`. However, `top_p` is set to `0.95` -- this flag is only used in sample-based generation modes. You should set `do_sample=True` or unset `top_p`.\n",
      "  warnings.warn(\n",
      "farm:  88%|████████▊ | 35/40 [01:39<00:13,  2.72s/it]c:\\Users\\zly20\\AppData\\Local\\Programs\\Python\\Python311\\Lib\\site-packages\\transformers\\generation\\configuration_utils.py:628: UserWarning: `do_sample` is set to `False`. However, `temperature` is set to `0.6` -- this flag is only used in sample-based generation modes. You should set `do_sample=True` or unset `temperature`.\n",
      "  warnings.warn(\n",
      "c:\\Users\\zly20\\AppData\\Local\\Programs\\Python\\Python311\\Lib\\site-packages\\transformers\\generation\\configuration_utils.py:633: UserWarning: `do_sample` is set to `False`. However, `top_p` is set to `0.95` -- this flag is only used in sample-based generation modes. You should set `do_sample=True` or unset `top_p`.\n",
      "  warnings.warn(\n",
      "farm:  90%|█████████ | 36/40 [01:43<00:12,  3.12s/it]c:\\Users\\zly20\\AppData\\Local\\Programs\\Python\\Python311\\Lib\\site-packages\\transformers\\generation\\configuration_utils.py:628: UserWarning: `do_sample` is set to `False`. However, `temperature` is set to `0.6` -- this flag is only used in sample-based generation modes. You should set `do_sample=True` or unset `temperature`.\n",
      "  warnings.warn(\n",
      "c:\\Users\\zly20\\AppData\\Local\\Programs\\Python\\Python311\\Lib\\site-packages\\transformers\\generation\\configuration_utils.py:633: UserWarning: `do_sample` is set to `False`. However, `top_p` is set to `0.95` -- this flag is only used in sample-based generation modes. You should set `do_sample=True` or unset `top_p`.\n",
      "  warnings.warn(\n",
      "farm:  95%|█████████▌| 38/40 [01:49<00:06,  3.13s/it]c:\\Users\\zly20\\AppData\\Local\\Programs\\Python\\Python311\\Lib\\site-packages\\transformers\\generation\\configuration_utils.py:628: UserWarning: `do_sample` is set to `False`. However, `temperature` is set to `0.6` -- this flag is only used in sample-based generation modes. You should set `do_sample=True` or unset `temperature`.\n",
      "  warnings.warn(\n",
      "c:\\Users\\zly20\\AppData\\Local\\Programs\\Python\\Python311\\Lib\\site-packages\\transformers\\generation\\configuration_utils.py:633: UserWarning: `do_sample` is set to `False`. However, `top_p` is set to `0.95` -- this flag is only used in sample-based generation modes. You should set `do_sample=True` or unset `top_p`.\n",
      "  warnings.warn(\n",
      "farm:  98%|█████████▊| 39/40 [01:52<00:03,  3.07s/it]"
     ]
    },
    {
     "name": "stdout",
     "output_type": "stream",
     "text": [
      "Query failed: Execution failed on sql '\n",
      "SELECT C.City_ID,\n",
      "       C Official_Name,\n",
      "       C.Status,\n",
      "       C.Census_Ranking\n",
      "FROM city C\n",
      "WHERE C.Status != 'Village';': no such column: C\n"
     ]
    },
    {
     "name": "stderr",
     "output_type": "stream",
     "text": [
      "c:\\Users\\zly20\\AppData\\Local\\Programs\\Python\\Python311\\Lib\\site-packages\\transformers\\generation\\configuration_utils.py:628: UserWarning: `do_sample` is set to `False`. However, `temperature` is set to `0.6` -- this flag is only used in sample-based generation modes. You should set `do_sample=True` or unset `temperature`.\n",
      "  warnings.warn(\n",
      "c:\\Users\\zly20\\AppData\\Local\\Programs\\Python\\Python311\\Lib\\site-packages\\transformers\\generation\\configuration_utils.py:633: UserWarning: `do_sample` is set to `False`. However, `top_p` is set to `0.95` -- this flag is only used in sample-based generation modes. You should set `do_sample=True` or unset `top_p`.\n",
      "  warnings.warn(\n",
      "farm: 100%|██████████| 40/40 [01:55<00:00,  2.89s/it]\n"
     ]
    },
    {
     "name": "stdout",
     "output_type": "stream",
     "text": [
      "Query failed: Execution failed on sql '\n",
      "SELECT C.City_ID,\n",
      "       C Official_Name,\n",
      "       C.Census_Ranking\n",
      "FROM city C\n",
      "WHERE C.Status != 'Village';': no such column: C\n",
      "✅ Accuracy for farm: 3/40 = 7.50%\n",
      "🔍 Evaluating aircraft (46 questions)\n"
     ]
    },
    {
     "name": "stderr",
     "output_type": "stream",
     "text": [
      "aircraft:   0%|          | 0/46 [00:00<?, ?it/s]c:\\Users\\zly20\\AppData\\Local\\Programs\\Python\\Python311\\Lib\\site-packages\\transformers\\generation\\configuration_utils.py:628: UserWarning: `do_sample` is set to `False`. However, `temperature` is set to `0.6` -- this flag is only used in sample-based generation modes. You should set `do_sample=True` or unset `temperature`.\n",
      "  warnings.warn(\n",
      "c:\\Users\\zly20\\AppData\\Local\\Programs\\Python\\Python311\\Lib\\site-packages\\transformers\\generation\\configuration_utils.py:633: UserWarning: `do_sample` is set to `False`. However, `top_p` is set to `0.95` -- this flag is only used in sample-based generation modes. You should set `do_sample=True` or unset `top_p`.\n",
      "  warnings.warn(\n",
      "aircraft:   2%|▏         | 1/46 [00:02<01:44,  2.31s/it]c:\\Users\\zly20\\AppData\\Local\\Programs\\Python\\Python311\\Lib\\site-packages\\transformers\\generation\\configuration_utils.py:628: UserWarning: `do_sample` is set to `False`. However, `temperature` is set to `0.6` -- this flag is only used in sample-based generation modes. You should set `do_sample=True` or unset `temperature`.\n",
      "  warnings.warn(\n",
      "c:\\Users\\zly20\\AppData\\Local\\Programs\\Python\\Python311\\Lib\\site-packages\\transformers\\generation\\configuration_utils.py:633: UserWarning: `do_sample` is set to `False`. However, `top_p` is set to `0.95` -- this flag is only used in sample-based generation modes. You should set `do_sample=True` or unset `top_p`.\n",
      "  warnings.warn(\n",
      "aircraft:   4%|▍         | 2/46 [00:05<02:07,  2.90s/it]c:\\Users\\zly20\\AppData\\Local\\Programs\\Python\\Python311\\Lib\\site-packages\\transformers\\generation\\configuration_utils.py:628: UserWarning: `do_sample` is set to `False`. However, `temperature` is set to `0.6` -- this flag is only used in sample-based generation modes. You should set `do_sample=True` or unset `temperature`.\n",
      "  warnings.warn(\n",
      "c:\\Users\\zly20\\AppData\\Local\\Programs\\Python\\Python311\\Lib\\site-packages\\transformers\\generation\\configuration_utils.py:633: UserWarning: `do_sample` is set to `False`. However, `top_p` is set to `0.95` -- this flag is only used in sample-based generation modes. You should set `do_sample=True` or unset `top_p`.\n",
      "  warnings.warn(\n",
      "aircraft:   7%|▋         | 3/46 [00:08<02:08,  2.98s/it]c:\\Users\\zly20\\AppData\\Local\\Programs\\Python\\Python311\\Lib\\site-packages\\transformers\\generation\\configuration_utils.py:628: UserWarning: `do_sample` is set to `False`. However, `temperature` is set to `0.6` -- this flag is only used in sample-based generation modes. You should set `do_sample=True` or unset `temperature`.\n",
      "  warnings.warn(\n",
      "c:\\Users\\zly20\\AppData\\Local\\Programs\\Python\\Python311\\Lib\\site-packages\\transformers\\generation\\configuration_utils.py:633: UserWarning: `do_sample` is set to `False`. However, `top_p` is set to `0.95` -- this flag is only used in sample-based generation modes. You should set `do_sample=True` or unset `top_p`.\n",
      "  warnings.warn(\n",
      "aircraft:   9%|▊         | 4/46 [00:10<01:47,  2.55s/it]c:\\Users\\zly20\\AppData\\Local\\Programs\\Python\\Python311\\Lib\\site-packages\\transformers\\generation\\configuration_utils.py:628: UserWarning: `do_sample` is set to `False`. However, `temperature` is set to `0.6` -- this flag is only used in sample-based generation modes. You should set `do_sample=True` or unset `temperature`.\n",
      "  warnings.warn(\n",
      "c:\\Users\\zly20\\AppData\\Local\\Programs\\Python\\Python311\\Lib\\site-packages\\transformers\\generation\\configuration_utils.py:633: UserWarning: `do_sample` is set to `False`. However, `top_p` is set to `0.95` -- this flag is only used in sample-based generation modes. You should set `do_sample=True` or unset `top_p`.\n",
      "  warnings.warn(\n",
      "aircraft:  11%|█         | 5/46 [00:13<01:43,  2.52s/it]c:\\Users\\zly20\\AppData\\Local\\Programs\\Python\\Python311\\Lib\\site-packages\\transformers\\generation\\configuration_utils.py:628: UserWarning: `do_sample` is set to `False`. However, `temperature` is set to `0.6` -- this flag is only used in sample-based generation modes. You should set `do_sample=True` or unset `temperature`.\n",
      "  warnings.warn(\n",
      "c:\\Users\\zly20\\AppData\\Local\\Programs\\Python\\Python311\\Lib\\site-packages\\transformers\\generation\\configuration_utils.py:633: UserWarning: `do_sample` is set to `False`. However, `top_p` is set to `0.95` -- this flag is only used in sample-based generation modes. You should set `do_sample=True` or unset `top_p`.\n",
      "  warnings.warn(\n",
      "aircraft:  13%|█▎        | 6/46 [00:15<01:44,  2.62s/it]c:\\Users\\zly20\\AppData\\Local\\Programs\\Python\\Python311\\Lib\\site-packages\\transformers\\generation\\configuration_utils.py:628: UserWarning: `do_sample` is set to `False`. However, `temperature` is set to `0.6` -- this flag is only used in sample-based generation modes. You should set `do_sample=True` or unset `temperature`.\n",
      "  warnings.warn(\n",
      "c:\\Users\\zly20\\AppData\\Local\\Programs\\Python\\Python311\\Lib\\site-packages\\transformers\\generation\\configuration_utils.py:633: UserWarning: `do_sample` is set to `False`. However, `top_p` is set to `0.95` -- this flag is only used in sample-based generation modes. You should set `do_sample=True` or unset `top_p`.\n",
      "  warnings.warn(\n",
      "aircraft:  15%|█▌        | 7/46 [00:18<01:44,  2.68s/it]"
     ]
    },
    {
     "name": "stdout",
     "output_type": "stream",
     "text": [
      "Query failed: Execution failed on sql '\n",
      "SELECT IInternational_Passengers,\n",
      "       IDomestic_Passengers\n",
      "FROM airport': no such column: IInternational_Passengers\n"
     ]
    },
    {
     "name": "stderr",
     "output_type": "stream",
     "text": [
      "c:\\Users\\zly20\\AppData\\Local\\Programs\\Python\\Python311\\Lib\\site-packages\\transformers\\generation\\configuration_utils.py:628: UserWarning: `do_sample` is set to `False`. However, `temperature` is set to `0.6` -- this flag is only used in sample-based generation modes. You should set `do_sample=True` or unset `temperature`.\n",
      "  warnings.warn(\n",
      "c:\\Users\\zly20\\AppData\\Local\\Programs\\Python\\Python311\\Lib\\site-packages\\transformers\\generation\\configuration_utils.py:633: UserWarning: `do_sample` is set to `False`. However, `top_p` is set to `0.95` -- this flag is only used in sample-based generation modes. You should set `do_sample=True` or unset `top_p`.\n",
      "  warnings.warn(\n",
      "aircraft:  17%|█▋        | 8/46 [00:21<01:44,  2.75s/it]"
     ]
    },
    {
     "name": "stdout",
     "output_type": "stream",
     "text": [
      "Query failed: Execution failed on sql '\n",
      "SELECT airportInternationalPassengers,\n",
      "       airportDomesticPassengers,\n",
      "from airport\n",
      "where airportName = 'Heathrow' -- add the following columns\n",
      " airportInternationalPassengers,\n",
      " airportDomesticPassengers': near \"from\": syntax error\n"
     ]
    },
    {
     "name": "stderr",
     "output_type": "stream",
     "text": [
      "c:\\Users\\zly20\\AppData\\Local\\Programs\\Python\\Python311\\Lib\\site-packages\\transformers\\generation\\configuration_utils.py:628: UserWarning: `do_sample` is set to `False`. However, `temperature` is set to `0.6` -- this flag is only used in sample-based generation modes. You should set `do_sample=True` or unset `temperature`.\n",
      "  warnings.warn(\n",
      "c:\\Users\\zly20\\AppData\\Local\\Programs\\Python\\Python311\\Lib\\site-packages\\transformers\\generation\\configuration_utils.py:633: UserWarning: `do_sample` is set to `False`. However, `top_p` is set to `0.95` -- this flag is only used in sample-based generation modes. You should set `do_sample=True` or unset `top_p`.\n",
      "  warnings.warn(\n",
      "aircraft:  20%|█▉        | 9/46 [00:25<01:58,  3.22s/it]"
     ]
    },
    {
     "name": "stdout",
     "output_type": "stream",
     "text": [
      "Query failed: Execution failed on sql '\n",
      "SELECT SUM(Domestic_Passengers)\n",
      "FROM airport_aircraft\n",
      "WHERE airport_aircraft.Airport_Name LIKE '%London%'': no such column: Domestic_Passengers\n"
     ]
    },
    {
     "name": "stderr",
     "output_type": "stream",
     "text": [
      "c:\\Users\\zly20\\AppData\\Local\\Programs\\Python\\Python311\\Lib\\site-packages\\transformers\\generation\\configuration_utils.py:628: UserWarning: `do_sample` is set to `False`. However, `temperature` is set to `0.6` -- this flag is only used in sample-based generation modes. You should set `do_sample=True` or unset `temperature`.\n",
      "  warnings.warn(\n",
      "c:\\Users\\zly20\\AppData\\Local\\Programs\\Python\\Python311\\Lib\\site-packages\\transformers\\generation\\configuration_utils.py:633: UserWarning: `do_sample` is set to `False`. However, `top_p` is set to `0.95` -- this flag is only used in sample-based generation modes. You should set `do_sample=True` or unset `top_p`.\n",
      "  warnings.warn(\n",
      "aircraft:  22%|██▏       | 10/46 [00:29<02:00,  3.35s/it]"
     ]
    },
    {
     "name": "stdout",
     "output_type": "stream",
     "text": [
      "Query failed: Execution failed on sql '\n",
      "SELECT SUM(Domestic_Passengers)\n",
      "FROM airport_aircraft\n",
      "WHERE Airport_ID = 'London';': no such column: Domestic_Passengers\n"
     ]
    },
    {
     "name": "stderr",
     "output_type": "stream",
     "text": [
      "c:\\Users\\zly20\\AppData\\Local\\Programs\\Python\\Python311\\Lib\\site-packages\\transformers\\generation\\configuration_utils.py:628: UserWarning: `do_sample` is set to `False`. However, `temperature` is set to `0.6` -- this flag is only used in sample-based generation modes. You should set `do_sample=True` or unset `temperature`.\n",
      "  warnings.warn(\n",
      "c:\\Users\\zly20\\AppData\\Local\\Programs\\Python\\Python311\\Lib\\site-packages\\transformers\\generation\\configuration_utils.py:633: UserWarning: `do_sample` is set to `False`. However, `top_p` is set to `0.95` -- this flag is only used in sample-based generation modes. You should set `do_sample=True` or unset `top_p`.\n",
      "  warnings.warn(\n",
      "aircraft:  24%|██▍       | 11/46 [00:31<01:47,  3.06s/it]c:\\Users\\zly20\\AppData\\Local\\Programs\\Python\\Python311\\Lib\\site-packages\\transformers\\generation\\configuration_utils.py:628: UserWarning: `do_sample` is set to `False`. However, `temperature` is set to `0.6` -- this flag is only used in sample-based generation modes. You should set `do_sample=True` or unset `temperature`.\n",
      "  warnings.warn(\n",
      "c:\\Users\\zly20\\AppData\\Local\\Programs\\Python\\Python311\\Lib\\site-packages\\transformers\\generation\\configuration_utils.py:633: UserWarning: `do_sample` is set to `False`. However, `top_p` is set to `0.95` -- this flag is only used in sample-based generation modes. You should set `do_sample=True` or unset `top_p`.\n",
      "  warnings.warn(\n",
      "aircraft:  26%|██▌       | 12/46 [00:34<01:41,  2.98s/it]"
     ]
    },
    {
     "name": "stdout",
     "output_type": "stream",
     "text": [
      "Query failed: Execution failed on sql '\n",
      "SELECT MAX(`Transit_Passengers`),\n",
      "       MIN(`Transit_Passengers`)\n",
      "FROM airport_aircraft;': no such column: Transit_Passengers\n"
     ]
    },
    {
     "name": "stderr",
     "output_type": "stream",
     "text": [
      "c:\\Users\\zly20\\AppData\\Local\\Programs\\Python\\Python311\\Lib\\site-packages\\transformers\\generation\\configuration_utils.py:628: UserWarning: `do_sample` is set to `False`. However, `temperature` is set to `0.6` -- this flag is only used in sample-based generation modes. You should set `do_sample=True` or unset `temperature`.\n",
      "  warnings.warn(\n",
      "c:\\Users\\zly20\\AppData\\Local\\Programs\\Python\\Python311\\Lib\\site-packages\\transformers\\generation\\configuration_utils.py:633: UserWarning: `do_sample` is set to `False`. However, `top_p` is set to `0.95` -- this flag is only used in sample-based generation modes. You should set `do_sample=True` or unset `top_p`.\n",
      "  warnings.warn(\n",
      "aircraft:  30%|███       | 14/46 [00:40<01:33,  2.93s/it]c:\\Users\\zly20\\AppData\\Local\\Programs\\Python\\Python311\\Lib\\site-packages\\transformers\\generation\\configuration_utils.py:628: UserWarning: `do_sample` is set to `False`. However, `temperature` is set to `0.6` -- this flag is only used in sample-based generation modes. You should set `do_sample=True` or unset `temperature`.\n",
      "  warnings.warn(\n",
      "c:\\Users\\zly20\\AppData\\Local\\Programs\\Python\\Python311\\Lib\\site-packages\\transformers\\generation\\configuration_utils.py:633: UserWarning: `do_sample` is set to `False`. However, `top_p` is set to `0.95` -- this flag is only used in sample-based generation modes. You should set `do_sample=True` or unset `top_p`.\n",
      "  warnings.warn(\n",
      "aircraft:  33%|███▎      | 15/46 [00:42<01:23,  2.70s/it]c:\\Users\\zly20\\AppData\\Local\\Programs\\Python\\Python311\\Lib\\site-packages\\transformers\\generation\\configuration_utils.py:628: UserWarning: `do_sample` is set to `False`. However, `temperature` is set to `0.6` -- this flag is only used in sample-based generation modes. You should set `do_sample=True` or unset `temperature`.\n",
      "  warnings.warn(\n",
      "c:\\Users\\zly20\\AppData\\Local\\Programs\\Python\\Python311\\Lib\\site-packages\\transformers\\generation\\configuration_utils.py:633: UserWarning: `do_sample` is set to `False`. However, `top_p` is set to `0.95` -- this flag is only used in sample-based generation modes. You should set `do_sample=True` or unset `top_p`.\n",
      "  warnings.warn(\n",
      "aircraft:  37%|███▋      | 17/46 [00:48<01:20,  2.79s/it]c:\\Users\\zly20\\AppData\\Local\\Programs\\Python\\Python311\\Lib\\site-packages\\transformers\\generation\\configuration_utils.py:628: UserWarning: `do_sample` is set to `False`. However, `temperature` is set to `0.6` -- this flag is only used in sample-based generation modes. You should set `do_sample=True` or unset `temperature`.\n",
      "  warnings.warn(\n",
      "c:\\Users\\zly20\\AppData\\Local\\Programs\\Python\\Python311\\Lib\\site-packages\\transformers\\generation\\configuration_utils.py:633: UserWarning: `do_sample` is set to `False`. However, `top_p` is set to `0.95` -- this flag is only used in sample-based generation modes. You should set `do_sample=True` or unset `top_p`.\n",
      "  warnings.warn(\n"
     ]
    },
    {
     "name": "stdout",
     "output_type": "stream",
     "text": [
      "Query failed: Execution failed on sql '\n",
      "SELECT TOP 1000\n",
      "FROM pilot\n",
      "WHERE Age <= 30\n",
      "ORDER BY Name DESC': near \"1000\": syntax error\n"
     ]
    },
    {
     "name": "stderr",
     "output_type": "stream",
     "text": [
      "aircraft:  39%|███▉      | 18/46 [00:51<01:18,  2.81s/it]"
     ]
    },
    {
     "name": "stdout",
     "output_type": "stream",
     "text": [
      "Query failed: Execution failed on sql '\n",
      "SELECT Name,\n",
      "Order By\n",
      "FROM pilot\n",
      "WHERE (Pilot_Id LIKE '%3D%20%23%23')': near \"Order\": syntax error\n"
     ]
    },
    {
     "name": "stderr",
     "output_type": "stream",
     "text": [
      "c:\\Users\\zly20\\AppData\\Local\\Programs\\Python\\Python311\\Lib\\site-packages\\transformers\\generation\\configuration_utils.py:628: UserWarning: `do_sample` is set to `False`. However, `temperature` is set to `0.6` -- this flag is only used in sample-based generation modes. You should set `do_sample=True` or unset `temperature`.\n",
      "  warnings.warn(\n",
      "c:\\Users\\zly20\\AppData\\Local\\Programs\\Python\\Python311\\Lib\\site-packages\\transformers\\generation\\configuration_utils.py:633: UserWarning: `do_sample` is set to `False`. However, `top_p` is set to `0.95` -- this flag is only used in sample-based generation modes. You should set `do_sample=True` or unset `top_p`.\n",
      "  warnings.warn(\n",
      "aircraft:  41%|████▏     | 19/46 [00:54<01:20,  2.99s/it]"
     ]
    },
    {
     "name": "stdout",
     "output_type": "stream",
     "text": [
      "Query failed: Execution failed on sql '\n",
      "SELECT A.Aircraft\n",
      "FROM `aircraft` A\n",
      "WHERE A.Aircraft_ID = `airport_aircraft`.Airport_ID\n",
      "  AND A.Aircraft_ID = `pilot`(`Pilot_Id`)': no such column: airport_aircraft.Airport_ID\n"
     ]
    },
    {
     "name": "stderr",
     "output_type": "stream",
     "text": [
      "c:\\Users\\zly20\\AppData\\Local\\Programs\\Python\\Python311\\Lib\\site-packages\\transformers\\generation\\configuration_utils.py:628: UserWarning: `do_sample` is set to `False`. However, `temperature` is set to `0.6` -- this flag is only used in sample-based generation modes. You should set `do_sample=True` or unset `temperature`.\n",
      "  warnings.warn(\n",
      "c:\\Users\\zly20\\AppData\\Local\\Programs\\Python\\Python311\\Lib\\site-packages\\transformers\\generation\\configuration_utils.py:633: UserWarning: `do_sample` is set to `False`. However, `top_p` is set to `0.95` -- this flag is only used in sample-based generation modes. You should set `do_sample=True` or unset `top_p`.\n",
      "  warnings.warn(\n",
      "aircraft:  43%|████▎     | 20/46 [00:57<01:16,  2.94s/it]"
     ]
    },
    {
     "name": "stdout",
     "output_type": "stream",
     "text": [
      "Query failed: Execution failed on sql '\n",
      "SELECT `Aircraft`\n",
      "FROM `aircraft`\n",
      "WHERE `Airport_ID` =\n",
      "    (SELECT `Airport_ID`\n",
      "     FROM `airport`\n",
      "     WHERE `Airport_ID` =\n",
      "         (SELECT `Airport_ID`\n",
      "          FROM `airport_aircraft`\n",
      "          WHERE `Airport_ID` =\n",
      "              (SELECT `Airport_ID`\n",
      "               FROM `airport`)));': no such column: Airport_ID\n"
     ]
    },
    {
     "name": "stderr",
     "output_type": "stream",
     "text": [
      "c:\\Users\\zly20\\AppData\\Local\\Programs\\Python\\Python311\\Lib\\site-packages\\transformers\\generation\\configuration_utils.py:628: UserWarning: `do_sample` is set to `False`. However, `temperature` is set to `0.6` -- this flag is only used in sample-based generation modes. You should set `do_sample=True` or unset `temperature`.\n",
      "  warnings.warn(\n",
      "c:\\Users\\zly20\\AppData\\Local\\Programs\\Python\\Python311\\Lib\\site-packages\\transformers\\generation\\configuration_utils.py:633: UserWarning: `do_sample` is set to `False`. However, `top_p` is set to `0.95` -- this flag is only used in sample-based generation modes. You should set `do_sample=True` or unset `top_p`.\n",
      "  warnings.warn(\n",
      "aircraft:  46%|████▌     | 21/46 [01:00<01:17,  3.11s/it]c:\\Users\\zly20\\AppData\\Local\\Programs\\Python\\Python311\\Lib\\site-packages\\transformers\\generation\\configuration_utils.py:628: UserWarning: `do_sample` is set to `False`. However, `temperature` is set to `0.6` -- this flag is only used in sample-based generation modes. You should set `do_sample=True` or unset `temperature`.\n",
      "  warnings.warn(\n",
      "c:\\Users\\zly20\\AppData\\Local\\Programs\\Python\\Python311\\Lib\\site-packages\\transformers\\generation\\configuration_utils.py:633: UserWarning: `do_sample` is set to `False`. However, `top_p` is set to `0.95` -- this flag is only used in sample-based generation modes. You should set `do_sample=True` or unset `top_p`.\n",
      "  warnings.warn(\n",
      "aircraft:  48%|████▊     | 22/46 [01:05<01:22,  3.44s/it]c:\\Users\\zly20\\AppData\\Local\\Programs\\Python\\Python311\\Lib\\site-packages\\transformers\\generation\\configuration_utils.py:628: UserWarning: `do_sample` is set to `False`. However, `temperature` is set to `0.6` -- this flag is only used in sample-based generation modes. You should set `do_sample=True` or unset `temperature`.\n",
      "  warnings.warn(\n",
      "c:\\Users\\zly20\\AppData\\Local\\Programs\\Python\\Python311\\Lib\\site-packages\\transformers\\generation\\configuration_utils.py:633: UserWarning: `do_sample` is set to `False`. However, `top_p` is set to `0.95` -- this flag is only used in sample-based generation modes. You should set `do_sample=True` or unset `top_p`.\n",
      "  warnings.warn(\n",
      "aircraft:  50%|█████     | 23/46 [01:07<01:13,  3.21s/it]"
     ]
    },
    {
     "name": "stdout",
     "output_type": "stream",
     "text": [
      "Query failed: Execution failed on sql '\n",
      "SELECT AVG(`Total_Passengers`) AS AvgTotalPassengers\n",
      "FROM `airport_aircraft`\n",
      "WHERE `Aircraft_ID` = 'Robinson R-22';': no such column: Total_Passengers\n"
     ]
    },
    {
     "name": "stderr",
     "output_type": "stream",
     "text": [
      "c:\\Users\\zly20\\AppData\\Local\\Programs\\Python\\Python311\\Lib\\site-packages\\transformers\\generation\\configuration_utils.py:628: UserWarning: `do_sample` is set to `False`. However, `temperature` is set to `0.6` -- this flag is only used in sample-based generation modes. You should set `do_sample=True` or unset `temperature`.\n",
      "  warnings.warn(\n",
      "c:\\Users\\zly20\\AppData\\Local\\Programs\\Python\\Python311\\Lib\\site-packages\\transformers\\generation\\configuration_utils.py:633: UserWarning: `do_sample` is set to `False`. However, `top_p` is set to `0.95` -- this flag is only used in sample-based generation modes. You should set `do_sample=True` or unset `top_p`.\n",
      "  warnings.warn(\n",
      "aircraft:  52%|█████▏    | 24/46 [01:10<01:08,  3.10s/it]"
     ]
    },
    {
     "name": "stdout",
     "output_type": "stream",
     "text": [
      "Query failed: Execution failed on sql '\n",
      "SELECT Avg(Total_Passengers)\n",
      "FROM airport_aircraft\n",
      "WHERE \"Aircraft_ID\" = 'Robinson R-22';': no such column: Total_Passengers\n"
     ]
    },
    {
     "name": "stderr",
     "output_type": "stream",
     "text": [
      "c:\\Users\\zly20\\AppData\\Local\\Programs\\Python\\Python311\\Lib\\site-packages\\transformers\\generation\\configuration_utils.py:628: UserWarning: `do_sample` is set to `False`. However, `temperature` is set to `0.6` -- this flag is only used in sample-based generation modes. You should set `do_sample=True` or unset `temperature`.\n",
      "  warnings.warn(\n",
      "c:\\Users\\zly20\\AppData\\Local\\Programs\\Python\\Python311\\Lib\\site-packages\\transformers\\generation\\configuration_utils.py:633: UserWarning: `do_sample` is set to `False`. However, `top_p` is set to `0.95` -- this flag is only used in sample-based generation modes. You should set `do_sample=True` or unset `top_p`.\n",
      "  warnings.warn(\n",
      "aircraft:  54%|█████▍    | 25/46 [01:12<01:00,  2.86s/it]"
     ]
    },
    {
     "name": "stdout",
     "output_type": "stream",
     "text": [
      "Query failed: Execution failed on sql '\n",
      "SELECT `Location`\n",
      "FROM `airport`\n",
      "WHERE `Airport_ID` IN\n",
      "    (SELECT `Aircraft_ID`\n",
      "     FROM `aircraft`\n",
      "     WHERE `Aircraft_ID` = `Pilot_Id`);': no such column: Location\n"
     ]
    },
    {
     "name": "stderr",
     "output_type": "stream",
     "text": [
      "c:\\Users\\zly20\\AppData\\Local\\Programs\\Python\\Python311\\Lib\\site-packages\\transformers\\generation\\configuration_utils.py:628: UserWarning: `do_sample` is set to `False`. However, `temperature` is set to `0.6` -- this flag is only used in sample-based generation modes. You should set `do_sample=True` or unset `temperature`.\n",
      "  warnings.warn(\n",
      "c:\\Users\\zly20\\AppData\\Local\\Programs\\Python\\Python311\\Lib\\site-packages\\transformers\\generation\\configuration_utils.py:633: UserWarning: `do_sample` is set to `False`. However, `top_p` is set to `0.95` -- this flag is only used in sample-based generation modes. You should set `do_sample=True` or unset `top_p`.\n",
      "  warnings.warn(\n",
      "aircraft:  57%|█████▋    | 26/46 [01:14<00:49,  2.47s/it]"
     ]
    },
    {
     "name": "stdout",
     "output_type": "stream",
     "text": [
      "Query failed: Execution failed on sql '\n",
      "SELECT `Winning_Aircraft`\n",
      "FROM `aircraft`;': no such column: Winning_Aircraft\n"
     ]
    },
    {
     "name": "stderr",
     "output_type": "stream",
     "text": [
      "c:\\Users\\zly20\\AppData\\Local\\Programs\\Python\\Python311\\Lib\\site-packages\\transformers\\generation\\configuration_utils.py:628: UserWarning: `do_sample` is set to `False`. However, `temperature` is set to `0.6` -- this flag is only used in sample-based generation modes. You should set `do_sample=True` or unset `temperature`.\n",
      "  warnings.warn(\n",
      "c:\\Users\\zly20\\AppData\\Local\\Programs\\Python\\Python311\\Lib\\site-packages\\transformers\\generation\\configuration_utils.py:633: UserWarning: `do_sample` is set to `False`. However, `top_p` is set to `0.95` -- this flag is only used in sample-based generation modes. You should set `do_sample=True` or unset `top_p`.\n",
      "  warnings.warn(\n",
      "aircraft:  59%|█████▊    | 27/46 [01:17<00:47,  2.52s/it]"
     ]
    },
    {
     "name": "stdout",
     "output_type": "stream",
     "text": [
      "Query failed: 'NoneType' object is not iterable\n"
     ]
    },
    {
     "name": "stderr",
     "output_type": "stream",
     "text": [
      "c:\\Users\\zly20\\AppData\\Local\\Programs\\Python\\Python311\\Lib\\site-packages\\transformers\\generation\\configuration_utils.py:628: UserWarning: `do_sample` is set to `False`. However, `temperature` is set to `0.6` -- this flag is only used in sample-based generation modes. You should set `do_sample=True` or unset `temperature`.\n",
      "  warnings.warn(\n",
      "c:\\Users\\zly20\\AppData\\Local\\Programs\\Python\\Python311\\Lib\\site-packages\\transformers\\generation\\configuration_utils.py:633: UserWarning: `do_sample` is set to `False`. However, `top_p` is set to `0.95` -- this flag is only used in sample-based generation modes. You should set `do_sample=True` or unset `top_p`.\n",
      "  warnings.warn(\n",
      "aircraft:  61%|██████    | 28/46 [01:20<00:50,  2.82s/it]c:\\Users\\zly20\\AppData\\Local\\Programs\\Python\\Python311\\Lib\\site-packages\\transformers\\generation\\configuration_utils.py:628: UserWarning: `do_sample` is set to `False`. However, `temperature` is set to `0.6` -- this flag is only used in sample-based generation modes. You should set `do_sample=True` or unset `temperature`.\n",
      "  warnings.warn(\n",
      "c:\\Users\\zly20\\AppData\\Local\\Programs\\Python\\Python311\\Lib\\site-packages\\transformers\\generation\\configuration_utils.py:633: UserWarning: `do_sample` is set to `False`. However, `top_p` is set to `0.95` -- this flag is only used in sample-based generation modes. You should set `do_sample=True` or unset `top_p`.\n",
      "  warnings.warn(\n",
      "aircraft:  63%|██████▎   | 29/46 [01:24<00:52,  3.06s/it]"
     ]
    },
    {
     "name": "stdout",
     "output_type": "stream",
     "text": [
      "Query failed: 'NoneType' object is not iterable\n"
     ]
    },
    {
     "name": "stderr",
     "output_type": "stream",
     "text": [
      "c:\\Users\\zly20\\AppData\\Local\\Programs\\Python\\Python311\\Lib\\site-packages\\transformers\\generation\\configuration_utils.py:628: UserWarning: `do_sample` is set to `False`. However, `temperature` is set to `0.6` -- this flag is only used in sample-based generation modes. You should set `do_sample=True` or unset `temperature`.\n",
      "  warnings.warn(\n",
      "c:\\Users\\zly20\\AppData\\Local\\Programs\\Python\\Python311\\Lib\\site-packages\\transformers\\generation\\configuration_utils.py:633: UserWarning: `do_sample` is set to `False`. However, `top_p` is set to `0.95` -- this flag is only used in sample-based generation modes. You should set `do_sample=True` or unset `top_p`.\n",
      "  warnings.warn(\n",
      "aircraft:  65%|██████▌   | 30/46 [01:26<00:47,  2.95s/it]"
     ]
    },
    {
     "name": "stdout",
     "output_type": "stream",
     "text": [
      "Query failed: Execution failed on sql '\n",
      "SELECT `Aircraft`\n",
      "from `aircraft`\n",
      "where `Winning_Pilot` is not null\n",
      "  and `Winning_Aircraft` is not null': no such column: Winning_Aircraft\n"
     ]
    },
    {
     "name": "stderr",
     "output_type": "stream",
     "text": [
      "c:\\Users\\zly20\\AppData\\Local\\Programs\\Python\\Python311\\Lib\\site-packages\\transformers\\generation\\configuration_utils.py:628: UserWarning: `do_sample` is set to `False`. However, `temperature` is set to `0.6` -- this flag is only used in sample-based generation modes. You should set `do_sample=True` or unset `temperature`.\n",
      "  warnings.warn(\n",
      "c:\\Users\\zly20\\AppData\\Local\\Programs\\Python\\Python311\\Lib\\site-packages\\transformers\\generation\\configuration_utils.py:633: UserWarning: `do_sample` is set to `False`. However, `top_p` is set to `0.95` -- this flag is only used in sample-based generation modes. You should set `do_sample=True` or unset `top_p`.\n",
      "  warnings.warn(\n",
      "aircraft:  67%|██████▋   | 31/46 [01:28<00:39,  2.63s/it]c:\\Users\\zly20\\AppData\\Local\\Programs\\Python\\Python311\\Lib\\site-packages\\transformers\\generation\\configuration_utils.py:628: UserWarning: `do_sample` is set to `False`. However, `temperature` is set to `0.6` -- this flag is only used in sample-based generation modes. You should set `do_sample=True` or unset `temperature`.\n",
      "  warnings.warn(\n",
      "c:\\Users\\zly20\\AppData\\Local\\Programs\\Python\\Python311\\Lib\\site-packages\\transformers\\generation\\configuration_utils.py:633: UserWarning: `do_sample` is set to `False`. However, `top_p` is set to `0.95` -- this flag is only used in sample-based generation modes. You should set `do_sample=True` or unset `top_p`.\n",
      "  warnings.warn(\n",
      "aircraft:  70%|██████▉   | 32/46 [01:31<00:37,  2.66s/it]"
     ]
    },
    {
     "name": "stdout",
     "output_type": "stream",
     "text": [
      "Query failed: Execution failed on sql '\n",
      "SELECT Pilot.Name\n",
      "FROM pilot\n",
      "WHERE Pilot.Age >\n",
      "    (SELECT MAX(Age)\n",
      "     FROM aircraft)': misuse of aggregate: MAX()\n"
     ]
    },
    {
     "name": "stderr",
     "output_type": "stream",
     "text": [
      "c:\\Users\\zly20\\AppData\\Local\\Programs\\Python\\Python311\\Lib\\site-packages\\transformers\\generation\\configuration_utils.py:628: UserWarning: `do_sample` is set to `False`. However, `temperature` is set to `0.6` -- this flag is only used in sample-based generation modes. You should set `do_sample=True` or unset `temperature`.\n",
      "  warnings.warn(\n",
      "c:\\Users\\zly20\\AppData\\Local\\Programs\\Python\\Python311\\Lib\\site-packages\\transformers\\generation\\configuration_utils.py:633: UserWarning: `do_sample` is set to `False`. However, `top_p` is set to `0.95` -- this flag is only used in sample-based generation modes. You should set `do_sample=True` or unset `top_p`.\n",
      "  warnings.warn(\n",
      "aircraft:  72%|███████▏  | 33/46 [01:34<00:35,  2.71s/it]"
     ]
    },
    {
     "name": "stdout",
     "output_type": "stream",
     "text": [
      "Query failed: Execution failed on sql '\n",
      "SELECT a.Aircraft,\n",
      "       m.Winning_Pilot,\n",
      "       m.Winning_Aircraft\n",
      "FROM `aircraft` a\n",
      "Cross Join `match` m\n",
      "WHERE m.Winning_Pilot IS NOT NULL\n",
      "  AND m.Winning_Aircraft IS NOT NULL\n",
      "  AND m.Winning_Pilot = a.Aircraft_ID\n",
      "  AND m.Winning_Aircraft = a.Aircraft_ID\n",
      "  AND m.Winning_Pilot = m.Winning_Pilot\n",
      "  AND m.Winning_Pilot = m.Winning_Pilot\n",
      "  AND m.Winning_Pilot = m.Winning_Pilot\n",
      "  AND m.Winning_Pilot = m.Winning_Pilot\n",
      "  AND m.Winning_Pilot = m.Winning_Pilot\n",
      "  AND m.Winning_Pilot = m.Winning_Pilot\n",
      "  AND m.Winning_Pilot = m.Winning_Pilot\n",
      "  AND m': no such column: m\n"
     ]
    },
    {
     "name": "stderr",
     "output_type": "stream",
     "text": [
      "c:\\Users\\zly20\\AppData\\Local\\Programs\\Python\\Python311\\Lib\\site-packages\\transformers\\generation\\configuration_utils.py:628: UserWarning: `do_sample` is set to `False`. However, `temperature` is set to `0.6` -- this flag is only used in sample-based generation modes. You should set `do_sample=True` or unset `temperature`.\n",
      "  warnings.warn(\n",
      "c:\\Users\\zly20\\AppData\\Local\\Programs\\Python\\Python311\\Lib\\site-packages\\transformers\\generation\\configuration_utils.py:633: UserWarning: `do_sample` is set to `False`. However, `top_p` is set to `0.95` -- this flag is only used in sample-based generation modes. You should set `do_sample=True` or unset `top_p`.\n",
      "  warnings.warn(\n",
      "aircraft:  74%|███████▍  | 34/46 [01:37<00:35,  2.97s/it]"
     ]
    },
    {
     "name": "stdout",
     "output_type": "stream",
     "text": [
      "Query failed: Execution failed on sql '\n",
      "SELECT A.Aircraft\n",
      "FROM A\n",
      "JOIN M ON A.Aircraft_ID = M.Winning_Pilot\n",
      "JOIN M ON A.Aircraft_ID = M.Winning_Pilot': no such table: A\n"
     ]
    },
    {
     "name": "stderr",
     "output_type": "stream",
     "text": [
      "c:\\Users\\zly20\\AppData\\Local\\Programs\\Python\\Python311\\Lib\\site-packages\\transformers\\generation\\configuration_utils.py:628: UserWarning: `do_sample` is set to `False`. However, `temperature` is set to `0.6` -- this flag is only used in sample-based generation modes. You should set `do_sample=True` or unset `temperature`.\n",
      "  warnings.warn(\n",
      "c:\\Users\\zly20\\AppData\\Local\\Programs\\Python\\Python311\\Lib\\site-packages\\transformers\\generation\\configuration_utils.py:633: UserWarning: `do_sample` is set to `False`. However, `top_p` is set to `0.95` -- this flag is only used in sample-based generation modes. You should set `do_sample=True` or unset `top_p`.\n",
      "  warnings.warn(\n",
      "aircraft:  76%|███████▌  | 35/46 [01:41<00:33,  3.02s/it]"
     ]
    },
    {
     "name": "stdout",
     "output_type": "stream",
     "text": [
      "Query failed: Execution failed on sql '\n",
      "SELECT `Aircraft_ID`\n",
      "FROM `aircraft`\n",
      "WHERE `Winning_Pilot` IS NULL;': no such column: Winning_Pilot\n"
     ]
    },
    {
     "name": "stderr",
     "output_type": "stream",
     "text": [
      "c:\\Users\\zly20\\AppData\\Local\\Programs\\Python\\Python311\\Lib\\site-packages\\transformers\\generation\\configuration_utils.py:628: UserWarning: `do_sample` is set to `False`. However, `temperature` is set to `0.6` -- this flag is only used in sample-based generation modes. You should set `do_sample=True` or unset `temperature`.\n",
      "  warnings.warn(\n",
      "c:\\Users\\zly20\\AppData\\Local\\Programs\\Python\\Python311\\Lib\\site-packages\\transformers\\generation\\configuration_utils.py:633: UserWarning: `do_sample` is set to `False`. However, `top_p` is set to `0.95` -- this flag is only used in sample-based generation modes. You should set `do_sample=True` or unset `top_p`.\n",
      "  warnings.warn(\n",
      "aircraft:  78%|███████▊  | 36/46 [01:44<00:30,  3.07s/it]c:\\Users\\zly20\\AppData\\Local\\Programs\\Python\\Python311\\Lib\\site-packages\\transformers\\generation\\configuration_utils.py:628: UserWarning: `do_sample` is set to `False`. However, `temperature` is set to `0.6` -- this flag is only used in sample-based generation modes. You should set `do_sample=True` or unset `temperature`.\n",
      "  warnings.warn(\n",
      "c:\\Users\\zly20\\AppData\\Local\\Programs\\Python\\Python311\\Lib\\site-packages\\transformers\\generation\\configuration_utils.py:633: UserWarning: `do_sample` is set to `False`. However, `top_p` is set to `0.95` -- this flag is only used in sample-based generation modes. You should set `do_sample=True` or unset `top_p`.\n",
      "  warnings.warn(\n",
      "aircraft:  80%|████████  | 37/46 [01:48<00:31,  3.48s/it]"
     ]
    },
    {
     "name": "stdout",
     "output_type": "stream",
     "text": [
      "Query failed: Execution failed on sql '\n",
      "SELECT A.Aircraft\n",
      "FROM `aircraft` A\n",
      "JOIN `match` M ON A.Aircraft_ID = M.Winning_Pilot\n",
      "JOIN `airport` I ON I.Airport_ID = A.Airport_ID\n",
      "JOIN `airport_aircraft` IA ON IA.ID = I.Airport_ID': no such column: A.Airport_ID\n"
     ]
    },
    {
     "name": "stderr",
     "output_type": "stream",
     "text": [
      "c:\\Users\\zly20\\AppData\\Local\\Programs\\Python\\Python311\\Lib\\site-packages\\transformers\\generation\\configuration_utils.py:628: UserWarning: `do_sample` is set to `False`. However, `temperature` is set to `0.6` -- this flag is only used in sample-based generation modes. You should set `do_sample=True` or unset `temperature`.\n",
      "  warnings.warn(\n",
      "c:\\Users\\zly20\\AppData\\Local\\Programs\\Python\\Python311\\Lib\\site-packages\\transformers\\generation\\configuration_utils.py:633: UserWarning: `do_sample` is set to `False`. However, `top_p` is set to `0.95` -- this flag is only used in sample-based generation modes. You should set `do_sample=True` or unset `top_p`.\n",
      "  warnings.warn(\n",
      "aircraft:  83%|████████▎ | 38/46 [01:52<00:28,  3.51s/it]"
     ]
    },
    {
     "name": "stdout",
     "output_type": "stream",
     "text": [
      "Query failed: Execution failed on sql '\n",
      "SELECT A.Aircraft\n",
      "FROM `aircraft`\n",
      "WHERE A.Aircraft_ID IN\n",
      "    (SELECT A.Aircraft_ID\n",
      "     FROM `airport_aircraft`\n",
      "     WHERE airport_aircraft.AIRPORT_ID =\n",
      "         (SELECT A.Aircraft_ID\n",
      "          FROM `airport`\n",
      "          WHERE airport_ID = 6)\n",
      "       AND airport_aircraft.AIRPORT_ID =\n",
      "         (SELECT A.Aircraft_ID\n",
      "          FROM `airport`\n",
      "          WHERE airport_ID = 7))': no such column: A.Aircraft\n"
     ]
    },
    {
     "name": "stderr",
     "output_type": "stream",
     "text": [
      "c:\\Users\\zly20\\AppData\\Local\\Programs\\Python\\Python311\\Lib\\site-packages\\transformers\\generation\\configuration_utils.py:628: UserWarning: `do_sample` is set to `False`. However, `temperature` is set to `0.6` -- this flag is only used in sample-based generation modes. You should set `do_sample=True` or unset `temperature`.\n",
      "  warnings.warn(\n",
      "c:\\Users\\zly20\\AppData\\Local\\Programs\\Python\\Python311\\Lib\\site-packages\\transformers\\generation\\configuration_utils.py:633: UserWarning: `do_sample` is set to `False`. However, `top_p` is set to `0.95` -- this flag is only used in sample-based generation modes. You should set `do_sample=True` or unset `top_p`.\n",
      "  warnings.warn(\n",
      "aircraft:  85%|████████▍ | 39/46 [01:56<00:26,  3.77s/it]c:\\Users\\zly20\\AppData\\Local\\Programs\\Python\\Python311\\Lib\\site-packages\\transformers\\generation\\configuration_utils.py:628: UserWarning: `do_sample` is set to `False`. However, `temperature` is set to `0.6` -- this flag is only used in sample-based generation modes. You should set `do_sample=True` or unset `temperature`.\n",
      "  warnings.warn(\n",
      "c:\\Users\\zly20\\AppData\\Local\\Programs\\Python\\Python311\\Lib\\site-packages\\transformers\\generation\\configuration_utils.py:633: UserWarning: `do_sample` is set to `False`. However, `top_p` is set to `0.95` -- this flag is only used in sample-based generation modes. You should set `do_sample=True` or unset `top_p`.\n",
      "  warnings.warn(\n",
      "aircraft:  87%|████████▋ | 40/46 [02:00<00:23,  3.85s/it]"
     ]
    },
    {
     "name": "stdout",
     "output_type": "stream",
     "text": [
      "Query failed: Execution failed on sql '\n",
      "SELECT airportInternationalName,\n",
      "       Total_Passengers, %_Change_2007,\n",
      "                          International_Passengers,\n",
      "                          Domestic_Passengers,\n",
      "                          Transit_Passengers,\n",
      "                          AircraftMovements,\n",
      "                          Freight_Metric_Tonnes\n",
      "FROM airport\n",
      "WHERE airportInternationalName LIKE '%_Large_Passengers%'': near \"%\": syntax error\n"
     ]
    },
    {
     "name": "stderr",
     "output_type": "stream",
     "text": [
      "c:\\Users\\zly20\\AppData\\Local\\Programs\\Python\\Python311\\Lib\\site-packages\\transformers\\generation\\configuration_utils.py:628: UserWarning: `do_sample` is set to `False`. However, `temperature` is set to `0.6` -- this flag is only used in sample-based generation modes. You should set `do_sample=True` or unset `temperature`.\n",
      "  warnings.warn(\n",
      "c:\\Users\\zly20\\AppData\\Local\\Programs\\Python\\Python311\\Lib\\site-packages\\transformers\\generation\\configuration_utils.py:633: UserWarning: `do_sample` is set to `False`. However, `top_p` is set to `0.95` -- this flag is only used in sample-based generation modes. You should set `do_sample=True` or unset `top_p`.\n",
      "  warnings.warn(\n",
      "aircraft:  89%|████████▉ | 41/46 [02:04<00:19,  3.92s/it]"
     ]
    },
    {
     "name": "stdout",
     "output_type": "stream",
     "text": [
      "Query failed: Execution failed on sql '\n",
      "SELECT P.Name,\n",
      "       P.Age\n",
      "FROM pilot P\n",
      "WHERE P.Age < 30\n",
      "  AND\n",
      "    (SELECT COUNT(*)\n",
      "     FROM match M\n",
      "     WHERE M.Winning_Pilot = P.Name\n",
      "       AND MDate < 30) >\n",
      "    (SELECT COUNT(*)\n",
      "     FROM match M\n",
      "     WHERE M.Winning_Pilot = P.Name\n",
      "       AND MDate < 30)': no such column: MDate\n"
     ]
    },
    {
     "name": "stderr",
     "output_type": "stream",
     "text": [
      "c:\\Users\\zly20\\AppData\\Local\\Programs\\Python\\Python311\\Lib\\site-packages\\transformers\\generation\\configuration_utils.py:628: UserWarning: `do_sample` is set to `False`. However, `temperature` is set to `0.6` -- this flag is only used in sample-based generation modes. You should set `do_sample=True` or unset `temperature`.\n",
      "  warnings.warn(\n",
      "c:\\Users\\zly20\\AppData\\Local\\Programs\\Python\\Python311\\Lib\\site-packages\\transformers\\generation\\configuration_utils.py:633: UserWarning: `do_sample` is set to `False`. However, `top_p` is set to `0.95` -- this flag is only used in sample-based generation modes. You should set `do_sample=True` or unset `top_p`.\n",
      "  warnings.warn(\n",
      "aircraft:  91%|█████████▏| 42/46 [02:09<00:16,  4.06s/it]"
     ]
    },
    {
     "name": "stdout",
     "output_type": "stream",
     "text": [
      "Query failed: Execution failed on sql 'SELECT ...\n",
      "FROM ... WHERE ...;': near \".\": syntax error\n"
     ]
    },
    {
     "name": "stderr",
     "output_type": "stream",
     "text": [
      "c:\\Users\\zly20\\AppData\\Local\\Programs\\Python\\Python311\\Lib\\site-packages\\transformers\\generation\\configuration_utils.py:628: UserWarning: `do_sample` is set to `False`. However, `temperature` is set to `0.6` -- this flag is only used in sample-based generation modes. You should set `do_sample=True` or unset `temperature`.\n",
      "  warnings.warn(\n",
      "c:\\Users\\zly20\\AppData\\Local\\Programs\\Python\\Python311\\Lib\\site-packages\\transformers\\generation\\configuration_utils.py:633: UserWarning: `do_sample` is set to `False`. However, `top_p` is set to `0.95` -- this flag is only used in sample-based generation modes. You should set `do_sample=True` or unset `top_p`.\n",
      "  warnings.warn(\n",
      "aircraft:  93%|█████████▎| 43/46 [02:12<00:11,  3.95s/it]"
     ]
    },
    {
     "name": "stdout",
     "output_type": "stream",
     "text": [
      "Query failed: Execution failed on sql '\n",
      "SELECT winner.pilot_name,\n",
      "       winner.age\n",
      "FROM match\n",
      "WHERE match.winning_pilot = winner.pilot_id\n",
      "GROUP BY winner.pilot_id\n",
      "ORDER BY winner.age ASC\n",
      "LIMIT 1;': no such column: winner.pilot_name\n"
     ]
    },
    {
     "name": "stderr",
     "output_type": "stream",
     "text": [
      "c:\\Users\\zly20\\AppData\\Local\\Programs\\Python\\Python311\\Lib\\site-packages\\transformers\\generation\\configuration_utils.py:628: UserWarning: `do_sample` is set to `False`. However, `temperature` is set to `0.6` -- this flag is only used in sample-based generation modes. You should set `do_sample=True` or unset `temperature`.\n",
      "  warnings.warn(\n",
      "c:\\Users\\zly20\\AppData\\Local\\Programs\\Python\\Python311\\Lib\\site-packages\\transformers\\generation\\configuration_utils.py:633: UserWarning: `do_sample` is set to `False`. However, `top_p` is set to `0.95` -- this flag is only used in sample-based generation modes. You should set `do_sample=True` or unset `top_p`.\n",
      "  warnings.warn(\n",
      "aircraft:  96%|█████████▌| 44/46 [02:17<00:08,  4.09s/it]c:\\Users\\zly20\\AppData\\Local\\Programs\\Python\\Python311\\Lib\\site-packages\\transformers\\generation\\configuration_utils.py:628: UserWarning: `do_sample` is set to `False`. However, `temperature` is set to `0.6` -- this flag is only used in sample-based generation modes. You should set `do_sample=True` or unset `temperature`.\n",
      "  warnings.warn(\n",
      "c:\\Users\\zly20\\AppData\\Local\\Programs\\Python\\Python311\\Lib\\site-packages\\transformers\\generation\\configuration_utils.py:633: UserWarning: `do_sample` is set to `False`. However, `top_p` is set to `0.95` -- this flag is only used in sample-based generation modes. You should set `do_sample=True` or unset `top_p`.\n",
      "  warnings.warn(\n",
      "aircraft:  98%|█████████▊| 45/46 [02:21<00:03,  3.98s/it]"
     ]
    },
    {
     "name": "stdout",
     "output_type": "stream",
     "text": [
      "Query failed: Execution failed on sql '\n",
      "SELECT `Name`\n",
      "FROM pilot\n",
      "WHERE `Pilot_Id` NOT NULL\n",
      "  AND NOT EXISTS(`Winning_Pilot`) IN\n",
      "    (SELECT `Winning_Pilot`\n",
      "     FROM match\n",
      "     WHERE `Country` LIKE '% Australia%')': near \"`Winning_Pilot`\": syntax error\n"
     ]
    },
    {
     "name": "stderr",
     "output_type": "stream",
     "text": [
      "c:\\Users\\zly20\\AppData\\Local\\Programs\\Python\\Python311\\Lib\\site-packages\\transformers\\generation\\configuration_utils.py:628: UserWarning: `do_sample` is set to `False`. However, `temperature` is set to `0.6` -- this flag is only used in sample-based generation modes. You should set `do_sample=True` or unset `temperature`.\n",
      "  warnings.warn(\n",
      "c:\\Users\\zly20\\AppData\\Local\\Programs\\Python\\Python311\\Lib\\site-packages\\transformers\\generation\\configuration_utils.py:633: UserWarning: `do_sample` is set to `False`. However, `top_p` is set to `0.95` -- this flag is only used in sample-based generation modes. You should set `do_sample=True` or unset `top_p`.\n",
      "  warnings.warn(\n",
      "aircraft: 100%|██████████| 46/46 [02:25<00:00,  3.16s/it]\n"
     ]
    },
    {
     "name": "stdout",
     "output_type": "stream",
     "text": [
      "Query failed: Execution failed on sql '\n",
      "SELECT P.Name\n",
      "FROM pilot\n",
      "WHERE P.Pilot_Id NOT IN (\n",
      "  SELECT Pilot_Id\n",
      "  FROM pilot WHERE Name LIKE '%Australia%'\n",
      "  OR P.Pilot_Id IN (\n",
      "  SELECT Pilot_Id\n",
      "  FROM pilot WHERE Name LIKE '%Australia%'\n",
      "  AND P.Pilot_Id IN (\n",
      "  SELECT Pilot_Id\n",
      "  FROM pilot WHERE Name LIKE '%Australia%'\n",
      "  AND P.Pilot_Id IN (\n",
      "  SELECT Pilot_Id\n",
      "  FROM pilot WHERE Name LIKE '%Australia%'\n",
      "  AND P.Pilot_Id IN (\n",
      "  SELECT Pilot_Id\n",
      "  FROM pilot WHERE Name LIKE '%Australia%'\n",
      "  AND P.Pilot_Id IN (\n",
      "  SELECT Pilot_Id\n",
      "  FROM pilot WHERE Name LIKE '%Australia%'\n",
      "  AND P.Pilot_Id IN (\n",
      "  SELECT Pilot_Id\n",
      "  FROM pilot WHERE Name LIKE '%Australia%'\n",
      "  AND P.Pilot_Id IN (\n",
      "  SELECT Pilot_Id\n",
      "  FROM pilot WHERE Name LIKE '%Australia%'\n",
      "  AND P.Pilot_Id IN (\n",
      "  SELECT Pilot_Id\n",
      "  FROM pilot WHERE Name LIKE '%Australia': unrecognized token: \"'%Australia\"\n",
      "✅ Accuracy for aircraft: 2/46 = 4.35%\n",
      "🔍 Evaluating architecture (17 questions)\n"
     ]
    },
    {
     "name": "stderr",
     "output_type": "stream",
     "text": [
      "architecture:   0%|          | 0/17 [00:00<?, ?it/s]c:\\Users\\zly20\\AppData\\Local\\Programs\\Python\\Python311\\Lib\\site-packages\\transformers\\generation\\configuration_utils.py:628: UserWarning: `do_sample` is set to `False`. However, `temperature` is set to `0.6` -- this flag is only used in sample-based generation modes. You should set `do_sample=True` or unset `temperature`.\n",
      "  warnings.warn(\n",
      "c:\\Users\\zly20\\AppData\\Local\\Programs\\Python\\Python311\\Lib\\site-packages\\transformers\\generation\\configuration_utils.py:633: UserWarning: `do_sample` is set to `False`. However, `top_p` is set to `0.95` -- this flag is only used in sample-based generation modes. You should set `do_sample=True` or unset `top_p`.\n",
      "  warnings.warn(\n",
      "architecture:   6%|▌         | 1/17 [00:03<00:48,  3.03s/it]c:\\Users\\zly20\\AppData\\Local\\Programs\\Python\\Python311\\Lib\\site-packages\\transformers\\generation\\configuration_utils.py:628: UserWarning: `do_sample` is set to `False`. However, `temperature` is set to `0.6` -- this flag is only used in sample-based generation modes. You should set `do_sample=True` or unset `temperature`.\n",
      "  warnings.warn(\n",
      "c:\\Users\\zly20\\AppData\\Local\\Programs\\Python\\Python311\\Lib\\site-packages\\transformers\\generation\\configuration_utils.py:633: UserWarning: `do_sample` is set to `False`. However, `top_p` is set to `0.95` -- this flag is only used in sample-based generation modes. You should set `do_sample=True` or unset `top_p`.\n",
      "  warnings.warn(\n",
      "architecture:  12%|█▏        | 2/17 [00:06<00:48,  3.26s/it]"
     ]
    },
    {
     "name": "stdout",
     "output_type": "stream",
     "text": [
      "Query failed: Execution failed on sql '\n",
      "SELECT m.name,\n",
      "       m.nationality,\n",
      "       m.id\n",
      "FROM mill m\n",
      "WHERE m.architect_id IN\n",
      "    (SELECT a.id\n",
      "     FROM a\n",
      "     WHERE a.gender = 'male')\n",
      "ORDER BY m.name ASC;': no such table: a\n"
     ]
    },
    {
     "name": "stderr",
     "output_type": "stream",
     "text": [
      "c:\\Users\\zly20\\AppData\\Local\\Programs\\Python\\Python311\\Lib\\site-packages\\transformers\\generation\\configuration_utils.py:628: UserWarning: `do_sample` is set to `False`. However, `temperature` is set to `0.6` -- this flag is only used in sample-based generation modes. You should set `do_sample=True` or unset `temperature`.\n",
      "  warnings.warn(\n",
      "c:\\Users\\zly20\\AppData\\Local\\Programs\\Python\\Python311\\Lib\\site-packages\\transformers\\generation\\configuration_utils.py:633: UserWarning: `do_sample` is set to `False`. However, `top_p` is set to `0.95` -- this flag is only used in sample-based generation modes. You should set `do_sample=True` or unset `top_p`.\n",
      "  warnings.warn(\n",
      "architecture:  18%|█▊        | 3/17 [00:11<00:54,  3.90s/it]c:\\Users\\zly20\\AppData\\Local\\Programs\\Python\\Python311\\Lib\\site-packages\\transformers\\generation\\configuration_utils.py:628: UserWarning: `do_sample` is set to `False`. However, `temperature` is set to `0.6` -- this flag is only used in sample-based generation modes. You should set `do_sample=True` or unset `temperature`.\n",
      "  warnings.warn(\n",
      "c:\\Users\\zly20\\AppData\\Local\\Programs\\Python\\Python311\\Lib\\site-packages\\transformers\\generation\\configuration_utils.py:633: UserWarning: `do_sample` is set to `False`. However, `top_p` is set to `0.95` -- this flag is only used in sample-based generation modes. You should set `do_sample=True` or unset `top_p`.\n",
      "  warnings.warn(\n",
      "architecture:  24%|██▎       | 4/17 [00:13<00:44,  3.39s/it]c:\\Users\\zly20\\AppData\\Local\\Programs\\Python\\Python311\\Lib\\site-packages\\transformers\\generation\\configuration_utils.py:628: UserWarning: `do_sample` is set to `False`. However, `temperature` is set to `0.6` -- this flag is only used in sample-based generation modes. You should set `do_sample=True` or unset `temperature`.\n",
      "  warnings.warn(\n",
      "c:\\Users\\zly20\\AppData\\Local\\Programs\\Python\\Python311\\Lib\\site-packages\\transformers\\generation\\configuration_utils.py:633: UserWarning: `do_sample` is set to `False`. However, `top_p` is set to `0.95` -- this flag is only used in sample-based generation modes. You should set `do_sample=True` or unset `top_p`.\n",
      "  warnings.warn(\n",
      "architecture:  29%|██▉       | 5/17 [00:17<00:42,  3.56s/it]"
     ]
    },
    {
     "name": "stdout",
     "output_type": "stream",
     "text": [
      "Query failed: Execution failed on sql '\n",
      "SELECT m.id,\n",
      "       m.name,\n",
      "       m.type,\n",
      "       mbuilt_year,\n",
      "       m.notes\n",
      "FROM mill\n",
      "WHERE m.type = 'Grondzeiler';': no such column: m.id\n"
     ]
    },
    {
     "name": "stderr",
     "output_type": "stream",
     "text": [
      "c:\\Users\\zly20\\AppData\\Local\\Programs\\Python\\Python311\\Lib\\site-packages\\transformers\\generation\\configuration_utils.py:628: UserWarning: `do_sample` is set to `False`. However, `temperature` is set to `0.6` -- this flag is only used in sample-based generation modes. You should set `do_sample=True` or unset `temperature`.\n",
      "  warnings.warn(\n",
      "c:\\Users\\zly20\\AppData\\Local\\Programs\\Python\\Python311\\Lib\\site-packages\\transformers\\generation\\configuration_utils.py:633: UserWarning: `do_sample` is set to `False`. However, `top_p` is set to `0.95` -- this flag is only used in sample-based generation modes. You should set `do_sample=True` or unset `top_p`.\n",
      "  warnings.warn(\n",
      "architecture:  35%|███▌      | 6/17 [00:21<00:41,  3.81s/it]"
     ]
    },
    {
     "name": "stdout",
     "output_type": "stream",
     "text": [
      "Query failed: Execution failed on sql '\n",
      "SELECT a.name,\n",
      "       a.nationality\n",
      "FROM architect a\n",
      "WHERE a.built_year >= 0;': no such column: a.built_year\n"
     ]
    },
    {
     "name": "stderr",
     "output_type": "stream",
     "text": [
      "c:\\Users\\zly20\\AppData\\Local\\Programs\\Python\\Python311\\Lib\\site-packages\\transformers\\generation\\configuration_utils.py:628: UserWarning: `do_sample` is set to `False`. However, `temperature` is set to `0.6` -- this flag is only used in sample-based generation modes. You should set `do_sample=True` or unset `temperature`.\n",
      "  warnings.warn(\n",
      "c:\\Users\\zly20\\AppData\\Local\\Programs\\Python\\Python311\\Lib\\site-packages\\transformers\\generation\\configuration_utils.py:633: UserWarning: `do_sample` is set to `False`. However, `top_p` is set to `0.95` -- this flag is only used in sample-based generation modes. You should set `do_sample=True` or unset `top_p`.\n",
      "  warnings.warn(\n",
      "architecture:  47%|████▋     | 8/17 [00:29<00:35,  3.93s/it]"
     ]
    },
    {
     "name": "stdout",
     "output_type": "stream",
     "text": [
      "Query failed: Execution failed on sql '\n",
      "SELECT DISTINCT \"mill\" type\n",
      "FROM \"mill\"\n",
      "WHERE \"architect_id\" IN (\"bridge\"\n",
      "                         WHERE \"architect_id\" IN (\"architect\"\n",
      "                                                  WHERE \"architect_id\" = 'American'\n",
      "                                                    OR \"architect_id\" = 'Canadian'));': near \"WHERE\": syntax error\n"
     ]
    },
    {
     "name": "stderr",
     "output_type": "stream",
     "text": [
      "c:\\Users\\zly20\\AppData\\Local\\Programs\\Python\\Python311\\Lib\\site-packages\\transformers\\generation\\configuration_utils.py:628: UserWarning: `do_sample` is set to `False`. However, `temperature` is set to `0.6` -- this flag is only used in sample-based generation modes. You should set `do_sample=True` or unset `temperature`.\n",
      "  warnings.warn(\n",
      "c:\\Users\\zly20\\AppData\\Local\\Programs\\Python\\Python311\\Lib\\site-packages\\transformers\\generation\\configuration_utils.py:633: UserWarning: `do_sample` is set to `False`. However, `top_p` is set to `0.95` -- this flag is only used in sample-based generation modes. You should set `do_sample=True` or unset `top_p`.\n",
      "  warnings.warn(\n",
      "architecture:  53%|█████▎    | 9/17 [00:33<00:31,  3.94s/it]"
     ]
    },
    {
     "name": "stdout",
     "output_type": "stream",
     "text": [
      "Query failed: Execution failed on sql '\n",
      "SELECT a.id,\n",
      "       a.name\n",
      "FROM architect a\n",
      "JOIN bridge b ON a.id = b.architect_id\n",
      "JOIN bridge b ON a.id = b.architect_id ... (\n",
      "                                            more queries)': near \".\": syntax error\n"
     ]
    },
    {
     "name": "stderr",
     "output_type": "stream",
     "text": [
      "c:\\Users\\zly20\\AppData\\Local\\Programs\\Python\\Python311\\Lib\\site-packages\\transformers\\generation\\configuration_utils.py:628: UserWarning: `do_sample` is set to `False`. However, `temperature` is set to `0.6` -- this flag is only used in sample-based generation modes. You should set `do_sample=True` or unset `temperature`.\n",
      "  warnings.warn(\n",
      "c:\\Users\\zly20\\AppData\\Local\\Programs\\Python\\Python311\\Lib\\site-packages\\transformers\\generation\\configuration_utils.py:633: UserWarning: `do_sample` is set to `False`. However, `top_p` is set to `0.95` -- this flag is only used in sample-based generation modes. You should set `do_sample=True` or unset `top_p`.\n",
      "  warnings.warn(\n",
      "architecture:  59%|█████▉    | 10/17 [00:37<00:28,  4.04s/it]"
     ]
    },
    {
     "name": "stdout",
     "output_type": "stream",
     "text": [
      "Query failed: Execution failed on sql '\n",
      "SELECT a.id,\n",
      "       a.name,\n",
      "       a.nationality,\n",
      "       b.mill_id,\n",
      "       b.mill_name,\n",
      "       b.mill_nationality\n",
      "FROM architect a,\n",
      "     bridge b\n",
      "WHERE a.id = b.mill_id\n",
      "  AND a.id =\n",
      "    (SELECT MIN(b.mill_id)\n",
      "     FROM bridge b);': no such column: b.mill_id\n"
     ]
    },
    {
     "name": "stderr",
     "output_type": "stream",
     "text": [
      "c:\\Users\\zly20\\AppData\\Local\\Programs\\Python\\Python311\\Lib\\site-packages\\transformers\\generation\\configuration_utils.py:628: UserWarning: `do_sample` is set to `False`. However, `temperature` is set to `0.6` -- this flag is only used in sample-based generation modes. You should set `do_sample=True` or unset `temperature`.\n",
      "  warnings.warn(\n",
      "c:\\Users\\zly20\\AppData\\Local\\Programs\\Python\\Python311\\Lib\\site-packages\\transformers\\generation\\configuration_utils.py:633: UserWarning: `do_sample` is set to `False`. However, `top_p` is set to `0.95` -- this flag is only used in sample-based generation modes. You should set `do_sample=True` or unset `top_p`.\n",
      "  warnings.warn(\n",
      "architecture:  65%|██████▍   | 11/17 [00:42<00:24,  4.16s/it]"
     ]
    },
    {
     "name": "stdout",
     "output_type": "stream",
     "text": [
      "Query failed: Execution failed on sql '\n",
      "SELECT a.id,\n",
      "       a.name,\n",
      "       a.gender,\n",
      "       b.id,\n",
      "       b.name,\n",
      "       b.gender,\n",
      "       m.id,\n",
      "       m.name\n",
      "FROM arch\n",
      "JOIN bridge ON arch.id = bridge.architect_id\n",
      "JOIN mill ON arch.id = mill.architect_id\n",
      "GROUP BY a.id,\n",
      "         a.name,\n",
      "         a.gender,\n",
      "         b.id,\n",
      "         b.name,\n",
      "         b.gender,\n",
      "         m.id,\n",
      "         m.name\n",
      "HAVING COUNT(bid) = 2\n",
      "OR COUNT(m.id) = 1': no such table: arch\n"
     ]
    },
    {
     "name": "stderr",
     "output_type": "stream",
     "text": [
      "c:\\Users\\zly20\\AppData\\Local\\Programs\\Python\\Python311\\Lib\\site-packages\\transformers\\generation\\configuration_utils.py:628: UserWarning: `do_sample` is set to `False`. However, `temperature` is set to `0.6` -- this flag is only used in sample-based generation modes. You should set `do_sample=True` or unset `temperature`.\n",
      "  warnings.warn(\n",
      "c:\\Users\\zly20\\AppData\\Local\\Programs\\Python\\Python311\\Lib\\site-packages\\transformers\\generation\\configuration_utils.py:633: UserWarning: `do_sample` is set to `False`. However, `top_p` is set to `0.95` -- this flag is only used in sample-based generation modes. You should set `do_sample=True` or unset `top_p`.\n",
      "  warnings.warn(\n",
      "architecture:  71%|███████   | 12/17 [00:46<00:20,  4.01s/it]c:\\Users\\zly20\\AppData\\Local\\Programs\\Python\\Python311\\Lib\\site-packages\\transformers\\generation\\configuration_utils.py:628: UserWarning: `do_sample` is set to `False`. However, `temperature` is set to `0.6` -- this flag is only used in sample-based generation modes. You should set `do_sample=True` or unset `temperature`.\n",
      "  warnings.warn(\n",
      "c:\\Users\\zly20\\AppData\\Local\\Programs\\Python\\Python311\\Lib\\site-packages\\transformers\\generation\\configuration_utils.py:633: UserWarning: `do_sample` is set to `False`. However, `top_p` is set to `0.95` -- this flag is only used in sample-based generation modes. You should set `do_sample=True` or unset `top_p`.\n",
      "  warnings.warn(\n",
      "architecture:  76%|███████▋  | 13/17 [00:50<00:17,  4.29s/it]"
     ]
    },
    {
     "name": "stdout",
     "output_type": "stream",
     "text": [
      "Query failed: Execution failed on sql '\n",
      "SELECT m.id,\n",
      "       m.name\n",
      "FROM mill m\n",
      "WHERE m.name LIKE '%Moulin%'\n",
      "  AND m.français == 'Oui'': no such column: m.français\n"
     ]
    },
    {
     "name": "stderr",
     "output_type": "stream",
     "text": [
      "c:\\Users\\zly20\\AppData\\Local\\Programs\\Python\\Python311\\Lib\\site-packages\\transformers\\generation\\configuration_utils.py:628: UserWarning: `do_sample` is set to `False`. However, `temperature` is set to `0.6` -- this flag is only used in sample-based generation modes. You should set `do_sample=True` or unset `temperature`.\n",
      "  warnings.warn(\n",
      "c:\\Users\\zly20\\AppData\\Local\\Programs\\Python\\Python311\\Lib\\site-packages\\transformers\\generation\\configuration_utils.py:633: UserWarning: `do_sample` is set to `False`. However, `top_p` is set to `0.95` -- this flag is only used in sample-based generation modes. You should set `do_sample=True` or unset `top_p`.\n",
      "  warnings.warn(\n",
      "architecture:  82%|████████▏ | 14/17 [00:54<00:12,  4.08s/it]"
     ]
    },
    {
     "name": "stdout",
     "output_type": "stream",
     "text": [
      "Query failed: Execution failed on sql '\n",
      "SELECT DISTINCT m.name\n",
      "FROM mill m\n",
      "WHERE m.architect_id IN\n",
      "    (SELECT a.id\n",
      "     FROM architect a\n",
      "     WHERE a.name LIKE '%Bridge%';)': near \";\": syntax error\n"
     ]
    },
    {
     "name": "stderr",
     "output_type": "stream",
     "text": [
      "c:\\Users\\zly20\\AppData\\Local\\Programs\\Python\\Python311\\Lib\\site-packages\\transformers\\generation\\configuration_utils.py:628: UserWarning: `do_sample` is set to `False`. However, `temperature` is set to `0.6` -- this flag is only used in sample-based generation modes. You should set `do_sample=True` or unset `temperature`.\n",
      "  warnings.warn(\n",
      "c:\\Users\\zly20\\AppData\\Local\\Programs\\Python\\Python311\\Lib\\site-packages\\transformers\\generation\\configuration_utils.py:633: UserWarning: `do_sample` is set to `False`. However, `top_p` is set to `0.95` -- this flag is only used in sample-based generation modes. You should set `do_sample=True` or unset `top_p`.\n",
      "  warnings.warn(\n",
      "architecture:  88%|████████▊ | 15/17 [00:58<00:08,  4.13s/it]c:\\Users\\zly20\\AppData\\Local\\Programs\\Python\\Python311\\Lib\\site-packages\\transformers\\generation\\configuration_utils.py:628: UserWarning: `do_sample` is set to `False`. However, `temperature` is set to `0.6` -- this flag is only used in sample-based generation modes. You should set `do_sample=True` or unset `temperature`.\n",
      "  warnings.warn(\n",
      "c:\\Users\\zly20\\AppData\\Local\\Programs\\Python\\Python311\\Lib\\site-packages\\transformers\\generation\\configuration_utils.py:633: UserWarning: `do_sample` is set to `False`. However, `top_p` is set to `0.95` -- this flag is only used in sample-based generation modes. You should set `do_sample=True` or unset `top_p`.\n",
      "  warnings.warn(\n",
      "architecture:  94%|█████████▍| 16/17 [01:02<00:04,  4.06s/it]"
     ]
    },
    {
     "name": "stdout",
     "output_type": "stream",
     "text": [
      "Query failed: Execution failed on sql '\n",
      "SELECT a.id,\n",
      "       a.name,\n",
      "       a.nationality,\n",
      "       a.gender,\n",
      "       b.id,\n",
      "       b.name,\n",
      "       b.length_meters,\n",
      "       b.length_feet,\n",
      "       bbuilt_year,\n",
      "       b.notes,\n",
      "       m.name,\n",
      "       m.type,\n",
      "       m.location,\n",
      "       mbuilt_year,\n",
      "       m.notes,\n",
      "       abuilt_year > 1850\n",
      "FROM architect a\n",
      "LEFT JOIN bridge b ON a.id = b.architect_id\n",
      "LEFT JOIN mill m ON a.id = b.architect_id\n",
      "WHERE a.id NOT IN\n",
      "    (SELECT id\n",
      "     FROM arch 'a'\n",
      "     WHERE abuilt_year > 1850)': no such table: arch\n"
     ]
    },
    {
     "name": "stderr",
     "output_type": "stream",
     "text": [
      "c:\\Users\\zly20\\AppData\\Local\\Programs\\Python\\Python311\\Lib\\site-packages\\transformers\\generation\\configuration_utils.py:628: UserWarning: `do_sample` is set to `False`. However, `temperature` is set to `0.6` -- this flag is only used in sample-based generation modes. You should set `do_sample=True` or unset `temperature`.\n",
      "  warnings.warn(\n",
      "c:\\Users\\zly20\\AppData\\Local\\Programs\\Python\\Python311\\Lib\\site-packages\\transformers\\generation\\configuration_utils.py:633: UserWarning: `do_sample` is set to `False`. However, `top_p` is set to `0.95` -- this flag is only used in sample-based generation modes. You should set `do_sample=True` or unset `top_p`.\n",
      "  warnings.warn(\n",
      "architecture: 100%|██████████| 17/17 [01:06<00:00,  3.91s/it]\n"
     ]
    },
    {
     "name": "stdout",
     "output_type": "stream",
     "text": [
      "Query failed: Execution failed on sql '\n",
      "SELECT b.name\n",
      "FROM bridge b\n",
      "WHERE b.architect_id IN\n",
      "    (SELECT a.id\n",
      "     FROM architect a\n",
      "     WHERE a.nationality = 'American'\n",
      "       AND a.name = 'architect');\n",
      "\n",
      "\n",
      "SELECT b.name\n",
      "FROM bridge b\n",
      "WHERE b.architect_id IN\n",
      "    (SELECT a.id\n",
      "     FROM architect a\n",
      "     WHERE a.nationality = 'American'\n",
      "       AND a.name = 'architect');': You can only execute one statement at a time.\n",
      "✅ Accuracy for architecture: 1/17 = 5.88%\n",
      "🔍 Evaluating cinema (30 questions)\n"
     ]
    },
    {
     "name": "stderr",
     "output_type": "stream",
     "text": [
      "cinema:   0%|          | 0/30 [00:00<?, ?it/s]c:\\Users\\zly20\\AppData\\Local\\Programs\\Python\\Python311\\Lib\\site-packages\\transformers\\generation\\configuration_utils.py:628: UserWarning: `do_sample` is set to `False`. However, `temperature` is set to `0.6` -- this flag is only used in sample-based generation modes. You should set `do_sample=True` or unset `temperature`.\n",
      "  warnings.warn(\n",
      "c:\\Users\\zly20\\AppData\\Local\\Programs\\Python\\Python311\\Lib\\site-packages\\transformers\\generation\\configuration_utils.py:633: UserWarning: `do_sample` is set to `False`. However, `top_p` is set to `0.95` -- this flag is only used in sample-based generation modes. You should set `do_sample=True` or unset `top_p`.\n",
      "  warnings.warn(\n",
      "cinema:   3%|▎         | 1/30 [00:04<02:19,  4.81s/it]"
     ]
    },
    {
     "name": "stdout",
     "output_type": "stream",
     "text": [
      "Query failed: Execution failed on sql '\n",
      "SELECT DISTINCT\n",
      "FROM cinema\n",
      "WHERE Capacity > 800': near \"FROM\": syntax error\n"
     ]
    },
    {
     "name": "stderr",
     "output_type": "stream",
     "text": [
      "c:\\Users\\zly20\\AppData\\Local\\Programs\\Python\\Python311\\Lib\\site-packages\\transformers\\generation\\configuration_utils.py:628: UserWarning: `do_sample` is set to `False`. However, `temperature` is set to `0.6` -- this flag is only used in sample-based generation modes. You should set `do_sample=True` or unset `temperature`.\n",
      "  warnings.warn(\n",
      "c:\\Users\\zly20\\AppData\\Local\\Programs\\Python\\Python311\\Lib\\site-packages\\transformers\\generation\\configuration_utils.py:633: UserWarning: `do_sample` is set to `False`. However, `top_p` is set to `0.95` -- this flag is only used in sample-based generation modes. You should set `do_sample=True` or unset `top_p`.\n",
      "  warnings.warn(\n",
      "cinema:   7%|▋         | 2/30 [00:08<01:55,  4.12s/it]"
     ]
    },
    {
     "name": "stdout",
     "output_type": "stream",
     "text": [
      "Query failed: Execution failed on sql '\n",
      "SELECT DISTINCT t.Location\n",
      "FROM cinema t\n",
      "WHERE t.Cinema_ID IN\n",
      "    (SELECT Cinema_ID\n",
      "     FROM cinema\n",
      "     WHERE Opening_year = 2010\n",
      "       OR Opening_year = 2011);': no such column: Opening_year\n"
     ]
    },
    {
     "name": "stderr",
     "output_type": "stream",
     "text": [
      "c:\\Users\\zly20\\AppData\\Local\\Programs\\Python\\Python311\\Lib\\site-packages\\transformers\\generation\\configuration_utils.py:628: UserWarning: `do_sample` is set to `False`. However, `temperature` is set to `0.6` -- this flag is only used in sample-based generation modes. You should set `do_sample=True` or unset `temperature`.\n",
      "  warnings.warn(\n",
      "c:\\Users\\zly20\\AppData\\Local\\Programs\\Python\\Python311\\Lib\\site-packages\\transformers\\generation\\configuration_utils.py:633: UserWarning: `do_sample` is set to `False`. However, `top_p` is set to `0.95` -- this flag is only used in sample-based generation modes. You should set `do_sample=True` or unset `top_p`.\n",
      "  warnings.warn(\n",
      "cinema:  10%|█         | 3/30 [00:10<01:25,  3.18s/it]c:\\Users\\zly20\\AppData\\Local\\Programs\\Python\\Python311\\Lib\\site-packages\\transformers\\generation\\configuration_utils.py:628: UserWarning: `do_sample` is set to `False`. However, `temperature` is set to `0.6` -- this flag is only used in sample-based generation modes. You should set `do_sample=True` or unset `temperature`.\n",
      "  warnings.warn(\n",
      "c:\\Users\\zly20\\AppData\\Local\\Programs\\Python\\Python311\\Lib\\site-packages\\transformers\\generation\\configuration_utils.py:633: UserWarning: `do_sample` is set to `False`. However, `top_p` is set to `0.95` -- this flag is only used in sample-based generation modes. You should set `do_sample=True` or unset `top_p`.\n",
      "  warnings.warn(\n",
      "cinema:  13%|█▎        | 4/30 [00:12<01:08,  2.65s/it]c:\\Users\\zly20\\AppData\\Local\\Programs\\Python\\Python311\\Lib\\site-packages\\transformers\\generation\\configuration_utils.py:628: UserWarning: `do_sample` is set to `False`. However, `temperature` is set to `0.6` -- this flag is only used in sample-based generation modes. You should set `do_sample=True` or unset `temperature`.\n",
      "  warnings.warn(\n",
      "c:\\Users\\zly20\\AppData\\Local\\Programs\\Python\\Python311\\Lib\\site-packages\\transformers\\generation\\configuration_utils.py:633: UserWarning: `do_sample` is set to `False`. However, `top_p` is set to `0.95` -- this flag is only used in sample-based generation modes. You should set `do_sample=True` or unset `top_p`.\n",
      "  warnings.warn(\n",
      "cinema:  17%|█▋        | 5/30 [00:15<01:10,  2.81s/it]"
     ]
    },
    {
     "name": "stdout",
     "output_type": "stream",
     "text": [
      "Query failed: Execution failed on sql '-- Get all films\n",
      "\n",
      "SELECT Film_ID,\n",
      "       Number_in_season,\n",
      "       Title\n",
      "FROM film LEFT JOINSchedule ON film.Film_ID = Schedule.Film_ID;\n",
      "\n",
      "-- Get all cinemas\n",
      "\n",
      "SELECT CINema.Name,\n",
      "       Opening_year,\n",
      "       Capacity\n",
      "FROM cinema LEFT JOINSchedule ON cinema.Cinema_ID = Schedule.Cinema_ID;\n",
      "\n",
      "-- Get all films per cinema\n",
      "\n",
      "SELECT Film_ID,\n",
      "       Number_in_season,\n",
      "       Title\n",
      "FROM film LEFT JOINSchedule ON film.Film_ID = Schedule.Film_ID;': near \"ON\": syntax error\n"
     ]
    },
    {
     "name": "stderr",
     "output_type": "stream",
     "text": [
      "c:\\Users\\zly20\\AppData\\Local\\Programs\\Python\\Python311\\Lib\\site-packages\\transformers\\generation\\configuration_utils.py:628: UserWarning: `do_sample` is set to `False`. However, `temperature` is set to `0.6` -- this flag is only used in sample-based generation modes. You should set `do_sample=True` or unset `temperature`.\n",
      "  warnings.warn(\n",
      "c:\\Users\\zly20\\AppData\\Local\\Programs\\Python\\Python311\\Lib\\site-packages\\transformers\\generation\\configuration_utils.py:633: UserWarning: `do_sample` is set to `False`. However, `top_p` is set to `0.95` -- this flag is only used in sample-based generation modes. You should set `do_sample=True` or unset `top_p`.\n",
      "  warnings.warn(\n",
      "cinema:  20%|██        | 6/30 [00:18<01:09,  2.91s/it]"
     ]
    },
    {
     "name": "stdout",
     "output_type": "stream",
     "text": [
      "Query failed: Execution failed on sql '\n",
      "SELECT C.Name,\n",
      "       C.Location,\n",
      "       F.Title,\n",
      "       F.Directed_by\n",
      "FROM cinema C\n",
      "JOIN film F ON C.Film_ID = F.Film_ID\n",
      "FROM film F\n",
      "WHERE F.Capacity >\n",
      "    (SELECT MAX(Capacity)\n",
      "     FROM cinema C)': near \"FROM\": syntax error\n"
     ]
    },
    {
     "name": "stderr",
     "output_type": "stream",
     "text": [
      "c:\\Users\\zly20\\AppData\\Local\\Programs\\Python\\Python311\\Lib\\site-packages\\transformers\\generation\\configuration_utils.py:628: UserWarning: `do_sample` is set to `False`. However, `temperature` is set to `0.6` -- this flag is only used in sample-based generation modes. You should set `do_sample=True` or unset `temperature`.\n",
      "  warnings.warn(\n",
      "c:\\Users\\zly20\\AppData\\Local\\Programs\\Python\\Python311\\Lib\\site-packages\\transformers\\generation\\configuration_utils.py:633: UserWarning: `do_sample` is set to `False`. However, `top_p` is set to `0.95` -- this flag is only used in sample-based generation modes. You should set `do_sample=True` or unset `top_p`.\n",
      "  warnings.warn(\n",
      "cinema:  23%|██▎       | 7/30 [00:21<01:08,  2.97s/it]"
     ]
    },
    {
     "name": "stdout",
     "output_type": "stream",
     "text": [
      "Query failed: Execution failed on sql '\n",
      "SELECT DISTINCT\n",
      "From (Location) AS [Location]\n",
      "FROM cinema;': near \"From\": syntax error\n"
     ]
    },
    {
     "name": "stderr",
     "output_type": "stream",
     "text": [
      "c:\\Users\\zly20\\AppData\\Local\\Programs\\Python\\Python311\\Lib\\site-packages\\transformers\\generation\\configuration_utils.py:628: UserWarning: `do_sample` is set to `False`. However, `temperature` is set to `0.6` -- this flag is only used in sample-based generation modes. You should set `do_sample=True` or unset `temperature`.\n",
      "  warnings.warn(\n",
      "c:\\Users\\zly20\\AppData\\Local\\Programs\\Python\\Python311\\Lib\\site-packages\\transformers\\generation\\configuration_utils.py:633: UserWarning: `do_sample` is set to `False`. However, `top_p` is set to `0.95` -- this flag is only used in sample-based generation modes. You should set `do_sample=True` or unset `top_p`.\n",
      "  warnings.warn(\n",
      "cinema:  30%|███       | 9/30 [00:26<00:56,  2.69s/it]"
     ]
    },
    {
     "name": "stdout",
     "output_type": "stream",
     "text": [
      "Query failed: Execution failed on sql '-- Join cinema with film to get all films\n",
      "\n",
      "SELECT c.Name,\n",
      "       c.Opening_year\n",
      "FROM cinema c\n",
      "JOIN film f ON c.Film_ID = f.Film_ID -- Order the films by opening year descending\n",
      "ORDER BY f.Opening_year DESC -- Get all films\n",
      "\n",
      "SELECT c.Name,\n",
      "       c.Opening_year\n",
      "FROM cinema c\n",
      "JOIN film f ON c.Film_ID = f.Film_ID': near \"SELECT\": syntax error\n"
     ]
    },
    {
     "name": "stderr",
     "output_type": "stream",
     "text": [
      "c:\\Users\\zly20\\AppData\\Local\\Programs\\Python\\Python311\\Lib\\site-packages\\transformers\\generation\\configuration_utils.py:628: UserWarning: `do_sample` is set to `False`. However, `temperature` is set to `0.6` -- this flag is only used in sample-based generation modes. You should set `do_sample=True` or unset `temperature`.\n",
      "  warnings.warn(\n",
      "c:\\Users\\zly20\\AppData\\Local\\Programs\\Python\\Python311\\Lib\\site-packages\\transformers\\generation\\configuration_utils.py:633: UserWarning: `do_sample` is set to `False`. However, `top_p` is set to `0.95` -- this flag is only used in sample-based generation modes. You should set `do_sample=True` or unset `top_p`.\n",
      "  warnings.warn(\n",
      "cinema:  33%|███▎      | 10/30 [00:29<00:55,  2.79s/it]"
     ]
    },
    {
     "name": "stdout",
     "output_type": "stream",
     "text": [
      "Query failed: Execution failed on sql '\n",
      "SELECT Cinema.Name,\n",
      "       C Cinema.Location,\n",
      "       C Cinema.Capacity\n",
      "FROM Cinema\n",
      "WHERE Capacity =\n",
      "    (SELECT MAX(Cinema.Capacity)\n",
      "     FROM Cinema);': near \".\": syntax error\n"
     ]
    },
    {
     "name": "stderr",
     "output_type": "stream",
     "text": [
      "c:\\Users\\zly20\\AppData\\Local\\Programs\\Python\\Python311\\Lib\\site-packages\\transformers\\generation\\configuration_utils.py:628: UserWarning: `do_sample` is set to `False`. However, `temperature` is set to `0.6` -- this flag is only used in sample-based generation modes. You should set `do_sample=True` or unset `temperature`.\n",
      "  warnings.warn(\n",
      "c:\\Users\\zly20\\AppData\\Local\\Programs\\Python\\Python311\\Lib\\site-packages\\transformers\\generation\\configuration_utils.py:633: UserWarning: `do_sample` is set to `False`. However, `top_p` is set to `0.95` -- this flag is only used in sample-based generation modes. You should set `do_sample=True` or unset `top_p`.\n",
      "  warnings.warn(\n",
      "cinema:  37%|███▋      | 11/30 [00:32<00:55,  2.91s/it]"
     ]
    },
    {
     "name": "stdout",
     "output_type": "stream",
     "text": [
      "Query failed: Execution failed on sql '\n",
      "SELECT C.Film_ID,\n",
      "       C.Name,\n",
      "       C open_year,\n",
      "       C Capacities,\n",
      "       C Location,\n",
      "         C open_year,\n",
      "         C Capacities,\n",
      "         C open_year,\n",
      "         C Capacities,\n",
      "         C open_year,\n",
      "         C Capacities,\n",
      "FROM cinema\n",
      "LEFT JOIN schedule ON cinema.Cinema_ID = schedule.Cinema_ID\n",
      "GROUP BY cinema.Cinema_ID\n",
      "ORDER BY cinema open_year ASC': near \"FROM\": syntax error\n"
     ]
    },
    {
     "name": "stderr",
     "output_type": "stream",
     "text": [
      "c:\\Users\\zly20\\AppData\\Local\\Programs\\Python\\Python311\\Lib\\site-packages\\transformers\\generation\\configuration_utils.py:628: UserWarning: `do_sample` is set to `False`. However, `temperature` is set to `0.6` -- this flag is only used in sample-based generation modes. You should set `do_sample=True` or unset `temperature`.\n",
      "  warnings.warn(\n",
      "c:\\Users\\zly20\\AppData\\Local\\Programs\\Python\\Python311\\Lib\\site-packages\\transformers\\generation\\configuration_utils.py:633: UserWarning: `do_sample` is set to `False`. However, `top_p` is set to `0.95` -- this flag is only used in sample-based generation modes. You should set `do_sample=True` or unset `top_p`.\n",
      "  warnings.warn(\n",
      "cinema:  40%|████      | 12/30 [00:35<00:51,  2.88s/it]c:\\Users\\zly20\\AppData\\Local\\Programs\\Python\\Python311\\Lib\\site-packages\\transformers\\generation\\configuration_utils.py:628: UserWarning: `do_sample` is set to `False`. However, `temperature` is set to `0.6` -- this flag is only used in sample-based generation modes. You should set `do_sample=True` or unset `temperature`.\n",
      "  warnings.warn(\n",
      "c:\\Users\\zly20\\AppData\\Local\\Programs\\Python\\Python311\\Lib\\site-packages\\transformers\\generation\\configuration_utils.py:633: UserWarning: `do_sample` is set to `False`. However, `top_p` is set to `0.95` -- this flag is only used in sample-based generation modes. You should set `do_sample=True` or unset `top_p`.\n",
      "  warnings.warn(\n",
      "cinema:  43%|████▎     | 13/30 [00:38<00:48,  2.86s/it]"
     ]
    },
    {
     "name": "stdout",
     "output_type": "stream",
     "text": [
      "Query failed: Execution failed on sql '\n",
      "SELECT Location,\n",
      "       COUNT(Cinema_ID) AS Rank\n",
      "FROM cinema\n",
      "LEFT JOIN schedule ON cinema.Cinema_ID = schedule.Cinema_ID\n",
      "GROUP BY Location\n",
      "ORDER BY Rank DESC\n",
      "LIMIT 1': ambiguous column name: Cinema_ID\n"
     ]
    },
    {
     "name": "stderr",
     "output_type": "stream",
     "text": [
      "c:\\Users\\zly20\\AppData\\Local\\Programs\\Python\\Python311\\Lib\\site-packages\\transformers\\generation\\configuration_utils.py:628: UserWarning: `do_sample` is set to `False`. However, `temperature` is set to `0.6` -- this flag is only used in sample-based generation modes. You should set `do_sample=True` or unset `temperature`.\n",
      "  warnings.warn(\n",
      "c:\\Users\\zly20\\AppData\\Local\\Programs\\Python\\Python311\\Lib\\site-packages\\transformers\\generation\\configuration_utils.py:633: UserWarning: `do_sample` is set to `False`. However, `top_p` is set to `0.95` -- this flag is only used in sample-based generation modes. You should set `do_sample=True` or unset `top_p`.\n",
      "  warnings.warn(\n",
      "cinema:  47%|████▋     | 14/30 [00:40<00:45,  2.84s/it]"
     ]
    },
    {
     "name": "stdout",
     "output_type": "stream",
     "text": [
      "Query failed: Execution failed on sql '\n",
      "SELECT DISTINCT c.Location\n",
      "FROM cinema c\n",
      "JOIN schedule s ON s.Cinema_ID = c.Cinema_ID\n",
      "JOIN schedule s ON s.Cinema_ID = c2.Cinema_ID ... (repeat\n",
      "                                                   for all cinemas with capacity >300)': near \".\": syntax error\n"
     ]
    },
    {
     "name": "stderr",
     "output_type": "stream",
     "text": [
      "c:\\Users\\zly20\\AppData\\Local\\Programs\\Python\\Python311\\Lib\\site-packages\\transformers\\generation\\configuration_utils.py:628: UserWarning: `do_sample` is set to `False`. However, `temperature` is set to `0.6` -- this flag is only used in sample-based generation modes. You should set `do_sample=True` or unset `temperature`.\n",
      "  warnings.warn(\n",
      "c:\\Users\\zly20\\AppData\\Local\\Programs\\Python\\Python311\\Lib\\site-packages\\transformers\\generation\\configuration_utils.py:633: UserWarning: `do_sample` is set to `False`. However, `top_p` is set to `0.95` -- this flag is only used in sample-based generation modes. You should set `do_sample=True` or unset `top_p`.\n",
      "  warnings.warn(\n",
      "cinema:  50%|█████     | 15/30 [00:43<00:42,  2.82s/it]"
     ]
    },
    {
     "name": "stdout",
     "output_type": "stream",
     "text": [
      "Query failed: Execution failed on sql '\n",
      "SELECT DISTINCT FromLocation\n",
      "FROM film\n",
      "WHERE film.Title LIKE '%Cinema%'\n",
      "  AND film.Title LIKE '%Film%'\n",
      "  AND film.Title LIKE '%Schedule%'\n",
      "  AND film.Title LIKE '%Cinema%'\n",
      "  AND film.Title LIKE '%Film%'\n",
      "  AND film.Title LIKE '%Schedule%'\n",
      "  AND film.Title LIKE '%Cinema%'\n",
      "  AND film.Title LIKE '%Film%'\n",
      "  AND film.Title LIKE '%Schedule%' Wait,\n",
      "      that's not right. I think I'm confusing the table names. Let me try again.': near \"Wait\": syntax error\n"
     ]
    },
    {
     "name": "stderr",
     "output_type": "stream",
     "text": [
      "c:\\Users\\zly20\\AppData\\Local\\Programs\\Python\\Python311\\Lib\\site-packages\\transformers\\generation\\configuration_utils.py:628: UserWarning: `do_sample` is set to `False`. However, `temperature` is set to `0.6` -- this flag is only used in sample-based generation modes. You should set `do_sample=True` or unset `temperature`.\n",
      "  warnings.warn(\n",
      "c:\\Users\\zly20\\AppData\\Local\\Programs\\Python\\Python311\\Lib\\site-packages\\transformers\\generation\\configuration_utils.py:633: UserWarning: `do_sample` is set to `False`. However, `top_p` is set to `0.95` -- this flag is only used in sample-based generation modes. You should set `do_sample=True` or unset `top_p`.\n",
      "  warnings.warn(\n",
      "cinema:  53%|█████▎    | 16/30 [00:45<00:37,  2.66s/it]c:\\Users\\zly20\\AppData\\Local\\Programs\\Python\\Python311\\Lib\\site-packages\\transformers\\generation\\configuration_utils.py:628: UserWarning: `do_sample` is set to `False`. However, `temperature` is set to `0.6` -- this flag is only used in sample-based generation modes. You should set `do_sample=True` or unset `temperature`.\n",
      "  warnings.warn(\n",
      "c:\\Users\\zly20\\AppData\\Local\\Programs\\Python\\Python311\\Lib\\site-packages\\transformers\\generation\\configuration_utils.py:633: UserWarning: `do_sample` is set to `False`. However, `top_p` is set to `0.95` -- this flag is only used in sample-based generation modes. You should set `do_sample=True` or unset `top_p`.\n",
      "  warnings.warn(\n",
      "cinema:  57%|█████▋    | 17/30 [00:48<00:32,  2.48s/it]c:\\Users\\zly20\\AppData\\Local\\Programs\\Python\\Python311\\Lib\\site-packages\\transformers\\generation\\configuration_utils.py:628: UserWarning: `do_sample` is set to `False`. However, `temperature` is set to `0.6` -- this flag is only used in sample-based generation modes. You should set `do_sample=True` or unset `temperature`.\n",
      "  warnings.warn(\n",
      "c:\\Users\\zly20\\AppData\\Local\\Programs\\Python\\Python311\\Lib\\site-packages\\transformers\\generation\\configuration_utils.py:633: UserWarning: `do_sample` is set to `False`. However, `top_p` is set to `0.95` -- this flag is only used in sample-based generation modes. You should set `do_sample=True` or unset `top_p`.\n",
      "  warnings.warn(\n",
      "cinema:  60%|██████    | 18/30 [00:50<00:30,  2.56s/it]"
     ]
    },
    {
     "name": "stdout",
     "output_type": "stream",
     "text": [
      "Query failed: 'NoneType' object is not iterable\n"
     ]
    },
    {
     "name": "stderr",
     "output_type": "stream",
     "text": [
      "c:\\Users\\zly20\\AppData\\Local\\Programs\\Python\\Python311\\Lib\\site-packages\\transformers\\generation\\configuration_utils.py:628: UserWarning: `do_sample` is set to `False`. However, `temperature` is set to `0.6` -- this flag is only used in sample-based generation modes. You should set `do_sample=True` or unset `temperature`.\n",
      "  warnings.warn(\n",
      "c:\\Users\\zly20\\AppData\\Local\\Programs\\Python\\Python311\\Lib\\site-packages\\transformers\\generation\\configuration_utils.py:633: UserWarning: `do_sample` is set to `False`. However, `top_p` is set to `0.95` -- this flag is only used in sample-based generation modes. You should set `do_sample=True` or unset `top_p`.\n",
      "  warnings.warn(\n",
      "cinema:  63%|██████▎   | 19/30 [00:53<00:27,  2.48s/it]"
     ]
    },
    {
     "name": "stdout",
     "output_type": "stream",
     "text": [
      "Query failed: Execution failed on sql '\n",
      "SELECT DISTINCT\n",
      "FROM film \"Directed_by\" WHERE ... [Need to fill the WHERE clause]': near \"FROM\": syntax error\n"
     ]
    },
    {
     "name": "stderr",
     "output_type": "stream",
     "text": [
      "c:\\Users\\zly20\\AppData\\Local\\Programs\\Python\\Python311\\Lib\\site-packages\\transformers\\generation\\configuration_utils.py:628: UserWarning: `do_sample` is set to `False`. However, `temperature` is set to `0.6` -- this flag is only used in sample-based generation modes. You should set `do_sample=True` or unset `temperature`.\n",
      "  warnings.warn(\n",
      "c:\\Users\\zly20\\AppData\\Local\\Programs\\Python\\Python311\\Lib\\site-packages\\transformers\\generation\\configuration_utils.py:633: UserWarning: `do_sample` is set to `False`. However, `top_p` is set to `0.95` -- this flag is only used in sample-based generation modes. You should set `do_sample=True` or unset `top_p`.\n",
      "  warnings.warn(\n",
      "cinema:  67%|██████▋   | 20/30 [00:54<00:22,  2.27s/it]"
     ]
    },
    {
     "name": "stdout",
     "output_type": "stream",
     "text": [
      "Query failed: Execution failed on sql '\n",
      "SELECT D directed_by,\n",
      "       COUNT(f Films directed by each director.': near \"Films\": syntax error\n"
     ]
    },
    {
     "name": "stderr",
     "output_type": "stream",
     "text": [
      "c:\\Users\\zly20\\AppData\\Local\\Programs\\Python\\Python311\\Lib\\site-packages\\transformers\\generation\\configuration_utils.py:628: UserWarning: `do_sample` is set to `False`. However, `temperature` is set to `0.6` -- this flag is only used in sample-based generation modes. You should set `do_sample=True` or unset `temperature`.\n",
      "  warnings.warn(\n",
      "c:\\Users\\zly20\\AppData\\Local\\Programs\\Python\\Python311\\Lib\\site-packages\\transformers\\generation\\configuration_utils.py:633: UserWarning: `do_sample` is set to `False`. However, `top_p` is set to `0.95` -- this flag is only used in sample-based generation modes. You should set `do_sample=True` or unset `top_p`.\n",
      "  warnings.warn(\n",
      "cinema:  70%|███████   | 21/30 [00:57<00:22,  2.46s/it]c:\\Users\\zly20\\AppData\\Local\\Programs\\Python\\Python311\\Lib\\site-packages\\transformers\\generation\\configuration_utils.py:628: UserWarning: `do_sample` is set to `False`. However, `temperature` is set to `0.6` -- this flag is only used in sample-based generation modes. You should set `do_sample=True` or unset `temperature`.\n",
      "  warnings.warn(\n",
      "c:\\Users\\zly20\\AppData\\Local\\Programs\\Python\\Python311\\Lib\\site-packages\\transformers\\generation\\configuration_utils.py:633: UserWarning: `do_sample` is set to `False`. However, `top_p` is set to `0.95` -- this flag is only used in sample-based generation modes. You should set `do_sample=True` or unset `top_p`.\n",
      "  warnings.warn(\n",
      "cinema:  73%|███████▎  | 22/30 [01:00<00:20,  2.57s/it]"
     ]
    },
    {
     "name": "stdout",
     "output_type": "stream",
     "text": [
      "Query failed: Execution failed on sql '\n",
      "SELECT f.Title,\n",
      "       f.Price,\n",
      "       MAX(s.Price) as Max_Price\n",
      "FROM film f\n",
      "CROSS JOIN schedule s\n",
      "WHERE f Films are in the schedule': near \"Films\": syntax error\n"
     ]
    },
    {
     "name": "stderr",
     "output_type": "stream",
     "text": [
      "c:\\Users\\zly20\\AppData\\Local\\Programs\\Python\\Python311\\Lib\\site-packages\\transformers\\generation\\configuration_utils.py:628: UserWarning: `do_sample` is set to `False`. However, `temperature` is set to `0.6` -- this flag is only used in sample-based generation modes. You should set `do_sample=True` or unset `temperature`.\n",
      "  warnings.warn(\n",
      "c:\\Users\\zly20\\AppData\\Local\\Programs\\Python\\Python311\\Lib\\site-packages\\transformers\\generation\\configuration_utils.py:633: UserWarning: `do_sample` is set to `False`. However, `top_p` is set to `0.95` -- this flag is only used in sample-based generation modes. You should set `do_sample=True` or unset `top_p`.\n",
      "  warnings.warn(\n",
      "cinema:  77%|███████▋  | 23/30 [01:03<00:18,  2.66s/it]"
     ]
    },
    {
     "name": "stdout",
     "output_type": "stream",
     "text": [
      "Query failed: Execution failed on sql '\n",
      "SELECT f Title,\n",
      "       s Price\n",
      "FROM film f\n",
      "Cross Join Schedule s\n",
      "WHERE f Film_ID = s Cinema_ID\n",
      "ORDER by f Rank_in_series': near \"Film_ID\": syntax error\n"
     ]
    },
    {
     "name": "stderr",
     "output_type": "stream",
     "text": [
      "c:\\Users\\zly20\\AppData\\Local\\Programs\\Python\\Python311\\Lib\\site-packages\\transformers\\generation\\configuration_utils.py:628: UserWarning: `do_sample` is set to `False`. However, `temperature` is set to `0.6` -- this flag is only used in sample-based generation modes. You should set `do_sample=True` or unset `temperature`.\n",
      "  warnings.warn(\n",
      "c:\\Users\\zly20\\AppData\\Local\\Programs\\Python\\Python311\\Lib\\site-packages\\transformers\\generation\\configuration_utils.py:633: UserWarning: `do_sample` is set to `False`. However, `top_p` is set to `0.95` -- this flag is only used in sample-based generation modes. You should set `do_sample=True` or unset `top_p`.\n",
      "  warnings.warn(\n",
      "cinema:  80%|████████  | 24/30 [01:07<00:17,  2.95s/it]"
     ]
    },
    {
     "name": "stdout",
     "output_type": "stream",
     "text": [
      "Query failed: 'NoneType' object is not iterable\n"
     ]
    },
    {
     "name": "stderr",
     "output_type": "stream",
     "text": [
      "c:\\Users\\zly20\\AppData\\Local\\Programs\\Python\\Python311\\Lib\\site-packages\\transformers\\generation\\configuration_utils.py:628: UserWarning: `do_sample` is set to `False`. However, `temperature` is set to `0.6` -- this flag is only used in sample-based generation modes. You should set `do_sample=True` or unset `temperature`.\n",
      "  warnings.warn(\n",
      "c:\\Users\\zly20\\AppData\\Local\\Programs\\Python\\Python311\\Lib\\site-packages\\transformers\\generation\\configuration_utils.py:633: UserWarning: `do_sample` is set to `False`. However, `top_p` is set to `0.95` -- this flag is only used in sample-based generation modes. You should set `do_sample=True` or unset `top_p`.\n",
      "  warnings.warn(\n",
      "cinema:  83%|████████▎ | 25/30 [01:10<00:16,  3.22s/it]c:\\Users\\zly20\\AppData\\Local\\Programs\\Python\\Python311\\Lib\\site-packages\\transformers\\generation\\configuration_utils.py:628: UserWarning: `do_sample` is set to `False`. However, `temperature` is set to `0.6` -- this flag is only used in sample-based generation modes. You should set `do_sample=True` or unset `temperature`.\n",
      "  warnings.warn(\n",
      "c:\\Users\\zly20\\AppData\\Local\\Programs\\Python\\Python311\\Lib\\site-packages\\transformers\\generation\\configuration_utils.py:633: UserWarning: `do_sample` is set to `False`. However, `top_p` is set to `0.95` -- this flag is only used in sample-based generation modes. You should set `do_sample=True` or unset `top_p`.\n",
      "  warnings.warn(\n",
      "cinema:  87%|████████▋ | 26/30 [01:14<00:12,  3.21s/it]"
     ]
    },
    {
     "name": "stdout",
     "output_type": "stream",
     "text": [
      "Query failed: Execution failed on sql '\n",
      "SELECT \"Director\"\n",
      "FROM \"film\"\n",
      "WHERE \"Rank_in_series\" = (\n",
      "  SELECT MAX(\"Number_in_season\")\n",
      "  FROM \"schedule\" WHERE \"Film_ID\" = \"Film_ID\"\n",
      "  FROM \"film\" WHERE \"Rank_in_series\" = \"Rank_in_series\"\n",
      "  AND \"Film_ID\" = \"Film_ID\"\n",
      "  AND \"Director\" = \"Director\"\n",
      "  AND \"Film_ID\" = \"Film_ID\"\n",
      "  AND \"Schedule_ID\" = \"Schedule_ID\"\n",
      "  AND \"Film_ID\" = \"Film_ID\"\n",
      "  AND \"Director\" = \"Director\"\n",
      "  AND \"Film_ID\" = \"Film_ID\"\n",
      "  AND \"Schedule_ID\" = \"Schedule_ID\"\n",
      "  AND \"Film_ID\" = \"Film_ID\"\n",
      "  AND \"Schedule_ID\" = \"Schedule_ID\"\n",
      "  AND \"Film_ID\" = \"Film_ID\"\n",
      "  AND \"Schedule_ID\" = \"Schedule_ID': near \"FROM\": syntax error\n"
     ]
    },
    {
     "name": "stderr",
     "output_type": "stream",
     "text": [
      "c:\\Users\\zly20\\AppData\\Local\\Programs\\Python\\Python311\\Lib\\site-packages\\transformers\\generation\\configuration_utils.py:628: UserWarning: `do_sample` is set to `False`. However, `temperature` is set to `0.6` -- this flag is only used in sample-based generation modes. You should set `do_sample=True` or unset `temperature`.\n",
      "  warnings.warn(\n",
      "c:\\Users\\zly20\\AppData\\Local\\Programs\\Python\\Python311\\Lib\\site-packages\\transformers\\generation\\configuration_utils.py:633: UserWarning: `do_sample` is set to `False`. However, `top_p` is set to `0.95` -- this flag is only used in sample-based generation modes. You should set `do_sample=True` or unset `top_p`.\n",
      "  warnings.warn(\n",
      "cinema:  90%|█████████ | 27/30 [01:17<00:09,  3.28s/it]c:\\Users\\zly20\\AppData\\Local\\Programs\\Python\\Python311\\Lib\\site-packages\\transformers\\generation\\configuration_utils.py:628: UserWarning: `do_sample` is set to `False`. However, `temperature` is set to `0.6` -- this flag is only used in sample-based generation modes. You should set `do_sample=True` or unset `temperature`.\n",
      "  warnings.warn(\n",
      "c:\\Users\\zly20\\AppData\\Local\\Programs\\Python\\Python311\\Lib\\site-packages\\transformers\\generation\\configuration_utils.py:633: UserWarning: `do_sample` is set to `False`. However, `top_p` is set to `0.95` -- this flag is only used in sample-based generation modes. You should set `do_sample=True` or unset `top_p`.\n",
      "  warnings.warn(\n",
      "cinema:  93%|█████████▎| 28/30 [01:20<00:06,  3.20s/it]"
     ]
    },
    {
     "name": "stdout",
     "output_type": "stream",
     "text": [
      "Query failed: Execution failed on sql '\n",
      "SELECT DISTINCT c.Location\n",
      "FROM cinema c\n",
      "JOIN schedule s ON s.Cinema_ID = c.Cinema_ID\n",
      "WHERE s.Film_ID IN (SELECTFilm_ID\n",
      "                    From film\n",
      "                    Where Number_in_season > 300)': near \"From\": syntax error\n"
     ]
    },
    {
     "name": "stderr",
     "output_type": "stream",
     "text": [
      "c:\\Users\\zly20\\AppData\\Local\\Programs\\Python\\Python311\\Lib\\site-packages\\transformers\\generation\\configuration_utils.py:628: UserWarning: `do_sample` is set to `False`. However, `temperature` is set to `0.6` -- this flag is only used in sample-based generation modes. You should set `do_sample=True` or unset `temperature`.\n",
      "  warnings.warn(\n",
      "c:\\Users\\zly20\\AppData\\Local\\Programs\\Python\\Python311\\Lib\\site-packages\\transformers\\generation\\configuration_utils.py:633: UserWarning: `do_sample` is set to `False`. However, `top_p` is set to `0.95` -- this flag is only used in sample-based generation modes. You should set `do_sample=True` or unset `top_p`.\n",
      "  warnings.warn(\n",
      "cinema:  97%|█████████▋| 29/30 [01:23<00:03,  3.02s/it]c:\\Users\\zly20\\AppData\\Local\\Programs\\Python\\Python311\\Lib\\site-packages\\transformers\\generation\\configuration_utils.py:628: UserWarning: `do_sample` is set to `False`. However, `temperature` is set to `0.6` -- this flag is only used in sample-based generation modes. You should set `do_sample=True` or unset `temperature`.\n",
      "  warnings.warn(\n",
      "c:\\Users\\zly20\\AppData\\Local\\Programs\\Python\\Python311\\Lib\\site-packages\\transformers\\generation\\configuration_utils.py:633: UserWarning: `do_sample` is set to `False`. However, `top_p` is set to `0.95` -- this flag is only used in sample-based generation modes. You should set `do_sample=True` or unset `top_p`.\n",
      "  warnings.warn(\n",
      "cinema: 100%|██████████| 30/30 [01:24<00:00,  2.81s/it]"
     ]
    },
    {
     "name": "stdout",
     "output_type": "stream",
     "text": [
      "✅ Accuracy for cinema: 1/30 = 3.33%\n",
      "\n",
      "📊 Summary of Accuracy per Dataset:\n",
      " - department_management: 0/16 = 0.00%\n",
      " - farm: 3/40 = 7.50%\n",
      " - aircraft: 2/46 = 4.35%\n",
      " - architecture: 1/17 = 5.88%\n",
      " - cinema: 1/30 = 3.33%\n",
      "\n",
      "🎯 Final Accuracy: 7/149 = 4.70%\n",
      "Saved bad cases to bad_cases_deepseek-ai_DeepSeek-R1-Distill-Qwen-1.5B.json\n"
     ]
    },
    {
     "name": "stderr",
     "output_type": "stream",
     "text": [
      "\n"
     ]
    }
   ],
   "source": [
    "import sqlite3\n",
    "import json\n",
    "import pandas as pd\n",
    "from pathlib import Path\n",
    "from tqdm import tqdm\n",
    "import sqlparse\n",
    "\n",
    "# Path config\n",
    "def get_db_path(db_id):\n",
    "    base_dir = Path(r\"C:\\Users\\zly20\\OneDrive - The University of Western Ontario\\1B\\CS 9860 Advanced Machine Learning\\Final Project\\CS_9860_Final_Project\\data\")\n",
    "    return str(base_dir / f\"{db_id}.sqlite\")\n",
    "\n",
    "# Run SQL and return DataFrame\n",
    "def run_query_on_db(db_path, query):\n",
    "    try:\n",
    "        with sqlite3.connect(db_path) as conn:\n",
    "            result = pd.read_sql_query(query, conn)\n",
    "        return result\n",
    "    except Exception as e:\n",
    "        print(\"Query failed:\", e)\n",
    "        return None\n",
    "\n",
    "# Accumulators\n",
    "correct = 0\n",
    "total = 0\n",
    "bad_cases = []\n",
    "\n",
    "# Per-dataset tracking\n",
    "correct_by_db = {}\n",
    "total_by_db = {}\n",
    "\n",
    "# Loop through each database and use corresponding prompt\n",
    "for db_id, prompt_template in dbs:\n",
    "    subset = [item for item in data if item[\"db_id\"] == db_id]\n",
    "    db_path = get_db_path(db_id)\n",
    "\n",
    "    correct_local = 0\n",
    "    total_local = 0\n",
    "\n",
    "    def generate_query(question):\n",
    "        prompt = prompt_template.format(question=question)\n",
    "        inputs = tokenizer(prompt, return_tensors=\"pt\").to(\"cuda\")\n",
    "        generated_ids = model.generate(\n",
    "            **inputs,\n",
    "            num_return_sequences=1,\n",
    "            eos_token_id=tokenizer.eos_token_id,\n",
    "            pad_token_id=tokenizer.eos_token_id,\n",
    "            max_new_tokens=168,\n",
    "            do_sample=False,\n",
    "            num_beams=1,\n",
    "        )\n",
    "        outputs = tokenizer.batch_decode(generated_ids, skip_special_tokens=True)\n",
    "        return sqlparse.format(outputs[0].split(\"[SQL]\")[1].split(\"[/SQL]\")[0], reindent=True)\n",
    "\n",
    "    print(f\"🔍 Evaluating {db_id} ({len(subset)} questions)\")\n",
    "    for item in tqdm(subset, desc=f\"{db_id}\"):\n",
    "        question = item[\"question\"]\n",
    "        gold_query = item[\"query\"]\n",
    "\n",
    "        try:\n",
    "            pred_query = generate_query(question)\n",
    "\n",
    "            gold_result = run_query_on_db(db_path, gold_query)\n",
    "            pred_result = run_query_on_db(db_path, pred_query)\n",
    "\n",
    "            if gold_result is not None and pred_result is not None:\n",
    "                if gold_result.equals(pred_result):\n",
    "                    correct += 1\n",
    "                    correct_local += 1\n",
    "                else:\n",
    "                    bad_cases.append({\n",
    "                        \"db_id\": db_id,\n",
    "                        \"question\": question,\n",
    "                        \"gold_query\": gold_query,\n",
    "                        \"pred_query\": pred_query,\n",
    "                        \"error_type\": \"Mismatch\",\n",
    "                        \"gold_result\": gold_result.to_string(index=False),\n",
    "                        \"pred_result\": pred_result.to_string(index=False)\n",
    "                    })\n",
    "            else:\n",
    "                bad_cases.append({\n",
    "                    \"db_id\": db_id,\n",
    "                    \"question\": question,\n",
    "                    \"gold_query\": gold_query,\n",
    "                    \"pred_query\": pred_query,\n",
    "                    \"error_type\": \"ExecutionError\",\n",
    "                    \"gold_result\": str(gold_result),\n",
    "                    \"pred_result\": str(pred_result)\n",
    "                })\n",
    "\n",
    "            total += 1\n",
    "            total_local += 1\n",
    "\n",
    "        except Exception as e:\n",
    "            bad_cases.append({\n",
    "                \"db_id\": db_id,\n",
    "                \"question\": question,\n",
    "                \"gold_query\": gold_query,\n",
    "                \"pred_query\": \"N/A\",\n",
    "                \"error_type\": f\"Exception: {str(e)}\",\n",
    "                \"gold_result\": \"N/A\",\n",
    "                \"pred_result\": \"N/A\"\n",
    "            })\n",
    "            total += 1\n",
    "            total_local += 1\n",
    "            continue\n",
    "\n",
    "    correct_by_db[db_id] = correct_local\n",
    "    total_by_db[db_id] = total_local\n",
    "    print(f\"✅ Accuracy for {db_id}: {correct_local}/{total_local} = {correct_local / total_local:.2%}\")\n",
    "\n",
    "safe_model_name = model_name.replace(\"/\", \"_\")\n",
    "output_filename = f\"bad_cases_{safe_model_name}.json\"\n",
    "\n",
    "with open(output_filename, \"w\", encoding=\"utf-8\") as f:\n",
    "    json.dump(bad_cases, f, ensure_ascii=False, indent=2)\n",
    "\n",
    "print(\"\\n📊 Summary of Accuracy per Dataset:\")\n",
    "for db_id in correct_by_db:\n",
    "    print(f\" - {db_id}: {correct_by_db[db_id]}/{total_by_db[db_id]} = {correct_by_db[db_id] / total_by_db[db_id]:.2%}\")\n",
    "\n",
    "print(f\"\\n🎯 Final Accuracy: {correct}/{total} = {correct / total:.2%}\")\n",
    "print(f\"Saved bad cases to {output_filename}\")\n"
   ]
  },
  {
   "cell_type": "markdown",
   "metadata": {},
   "source": [
    "# Performance on Never Seen Data"
   ]
  },
  {
   "cell_type": "code",
   "execution_count": null,
   "metadata": {},
   "outputs": [
    {
     "name": "stdout",
     "output_type": "stream",
     "text": [
      "🔍 Evaluating movie_1 (98 questions)\n"
     ]
    },
    {
     "name": "stderr",
     "output_type": "stream",
     "text": [
      "movie_1:   0%|          | 0/98 [00:00<?, ?it/s]c:\\Users\\zly20\\AppData\\Local\\Programs\\Python\\Python311\\Lib\\site-packages\\transformers\\generation\\configuration_utils.py:628: UserWarning: `do_sample` is set to `False`. However, `temperature` is set to `0.6` -- this flag is only used in sample-based generation modes. You should set `do_sample=True` or unset `temperature`.\n",
      "  warnings.warn(\n",
      "c:\\Users\\zly20\\AppData\\Local\\Programs\\Python\\Python311\\Lib\\site-packages\\transformers\\generation\\configuration_utils.py:633: UserWarning: `do_sample` is set to `False`. However, `top_p` is set to `0.95` -- this flag is only used in sample-based generation modes. You should set `do_sample=True` or unset `top_p`.\n",
      "  warnings.warn(\n",
      "movie_1:   1%|          | 1/98 [00:02<03:54,  2.42s/it]c:\\Users\\zly20\\AppData\\Local\\Programs\\Python\\Python311\\Lib\\site-packages\\transformers\\generation\\configuration_utils.py:628: UserWarning: `do_sample` is set to `False`. However, `temperature` is set to `0.6` -- this flag is only used in sample-based generation modes. You should set `do_sample=True` or unset `temperature`.\n",
      "  warnings.warn(\n",
      "c:\\Users\\zly20\\AppData\\Local\\Programs\\Python\\Python311\\Lib\\site-packages\\transformers\\generation\\configuration_utils.py:633: UserWarning: `do_sample` is set to `False`. However, `top_p` is set to `0.95` -- this flag is only used in sample-based generation modes. You should set `do_sample=True` or unset `top_p`.\n",
      "  warnings.warn(\n",
      "movie_1:   4%|▍         | 4/98 [00:13<05:35,  3.57s/it]c:\\Users\\zly20\\AppData\\Local\\Programs\\Python\\Python311\\Lib\\site-packages\\transformers\\generation\\configuration_utils.py:628: UserWarning: `do_sample` is set to `False`. However, `temperature` is set to `0.6` -- this flag is only used in sample-based generation modes. You should set `do_sample=True` or unset `temperature`.\n",
      "  warnings.warn(\n",
      "c:\\Users\\zly20\\AppData\\Local\\Programs\\Python\\Python311\\Lib\\site-packages\\transformers\\generation\\configuration_utils.py:633: UserWarning: `do_sample` is set to `False`. However, `top_p` is set to `0.95` -- this flag is only used in sample-based generation modes. You should set `do_sample=True` or unset `top_p`.\n",
      "  warnings.warn(\n",
      "movie_1:   7%|▋         | 7/98 [00:21<04:36,  3.04s/it]c:\\Users\\zly20\\AppData\\Local\\Programs\\Python\\Python311\\Lib\\site-packages\\transformers\\generation\\configuration_utils.py:628: UserWarning: `do_sample` is set to `False`. However, `temperature` is set to `0.6` -- this flag is only used in sample-based generation modes. You should set `do_sample=True` or unset `temperature`.\n",
      "  warnings.warn(\n",
      "c:\\Users\\zly20\\AppData\\Local\\Programs\\Python\\Python311\\Lib\\site-packages\\transformers\\generation\\configuration_utils.py:633: UserWarning: `do_sample` is set to `False`. However, `top_p` is set to `0.95` -- this flag is only used in sample-based generation modes. You should set `do_sample=True` or unset `top_p`.\n",
      "  warnings.warn(\n",
      "movie_1:   8%|▊         | 8/98 [00:25<05:05,  3.39s/it]"
     ]
    },
    {
     "name": "stdout",
     "output_type": "stream",
     "text": [
      "Query failed: Execution failed on sql '\n",
      "SELECT d.title,\n",
      "       d.year,\n",
      "       d.director\n",
      "FROM Movie m\n",
      "JOIN Reviewer r ON m.rID = r.rID\n",
      "JOIN Rating g ON g.rID = m.rID\n",
      "WHERE m.mID = 2': no such column: d.title\n"
     ]
    },
    {
     "name": "stderr",
     "output_type": "stream",
     "text": [
      "c:\\Users\\zly20\\AppData\\Local\\Programs\\Python\\Python311\\Lib\\site-packages\\transformers\\generation\\configuration_utils.py:628: UserWarning: `do_sample` is set to `False`. However, `temperature` is set to `0.6` -- this flag is only used in sample-based generation modes. You should set `do_sample=True` or unset `temperature`.\n",
      "  warnings.warn(\n",
      "c:\\Users\\zly20\\AppData\\Local\\Programs\\Python\\Python311\\Lib\\site-packages\\transformers\\generation\\configuration_utils.py:633: UserWarning: `do_sample` is set to `False`. However, `top_p` is set to `0.95` -- this flag is only used in sample-based generation modes. You should set `do_sample=True` or unset `top_p`.\n",
      "  warnings.warn(\n",
      "movie_1:  17%|█▋        | 17/98 [00:53<04:29,  3.33s/it]c:\\Users\\zly20\\AppData\\Local\\Programs\\Python\\Python311\\Lib\\site-packages\\transformers\\generation\\configuration_utils.py:628: UserWarning: `do_sample` is set to `False`. However, `temperature` is set to `0.6` -- this flag is only used in sample-based generation modes. You should set `do_sample=True` or unset `temperature`.\n",
      "  warnings.warn(\n",
      "c:\\Users\\zly20\\AppData\\Local\\Programs\\Python\\Python311\\Lib\\site-packages\\transformers\\generation\\configuration_utils.py:633: UserWarning: `do_sample` is set to `False`. However, `top_p` is set to `0.95` -- this flag is only used in sample-based generation modes. You should set `do_sample=True` or unset `top_p`.\n",
      "  warnings.warn(\n",
      "movie_1:  19%|█▉        | 19/98 [00:59<04:07,  3.14s/it]"
     ]
    },
    {
     "name": "stdout",
     "output_type": "stream",
     "text": [
      "Query failed: Execution failed on sql '-- Your answer\n",
      "\n",
      "SELECT year\n",
      "FROM\n",
      "  (SELECT mID,\n",
      "          year\n",
      "   FROM Movie) AS t1 JOINRating ON Rating.rID = t1.mID\n",
      "SELECT year\n",
      "FROM t1': near \"JOINRating\": syntax error\n"
     ]
    },
    {
     "name": "stderr",
     "output_type": "stream",
     "text": [
      "c:\\Users\\zly20\\AppData\\Local\\Programs\\Python\\Python311\\Lib\\site-packages\\transformers\\generation\\configuration_utils.py:628: UserWarning: `do_sample` is set to `False`. However, `temperature` is set to `0.6` -- this flag is only used in sample-based generation modes. You should set `do_sample=True` or unset `temperature`.\n",
      "  warnings.warn(\n",
      "c:\\Users\\zly20\\AppData\\Local\\Programs\\Python\\Python311\\Lib\\site-packages\\transformers\\generation\\configuration_utils.py:633: UserWarning: `do_sample` is set to `False`. However, `top_p` is set to `0.95` -- this flag is only used in sample-based generation modes. You should set `do_sample=True` or unset `top_p`.\n",
      "  warnings.warn(\n",
      "movie_1:  20%|██        | 20/98 [01:02<04:01,  3.10s/it]"
     ]
    },
    {
     "name": "stdout",
     "output_type": "stream",
     "text": [
      "Query failed: Execution failed on sql '\n",
      "SELECT m.year AS movie_year,\n",
      "       r.year AS reviewer_year\n",
      "FROM Movie m\n",
      "Join Reviewer r ON m.mID = r.rID\n",
      "WHERE m.stars = 4\n",
      "  OR m.stars = 5': no such column: r.year\n"
     ]
    },
    {
     "name": "stderr",
     "output_type": "stream",
     "text": [
      "c:\\Users\\zly20\\AppData\\Local\\Programs\\Python\\Python311\\Lib\\site-packages\\transformers\\generation\\configuration_utils.py:628: UserWarning: `do_sample` is set to `False`. However, `temperature` is set to `0.6` -- this flag is only used in sample-based generation modes. You should set `do_sample=True` or unset `temperature`.\n",
      "  warnings.warn(\n",
      "c:\\Users\\zly20\\AppData\\Local\\Programs\\Python\\Python311\\Lib\\site-packages\\transformers\\generation\\configuration_utils.py:633: UserWarning: `do_sample` is set to `False`. However, `top_p` is set to `0.95` -- this flag is only used in sample-based generation modes. You should set `do_sample=True` or unset `top_p`.\n",
      "  warnings.warn(\n",
      "movie_1:  21%|██▏       | 21/98 [01:06<04:22,  3.41s/it]"
     ]
    },
    {
     "name": "stdout",
     "output_type": "stream",
     "text": [
      "Query failed: Execution failed on sql '\n",
      "SELECT d.title,\n",
      "       m.title\n",
      "FROM Movie m,\n",
      "     Director d\n",
      "WHERE m.mID = d.mID\n",
      "  AND d.stars = 5': no such table: Director\n"
     ]
    },
    {
     "name": "stderr",
     "output_type": "stream",
     "text": [
      "c:\\Users\\zly20\\AppData\\Local\\Programs\\Python\\Python311\\Lib\\site-packages\\transformers\\generation\\configuration_utils.py:628: UserWarning: `do_sample` is set to `False`. However, `temperature` is set to `0.6` -- this flag is only used in sample-based generation modes. You should set `do_sample=True` or unset `temperature`.\n",
      "  warnings.warn(\n",
      "c:\\Users\\zly20\\AppData\\Local\\Programs\\Python\\Python311\\Lib\\site-packages\\transformers\\generation\\configuration_utils.py:633: UserWarning: `do_sample` is set to `False`. However, `top_p` is set to `0.95` -- this flag is only used in sample-based generation modes. You should set `do_sample=True` or unset `top_p`.\n",
      "  warnings.warn(\n",
      "movie_1:  22%|██▏       | 22/98 [01:10<04:23,  3.47s/it]"
     ]
    },
    {
     "name": "stdout",
     "output_type": "stream",
     "text": [
      "Query failed: Execution failed on sql '\n",
      "SELECT d.name,\n",
      "       m.title\n",
      "FROM Movie m\n",
      "JOIN Reviewer r ON m.mID = r.rID\n",
      "JOIN Rating rating ON rating.mID = m.mID\n",
      "WHERE rating.stars = 5;': no such column: d.name\n"
     ]
    },
    {
     "name": "stderr",
     "output_type": "stream",
     "text": [
      "c:\\Users\\zly20\\AppData\\Local\\Programs\\Python\\Python311\\Lib\\site-packages\\transformers\\generation\\configuration_utils.py:628: UserWarning: `do_sample` is set to `False`. However, `temperature` is set to `0.6` -- this flag is only used in sample-based generation modes. You should set `do_sample=True` or unset `temperature`.\n",
      "  warnings.warn(\n",
      "c:\\Users\\zly20\\AppData\\Local\\Programs\\Python\\Python311\\Lib\\site-packages\\transformers\\generation\\configuration_utils.py:633: UserWarning: `do_sample` is set to `False`. However, `top_p` is set to `0.95` -- this flag is only used in sample-based generation modes. You should set `do_sample=True` or unset `top_p`.\n",
      "  warnings.warn(\n",
      "movie_1:  23%|██▎       | 23/98 [01:13<04:07,  3.30s/it]"
     ]
    },
    {
     "name": "stdout",
     "output_type": "stream",
     "text": [
      "Query failed: Execution failed on sql '\n",
      "SELECT r.name,\n",
      "       AVG(r.stars) AS avg_stars\n",
      "FROM Reviewer r\n",
      "JOIN Rating rating ON r.rID = rating.rID\n",
      "GROUP BY r.name;': no such column: r.stars\n"
     ]
    },
    {
     "name": "stderr",
     "output_type": "stream",
     "text": [
      "c:\\Users\\zly20\\AppData\\Local\\Programs\\Python\\Python311\\Lib\\site-packages\\transformers\\generation\\configuration_utils.py:628: UserWarning: `do_sample` is set to `False`. However, `temperature` is set to `0.6` -- this flag is only used in sample-based generation modes. You should set `do_sample=True` or unset `temperature`.\n",
      "  warnings.warn(\n",
      "c:\\Users\\zly20\\AppData\\Local\\Programs\\Python\\Python311\\Lib\\site-packages\\transformers\\generation\\configuration_utils.py:633: UserWarning: `do_sample` is set to `False`. However, `top_p` is set to `0.95` -- this flag is only used in sample-based generation modes. You should set `do_sample=True` or unset `top_p`.\n",
      "  warnings.warn(\n",
      "movie_1:  24%|██▍       | 24/98 [01:16<03:56,  3.19s/it]"
     ]
    },
    {
     "name": "stdout",
     "output_type": "stream",
     "text": [
      "Query failed: Execution failed on sql '\n",
      "SELECT AVG(stars)\n",
      "FROM Reviewer': no such column: stars\n"
     ]
    },
    {
     "name": "stderr",
     "output_type": "stream",
     "text": [
      "c:\\Users\\zly20\\AppData\\Local\\Programs\\Python\\Python311\\Lib\\site-packages\\transformers\\generation\\configuration_utils.py:628: UserWarning: `do_sample` is set to `False`. However, `temperature` is set to `0.6` -- this flag is only used in sample-based generation modes. You should set `do_sample=True` or unset `temperature`.\n",
      "  warnings.warn(\n",
      "c:\\Users\\zly20\\AppData\\Local\\Programs\\Python\\Python311\\Lib\\site-packages\\transformers\\generation\\configuration_utils.py:633: UserWarning: `do_sample` is set to `False`. However, `top_p` is set to `0.95` -- this flag is only used in sample-based generation modes. You should set `do_sample=True` or unset `top_p`.\n",
      "  warnings.warn(\n",
      "movie_1:  26%|██▌       | 25/98 [01:18<03:47,  3.12s/it]"
     ]
    },
    {
     "name": "stdout",
     "output_type": "stream",
     "text": [
      "Query failed: 'NoneType' object is not iterable\n"
     ]
    },
    {
     "name": "stderr",
     "output_type": "stream",
     "text": [
      "c:\\Users\\zly20\\AppData\\Local\\Programs\\Python\\Python311\\Lib\\site-packages\\transformers\\generation\\configuration_utils.py:628: UserWarning: `do_sample` is set to `False`. However, `temperature` is set to `0.6` -- this flag is only used in sample-based generation modes. You should set `do_sample=True` or unset `temperature`.\n",
      "  warnings.warn(\n",
      "c:\\Users\\zly20\\AppData\\Local\\Programs\\Python\\Python311\\Lib\\site-packages\\transformers\\generation\\configuration_utils.py:633: UserWarning: `do_sample` is set to `False`. However, `top_p` is set to `0.95` -- this flag is only used in sample-based generation modes. You should set `do_sample=True` or unset `top_p`.\n",
      "  warnings.warn(\n",
      "movie_1:  27%|██▋       | 26/98 [01:22<03:52,  3.24s/it]"
     ]
    },
    {
     "name": "stdout",
     "output_type": "stream",
     "text": [
      "Query failed: Execution failed on sql '\n",
      "SELECT title\n",
      "FROM Movie\n",
      "WHERE\n",
      "    (SELECT mID\n",
      "     FROM Rating\n",
      "     WHERE rating stars = 0) = mID;': near \"stars\": syntax error\n"
     ]
    },
    {
     "name": "stderr",
     "output_type": "stream",
     "text": [
      "c:\\Users\\zly20\\AppData\\Local\\Programs\\Python\\Python311\\Lib\\site-packages\\transformers\\generation\\configuration_utils.py:628: UserWarning: `do_sample` is set to `False`. However, `temperature` is set to `0.6` -- this flag is only used in sample-based generation modes. You should set `do_sample=True` or unset `temperature`.\n",
      "  warnings.warn(\n",
      "c:\\Users\\zly20\\AppData\\Local\\Programs\\Python\\Python311\\Lib\\site-packages\\transformers\\generation\\configuration_utils.py:633: UserWarning: `do_sample` is set to `False`. However, `top_p` is set to `0.95` -- this flag is only used in sample-based generation modes. You should set `do_sample=True` or unset `top_p`.\n",
      "  warnings.warn(\n",
      "movie_1:  28%|██▊       | 27/98 [01:25<03:40,  3.11s/it]"
     ]
    },
    {
     "name": "stdout",
     "output_type": "stream",
     "text": [
      "Query failed: Execution failed on sql '\n",
      "SELECT name\n",
      "FROM Reviewer\n",
      "WHERE ratingDate IS NULL;': no such column: ratingDate\n"
     ]
    },
    {
     "name": "stderr",
     "output_type": "stream",
     "text": [
      "c:\\Users\\zly20\\AppData\\Local\\Programs\\Python\\Python311\\Lib\\site-packages\\transformers\\generation\\configuration_utils.py:628: UserWarning: `do_sample` is set to `False`. However, `temperature` is set to `0.6` -- this flag is only used in sample-based generation modes. You should set `do_sample=True` or unset `temperature`.\n",
      "  warnings.warn(\n",
      "c:\\Users\\zly20\\AppData\\Local\\Programs\\Python\\Python311\\Lib\\site-packages\\transformers\\generation\\configuration_utils.py:633: UserWarning: `do_sample` is set to `False`. However, `top_p` is set to `0.95` -- this flag is only used in sample-based generation modes. You should set `do_sample=True` or unset `top_p`.\n",
      "  warnings.warn(\n",
      "movie_1:  29%|██▊       | 28/98 [01:28<03:39,  3.14s/it]c:\\Users\\zly20\\AppData\\Local\\Programs\\Python\\Python311\\Lib\\site-packages\\transformers\\generation\\configuration_utils.py:628: UserWarning: `do_sample` is set to `False`. However, `temperature` is set to `0.6` -- this flag is only used in sample-based generation modes. You should set `do_sample=True` or unset `temperature`.\n",
      "  warnings.warn(\n",
      "c:\\Users\\zly20\\AppData\\Local\\Programs\\Python\\Python311\\Lib\\site-packages\\transformers\\generation\\configuration_utils.py:633: UserWarning: `do_sample` is set to `False`. However, `top_p` is set to `0.95` -- this flag is only used in sample-based generation modes. You should set `do_sample=True` or unset `top_p`.\n",
      "  warnings.warn(\n",
      "movie_1:  30%|██▉       | 29/98 [01:31<03:30,  3.06s/it]"
     ]
    },
    {
     "name": "stdout",
     "output_type": "stream",
     "text": [
      "Query failed: Execution failed on sql '\n",
      "SELECT avg(stars) as average_rating,\n",
      "       title as average_title\n",
      "FROM Movie\n",
      "WHERE year =\n",
      "    (SELECT MAX(year)\n",
      "     FROM Movie);': no such column: stars\n"
     ]
    },
    {
     "name": "stderr",
     "output_type": "stream",
     "text": [
      "c:\\Users\\zly20\\AppData\\Local\\Programs\\Python\\Python311\\Lib\\site-packages\\transformers\\generation\\configuration_utils.py:628: UserWarning: `do_sample` is set to `False`. However, `temperature` is set to `0.6` -- this flag is only used in sample-based generation modes. You should set `do_sample=True` or unset `temperature`.\n",
      "  warnings.warn(\n",
      "c:\\Users\\zly20\\AppData\\Local\\Programs\\Python\\Python311\\Lib\\site-packages\\transformers\\generation\\configuration_utils.py:633: UserWarning: `do_sample` is set to `False`. However, `top_p` is set to `0.95` -- this flag is only used in sample-based generation modes. You should set `do_sample=True` or unset `top_p`.\n",
      "  warnings.warn(\n",
      "movie_1:  31%|███       | 30/98 [01:34<03:37,  3.20s/it]"
     ]
    },
    {
     "name": "stdout",
     "output_type": "stream",
     "text": [
      "Query failed: Execution failed on sql '\n",
      "SELECT m.title,\n",
      "       AVG(rating.rating) AS average_rating\n",
      "FROM Movie m\n",
      "JOIN Reviewer r ON m.mID = r.rID\n",
      "JOIN Rating rating ON r.rID = rating.rID': no such column: rating.rating\n"
     ]
    },
    {
     "name": "stderr",
     "output_type": "stream",
     "text": [
      "c:\\Users\\zly20\\AppData\\Local\\Programs\\Python\\Python311\\Lib\\site-packages\\transformers\\generation\\configuration_utils.py:628: UserWarning: `do_sample` is set to `False`. However, `temperature` is set to `0.6` -- this flag is only used in sample-based generation modes. You should set `do_sample=True` or unset `temperature`.\n",
      "  warnings.warn(\n",
      "c:\\Users\\zly20\\AppData\\Local\\Programs\\Python\\Python311\\Lib\\site-packages\\transformers\\generation\\configuration_utils.py:633: UserWarning: `do_sample` is set to `False`. However, `top_p` is set to `0.95` -- this flag is only used in sample-based generation modes. You should set `do_sample=True` or unset `top_p`.\n",
      "  warnings.warn(\n",
      "movie_1:  32%|███▏      | 31/98 [01:38<03:33,  3.19s/it]"
     ]
    },
    {
     "name": "stdout",
     "output_type": "stream",
     "text": [
      "Query failed: Execution failed on sql '\n",
      "SELECT m.title\n",
      "FROM Movie\n",
      "WHERE year =\n",
      "    (SELECT MAX(year)\n",
      "     FROM Movie);': no such column: m.title\n"
     ]
    },
    {
     "name": "stderr",
     "output_type": "stream",
     "text": [
      "c:\\Users\\zly20\\AppData\\Local\\Programs\\Python\\Python311\\Lib\\site-packages\\transformers\\generation\\configuration_utils.py:628: UserWarning: `do_sample` is set to `False`. However, `temperature` is set to `0.6` -- this flag is only used in sample-based generation modes. You should set `do_sample=True` or unset `temperature`.\n",
      "  warnings.warn(\n",
      "c:\\Users\\zly20\\AppData\\Local\\Programs\\Python\\Python311\\Lib\\site-packages\\transformers\\generation\\configuration_utils.py:633: UserWarning: `do_sample` is set to `False`. However, `top_p` is set to `0.95` -- this flag is only used in sample-based generation modes. You should set `do_sample=True` or unset `top_p`.\n",
      "  warnings.warn(\n",
      "movie_1:  34%|███▎      | 33/98 [01:45<03:50,  3.55s/it]"
     ]
    },
    {
     "name": "stdout",
     "output_type": "stream",
     "text": [
      "Query failed: Execution failed on sql '\n",
      "SELECT MAX(stars),\n",
      "       MAX(year)\n",
      "FROM Movie\n",
      "WHERE (Rating.stars >Rating.year\n",
      "       OR Rating.year IS NULL);': no such column: stars\n"
     ]
    },
    {
     "name": "stderr",
     "output_type": "stream",
     "text": [
      "c:\\Users\\zly20\\AppData\\Local\\Programs\\Python\\Python311\\Lib\\site-packages\\transformers\\generation\\configuration_utils.py:628: UserWarning: `do_sample` is set to `False`. However, `temperature` is set to `0.6` -- this flag is only used in sample-based generation modes. You should set `do_sample=True` or unset `temperature`.\n",
      "  warnings.warn(\n",
      "c:\\Users\\zly20\\AppData\\Local\\Programs\\Python\\Python311\\Lib\\site-packages\\transformers\\generation\\configuration_utils.py:633: UserWarning: `do_sample` is set to `False`. However, `top_p` is set to `0.95` -- this flag is only used in sample-based generation modes. You should set `do_sample=True` or unset `top_p`.\n",
      "  warnings.warn(\n",
      "movie_1:  35%|███▍      | 34/98 [01:49<03:50,  3.60s/it]"
     ]
    },
    {
     "name": "stdout",
     "output_type": "stream",
     "text": [
      "Query failed: Execution failed on sql '\n",
      "SELECT mID,\n",
      "       year,\n",
      "       ratingDate\n",
      "FROM Movie\n",
      "WHERE ratingDate = (MAX(year) OVER (\n",
      "                                    ORDER BY mID ASC))\n",
      "  AND year = (MAX(year) OVER (\n",
      "                              ORDER BY mID ASC))': no such column: ratingDate\n"
     ]
    },
    {
     "name": "stderr",
     "output_type": "stream",
     "text": [
      "c:\\Users\\zly20\\AppData\\Local\\Programs\\Python\\Python311\\Lib\\site-packages\\transformers\\generation\\configuration_utils.py:628: UserWarning: `do_sample` is set to `False`. However, `temperature` is set to `0.6` -- this flag is only used in sample-based generation modes. You should set `do_sample=True` or unset `temperature`.\n",
      "  warnings.warn(\n",
      "c:\\Users\\zly20\\AppData\\Local\\Programs\\Python\\Python311\\Lib\\site-packages\\transformers\\generation\\configuration_utils.py:633: UserWarning: `do_sample` is set to `False`. However, `top_p` is set to `0.95` -- this flag is only used in sample-based generation modes. You should set `do_sample=True` or unset `top_p`.\n",
      "  warnings.warn(\n",
      "movie_1:  36%|███▌      | 35/98 [01:52<03:33,  3.38s/it]"
     ]
    },
    {
     "name": "stdout",
     "output_type": "stream",
     "text": [
      "Query failed: Execution failed on sql '\n",
      "SELECT m.title\n",
      "FROM Movie m\n",
      "WHERE m.year >\n",
      "    (SELECT MAX(year)\n",
      "     FROM Rating r\n",
      "     WHERE r.director = 'Sergei Spielberg'\n",
      "       AND r.year > m.year);': no such column: r.director\n"
     ]
    },
    {
     "name": "stderr",
     "output_type": "stream",
     "text": [
      "c:\\Users\\zly20\\AppData\\Local\\Programs\\Python\\Python311\\Lib\\site-packages\\transformers\\generation\\configuration_utils.py:628: UserWarning: `do_sample` is set to `False`. However, `temperature` is set to `0.6` -- this flag is only used in sample-based generation modes. You should set `do_sample=True` or unset `temperature`.\n",
      "  warnings.warn(\n",
      "c:\\Users\\zly20\\AppData\\Local\\Programs\\Python\\Python311\\Lib\\site-packages\\transformers\\generation\\configuration_utils.py:633: UserWarning: `do_sample` is set to `False`. However, `top_p` is set to `0.95` -- this flag is only used in sample-based generation modes. You should set `do_sample=True` or unset `top_p`.\n",
      "  warnings.warn(\n",
      "movie_1:  37%|███▋      | 36/98 [01:55<03:33,  3.45s/it]c:\\Users\\zly20\\AppData\\Local\\Programs\\Python\\Python311\\Lib\\site-packages\\transformers\\generation\\configuration_utils.py:628: UserWarning: `do_sample` is set to `False`. However, `temperature` is set to `0.6` -- this flag is only used in sample-based generation modes. You should set `do_sample=True` or unset `temperature`.\n",
      "  warnings.warn(\n",
      "c:\\Users\\zly20\\AppData\\Local\\Programs\\Python\\Python311\\Lib\\site-packages\\transformers\\generation\\configuration_utils.py:633: UserWarning: `do_sample` is set to `False`. However, `top_p` is set to `0.95` -- this flag is only used in sample-based generation modes. You should set `do_sample=True` or unset `top_p`.\n",
      "  warnings.warn(\n",
      "movie_1:  38%|███▊      | 37/98 [01:59<03:30,  3.45s/it]"
     ]
    },
    {
     "name": "stdout",
     "output_type": "stream",
     "text": [
      "Query failed: Execution failed on sql '\n",
      "SELECT title,\n",
      "       director\n",
      "FROM Movie\n",
      "WHERE\n",
      "    (SELECT COUNT(*)\n",
      "     FROM Rating) >\n",
      "    (SELECT AVG(stars)\n",
      "     FROM\n",
      "       (SELECT mID\n",
      "        FROM Movie\n",
      "        WHERE director = 'James Cameron'))': no such column: stars\n"
     ]
    },
    {
     "name": "stderr",
     "output_type": "stream",
     "text": [
      "c:\\Users\\zly20\\AppData\\Local\\Programs\\Python\\Python311\\Lib\\site-packages\\transformers\\generation\\configuration_utils.py:628: UserWarning: `do_sample` is set to `False`. However, `temperature` is set to `0.6` -- this flag is only used in sample-based generation modes. You should set `do_sample=True` or unset `temperature`.\n",
      "  warnings.warn(\n",
      "c:\\Users\\zly20\\AppData\\Local\\Programs\\Python\\Python311\\Lib\\site-packages\\transformers\\generation\\configuration_utils.py:633: UserWarning: `do_sample` is set to `False`. However, `top_p` is set to `0.95` -- this flag is only used in sample-based generation modes. You should set `do_sample=True` or unset `top_p`.\n",
      "  warnings.warn(\n",
      "movie_1:  39%|███▉      | 38/98 [02:03<03:40,  3.67s/it]c:\\Users\\zly20\\AppData\\Local\\Programs\\Python\\Python311\\Lib\\site-packages\\transformers\\generation\\configuration_utils.py:628: UserWarning: `do_sample` is set to `False`. However, `temperature` is set to `0.6` -- this flag is only used in sample-based generation modes. You should set `do_sample=True` or unset `temperature`.\n",
      "  warnings.warn(\n",
      "c:\\Users\\zly20\\AppData\\Local\\Programs\\Python\\Python311\\Lib\\site-packages\\transformers\\generation\\configuration_utils.py:633: UserWarning: `do_sample` is set to `False`. However, `top_p` is set to `0.95` -- this flag is only used in sample-based generation modes. You should set `do_sample=True` or unset `top_p`.\n",
      "  warnings.warn(\n",
      "movie_1:  40%|███▉      | 39/98 [02:07<03:50,  3.91s/it]"
     ]
    },
    {
     "name": "stdout",
     "output_type": "stream",
     "text": [
      "Query failed: 'NoneType' object is not iterable\n"
     ]
    },
    {
     "name": "stderr",
     "output_type": "stream",
     "text": [
      "c:\\Users\\zly20\\AppData\\Local\\Programs\\Python\\Python311\\Lib\\site-packages\\transformers\\generation\\configuration_utils.py:628: UserWarning: `do_sample` is set to `False`. However, `temperature` is set to `0.6` -- this flag is only used in sample-based generation modes. You should set `do_sample=True` or unset `temperature`.\n",
      "  warnings.warn(\n",
      "c:\\Users\\zly20\\AppData\\Local\\Programs\\Python\\Python311\\Lib\\site-packages\\transformers\\generation\\configuration_utils.py:633: UserWarning: `do_sample` is set to `False`. However, `top_p` is set to `0.95` -- this flag is only used in sample-based generation modes. You should set `do_sample=True` or unset `top_p`.\n",
      "  warnings.warn(\n",
      "movie_1:  41%|████      | 40/98 [02:10<03:29,  3.61s/it]c:\\Users\\zly20\\AppData\\Local\\Programs\\Python\\Python311\\Lib\\site-packages\\transformers\\generation\\configuration_utils.py:628: UserWarning: `do_sample` is set to `False`. However, `temperature` is set to `0.6` -- this flag is only used in sample-based generation modes. You should set `do_sample=True` or unset `temperature`.\n",
      "  warnings.warn(\n",
      "c:\\Users\\zly20\\AppData\\Local\\Programs\\Python\\Python311\\Lib\\site-packages\\transformers\\generation\\configuration_utils.py:633: UserWarning: `do_sample` is set to `False`. However, `top_p` is set to `0.95` -- this flag is only used in sample-based generation modes. You should set `do_sample=True` or unset `top_p`.\n",
      "  warnings.warn(\n",
      "movie_1:  42%|████▏     | 41/98 [02:13<03:14,  3.42s/it]c:\\Users\\zly20\\AppData\\Local\\Programs\\Python\\Python311\\Lib\\site-packages\\transformers\\generation\\configuration_utils.py:628: UserWarning: `do_sample` is set to `False`. However, `temperature` is set to `0.6` -- this flag is only used in sample-based generation modes. You should set `do_sample=True` or unset `temperature`.\n",
      "  warnings.warn(\n",
      "c:\\Users\\zly20\\AppData\\Local\\Programs\\Python\\Python311\\Lib\\site-packages\\transformers\\generation\\configuration_utils.py:633: UserWarning: `do_sample` is set to `False`. However, `top_p` is set to `0.95` -- this flag is only used in sample-based generation modes. You should set `do_sample=True` or unset `top_p`.\n",
      "  warnings.warn(\n"
     ]
    },
    {
     "name": "stdout",
     "output_type": "stream",
     "text": [
      "Query failed: Execution failed on sql '-- The query joins the Reviewer table with the Rating table to get all ratings by each reviewer.\n",
      "-- It then groups the ratings by the Reviewer's name and counts how many ratings each has.\n",
      "-- Finally, it selects the names of Reviewer where the count is three or more.\n",
      "\n",
      "SELECT r.name\n",
      "FROM Reviewer r\n",
      "JOIN Rating rating ON r.rID = rating.rID\n",
      "GROUP BY r.name\n",
      "HAVING COUNT(r.stars) >= 3': no such column: r.stars\n"
     ]
    },
    {
     "name": "stderr",
     "output_type": "stream",
     "text": [
      "movie_1:  43%|████▎     | 42/98 [02:16<03:03,  3.27s/it]c:\\Users\\zly20\\AppData\\Local\\Programs\\Python\\Python311\\Lib\\site-packages\\transformers\\generation\\configuration_utils.py:628: UserWarning: `do_sample` is set to `False`. However, `temperature` is set to `0.6` -- this flag is only used in sample-based generation modes. You should set `do_sample=True` or unset `temperature`.\n",
      "  warnings.warn(\n",
      "c:\\Users\\zly20\\AppData\\Local\\Programs\\Python\\Python311\\Lib\\site-packages\\transformers\\generation\\configuration_utils.py:633: UserWarning: `do_sample` is set to `False`. However, `top_p` is set to `0.95` -- this flag is only used in sample-based generation modes. You should set `do_sample=True` or unset `top_p`.\n",
      "  warnings.warn(\n",
      "movie_1:  44%|████▍     | 43/98 [02:19<03:00,  3.29s/it]"
     ]
    },
    {
     "name": "stdout",
     "output_type": "stream",
     "text": [
      "Query failed: Execution failed on sql '\n",
      "SELECT name\n",
      "FROM Reviewer\n",
      "WHERE ratingDate >= 'Gone with the Wind';': no such column: ratingDate\n"
     ]
    },
    {
     "name": "stderr",
     "output_type": "stream",
     "text": [
      "c:\\Users\\zly20\\AppData\\Local\\Programs\\Python\\Python311\\Lib\\site-packages\\transformers\\generation\\configuration_utils.py:628: UserWarning: `do_sample` is set to `False`. However, `temperature` is set to `0.6` -- this flag is only used in sample-based generation modes. You should set `do_sample=True` or unset `temperature`.\n",
      "  warnings.warn(\n",
      "c:\\Users\\zly20\\AppData\\Local\\Programs\\Python\\Python311\\Lib\\site-packages\\transformers\\generation\\configuration_utils.py:633: UserWarning: `do_sample` is set to `False`. However, `top_p` is set to `0.95` -- this flag is only used in sample-based generation modes. You should set `do_sample=True` or unset `top_p`.\n",
      "  warnings.warn(\n",
      "movie_1:  45%|████▍     | 44/98 [02:23<02:59,  3.32s/it]"
     ]
    },
    {
     "name": "stdout",
     "output_type": "stream",
     "text": [
      "Query failed: Execution failed on sql '\n",
      "SELECT DISTINCT name\n",
      "FROM Reviewer\n",
      "WHERE mID =\n",
      "    (SELECT mID\n",
      "     FROM Movie\n",
      "     WHERE title = 'Gone with the Wind'`);': unrecognized token: \"`);\"\n"
     ]
    },
    {
     "name": "stderr",
     "output_type": "stream",
     "text": [
      "c:\\Users\\zly20\\AppData\\Local\\Programs\\Python\\Python311\\Lib\\site-packages\\transformers\\generation\\configuration_utils.py:628: UserWarning: `do_sample` is set to `False`. However, `temperature` is set to `0.6` -- this flag is only used in sample-based generation modes. You should set `do_sample=True` or unset `temperature`.\n",
      "  warnings.warn(\n",
      "c:\\Users\\zly20\\AppData\\Local\\Programs\\Python\\Python311\\Lib\\site-packages\\transformers\\generation\\configuration_utils.py:633: UserWarning: `do_sample` is set to `False`. However, `top_p` is set to `0.95` -- this flag is only used in sample-based generation modes. You should set `do_sample=True` or unset `top_p`.\n",
      "  warnings.warn(\n",
      "movie_1:  46%|████▌     | 45/98 [02:26<03:01,  3.43s/it]"
     ]
    },
    {
     "name": "stdout",
     "output_type": "stream",
     "text": [
      "Query failed: Execution failed on sql '\n",
      "SELECT d.name\n",
      "FROM Director d\n",
      "JOIN Reviewer r ON r.name = d.name\n",
      "JOIN Rating rating ON rating.rID = rID\n",
      "WHERE rating.stars = 2': no such table: Director\n"
     ]
    },
    {
     "name": "stderr",
     "output_type": "stream",
     "text": [
      "c:\\Users\\zly20\\AppData\\Local\\Programs\\Python\\Python311\\Lib\\site-packages\\transformers\\generation\\configuration_utils.py:628: UserWarning: `do_sample` is set to `False`. However, `temperature` is set to `0.6` -- this flag is only used in sample-based generation modes. You should set `do_sample=True` or unset `temperature`.\n",
      "  warnings.warn(\n",
      "c:\\Users\\zly20\\AppData\\Local\\Programs\\Python\\Python311\\Lib\\site-packages\\transformers\\generation\\configuration_utils.py:633: UserWarning: `do_sample` is set to `False`. However, `top_p` is set to `0.95` -- this flag is only used in sample-based generation modes. You should set `do_sample=True` or unset `top_p`.\n",
      "  warnings.warn(\n",
      "movie_1:  47%|████▋     | 46/98 [02:30<02:53,  3.33s/it]"
     ]
    },
    {
     "name": "stdout",
     "output_type": "stream",
     "text": [
      "Query failed: Execution failed on sql '\n",
      "SELECT d.name\n",
      "FROM Director d\n",
      "JOIN Reviewer r ON r.name = d.name\n",
      "JOIN Rating g ON g.rID = r.rID\n",
      "WHERE g.stars = 2': no such table: Director\n"
     ]
    },
    {
     "name": "stderr",
     "output_type": "stream",
     "text": [
      "c:\\Users\\zly20\\AppData\\Local\\Programs\\Python\\Python311\\Lib\\site-packages\\transformers\\generation\\configuration_utils.py:628: UserWarning: `do_sample` is set to `False`. However, `temperature` is set to `0.6` -- this flag is only used in sample-based generation modes. You should set `do_sample=True` or unset `temperature`.\n",
      "  warnings.warn(\n",
      "c:\\Users\\zly20\\AppData\\Local\\Programs\\Python\\Python311\\Lib\\site-packages\\transformers\\generation\\configuration_utils.py:633: UserWarning: `do_sample` is set to `False`. However, `top_p` is set to `0.95` -- this flag is only used in sample-based generation modes. You should set `do_sample=True` or unset `top_p`.\n",
      "  warnings.warn(\n",
      "movie_1:  48%|████▊     | 47/98 [02:32<02:39,  3.13s/it]c:\\Users\\zly20\\AppData\\Local\\Programs\\Python\\Python311\\Lib\\site-packages\\transformers\\generation\\configuration_utils.py:628: UserWarning: `do_sample` is set to `False`. However, `temperature` is set to `0.6` -- this flag is only used in sample-based generation modes. You should set `do_sample=True` or unset `temperature`.\n",
      "  warnings.warn(\n",
      "c:\\Users\\zly20\\AppData\\Local\\Programs\\Python\\Python311\\Lib\\site-packages\\transformers\\generation\\configuration_utils.py:633: UserWarning: `do_sample` is set to `False`. However, `top_p` is set to `0.95` -- this flag is only used in sample-based generation modes. You should set `do_sample=True` or unset `top_p`.\n",
      "  warnings.warn(\n",
      "movie_1:  49%|████▉     | 48/98 [02:35<02:38,  3.17s/it]"
     ]
    },
    {
     "name": "stdout",
     "output_type": "stream",
     "text": [
      "Query failed: Execution failed on sql '\n",
      "SELECT m.title,\n",
      "       r.name,\n",
      "       stars,\n",
      "       r.director\n",
      "FROM Movie m\n",
      "JOIN Reviewer r ON r.name = r.rID\n",
      "JOIN Rating rating ON rating.mID = mID\n",
      "WHERE r.name = r.director\n",
      "  AND rating.stars =\n",
      "    (SELECT MAX(stars)\n",
      "     FROM Rating\n",
      "     WHERE mID = mID\n",
      "       AND rID = rID);': no such column: r.director\n"
     ]
    },
    {
     "name": "stderr",
     "output_type": "stream",
     "text": [
      "c:\\Users\\zly20\\AppData\\Local\\Programs\\Python\\Python311\\Lib\\site-packages\\transformers\\generation\\configuration_utils.py:628: UserWarning: `do_sample` is set to `False`. However, `temperature` is set to `0.6` -- this flag is only used in sample-based generation modes. You should set `do_sample=True` or unset `temperature`.\n",
      "  warnings.warn(\n",
      "c:\\Users\\zly20\\AppData\\Local\\Programs\\Python\\Python311\\Lib\\site-packages\\transformers\\generation\\configuration_utils.py:633: UserWarning: `do_sample` is set to `False`. However, `top_p` is set to `0.95` -- this flag is only used in sample-based generation modes. You should set `do_sample=True` or unset `top_p`.\n",
      "  warnings.warn(\n",
      "movie_1:  50%|█████     | 49/98 [02:39<02:35,  3.18s/it]"
     ]
    },
    {
     "name": "stdout",
     "output_type": "stream",
     "text": [
      "Query failed: Execution failed on sql '-- Get all movies and join with all reviewers\n",
      "\n",
      "SELECT m.title,\n",
      "       r.name\n",
      "FROM Movie m\n",
      "Cross Join Reviewer r -- Get all movies and join with all reviewers\n",
      "\n",
      "SELECT m.title,\n",
      "       r.name\n",
      "FROM Movie m\n",
      "Join Reviewer r': near \"SELECT\": syntax error\n"
     ]
    },
    {
     "name": "stderr",
     "output_type": "stream",
     "text": [
      "c:\\Users\\zly20\\AppData\\Local\\Programs\\Python\\Python311\\Lib\\site-packages\\transformers\\generation\\configuration_utils.py:628: UserWarning: `do_sample` is set to `False`. However, `temperature` is set to `0.6` -- this flag is only used in sample-based generation modes. You should set `do_sample=True` or unset `temperature`.\n",
      "  warnings.warn(\n",
      "c:\\Users\\zly20\\AppData\\Local\\Programs\\Python\\Python311\\Lib\\site-packages\\transformers\\generation\\configuration_utils.py:633: UserWarning: `do_sample` is set to `False`. However, `top_p` is set to `0.95` -- this flag is only used in sample-based generation modes. You should set `do_sample=True` or unset `top_p`.\n",
      "  warnings.warn(\n",
      "movie_1:  51%|█████     | 50/98 [02:43<02:50,  3.55s/it]c:\\Users\\zly20\\AppData\\Local\\Programs\\Python\\Python311\\Lib\\site-packages\\transformers\\generation\\configuration_utils.py:628: UserWarning: `do_sample` is set to `False`. However, `temperature` is set to `0.6` -- this flag is only used in sample-based generation modes. You should set `do_sample=True` or unset `temperature`.\n",
      "  warnings.warn(\n",
      "c:\\Users\\zly20\\AppData\\Local\\Programs\\Python\\Python311\\Lib\\site-packages\\transformers\\generation\\configuration_utils.py:633: UserWarning: `do_sample` is set to `False`. However, `top_p` is set to `0.95` -- this flag is only used in sample-based generation modes. You should set `do_sample=True` or unset `top_p`.\n",
      "  warnings.warn(\n"
     ]
    },
    {
     "name": "stdout",
     "output_type": "stream",
     "text": [
      "Query failed: Execution failed on sql '\n",
      "SELECT r.name,\n",
      "       m.title\n",
      "FROM Reviewer r\n",
      "LEFT JOIN Movie m ON r.mID = m.mID': no such column: r.mID\n"
     ]
    },
    {
     "name": "stderr",
     "output_type": "stream",
     "text": [
      "movie_1:  52%|█████▏    | 51/98 [02:47<02:50,  3.63s/it]"
     ]
    },
    {
     "name": "stdout",
     "output_type": "stream",
     "text": [
      "Query failed: 'NoneType' object is not iterable\n"
     ]
    },
    {
     "name": "stderr",
     "output_type": "stream",
     "text": [
      "c:\\Users\\zly20\\AppData\\Local\\Programs\\Python\\Python311\\Lib\\site-packages\\transformers\\generation\\configuration_utils.py:628: UserWarning: `do_sample` is set to `False`. However, `temperature` is set to `0.6` -- this flag is only used in sample-based generation modes. You should set `do_sample=True` or unset `temperature`.\n",
      "  warnings.warn(\n",
      "c:\\Users\\zly20\\AppData\\Local\\Programs\\Python\\Python311\\Lib\\site-packages\\transformers\\generation\\configuration_utils.py:633: UserWarning: `do_sample` is set to `False`. However, `top_p` is set to `0.95` -- this flag is only used in sample-based generation modes. You should set `do_sample=True` or unset `top_p`.\n",
      "  warnings.warn(\n",
      "movie_1:  53%|█████▎    | 52/98 [02:50<02:45,  3.60s/it]"
     ]
    },
    {
     "name": "stdout",
     "output_type": "stream",
     "text": [
      "Query failed: Execution failed on sql '\n",
      "SELECT title\n",
      "FROM Movie\n",
      "WHERE\n",
      "    (SELECT mID\n",
      "     FROM Reviewer\n",
      "     WHERE name = 'Chris Jackson') NULL\n",
      "    (SELECT mID\n",
      "     FROM Rating\n",
      "     WHERE rID IN\n",
      "         (SELECT mID\n",
      "          FROM Reviewer\n",
      "          WHERE name = 'Chris Jackson')\n",
      "       AND rating = 0)': near \"NULL\": syntax error\n"
     ]
    },
    {
     "name": "stderr",
     "output_type": "stream",
     "text": [
      "c:\\Users\\zly20\\AppData\\Local\\Programs\\Python\\Python311\\Lib\\site-packages\\transformers\\generation\\configuration_utils.py:628: UserWarning: `do_sample` is set to `False`. However, `temperature` is set to `0.6` -- this flag is only used in sample-based generation modes. You should set `do_sample=True` or unset `temperature`.\n",
      "  warnings.warn(\n",
      "c:\\Users\\zly20\\AppData\\Local\\Programs\\Python\\Python311\\Lib\\site-packages\\transformers\\generation\\configuration_utils.py:633: UserWarning: `do_sample` is set to `False`. However, `top_p` is set to `0.95` -- this flag is only used in sample-based generation modes. You should set `do_sample=True` or unset `top_p`.\n",
      "  warnings.warn(\n",
      "movie_1:  54%|█████▍    | 53/98 [02:53<02:32,  3.39s/it]c:\\Users\\zly20\\AppData\\Local\\Programs\\Python\\Python311\\Lib\\site-packages\\transformers\\generation\\configuration_utils.py:628: UserWarning: `do_sample` is set to `False`. However, `temperature` is set to `0.6` -- this flag is only used in sample-based generation modes. You should set `do_sample=True` or unset `temperature`.\n",
      "  warnings.warn(\n",
      "c:\\Users\\zly20\\AppData\\Local\\Programs\\Python\\Python311\\Lib\\site-packages\\transformers\\generation\\configuration_utils.py:633: UserWarning: `do_sample` is set to `False`. However, `top_p` is set to `0.95` -- this flag is only used in sample-based generation modes. You should set `do_sample=True` or unset `top_p`.\n",
      "  warnings.warn(\n",
      "movie_1:  55%|█████▌    | 54/98 [02:57<02:26,  3.34s/it]"
     ]
    },
    {
     "name": "stdout",
     "output_type": "stream",
     "text": [
      "Query failed: Execution failed on sql '\n",
      "SELECT m.title,\n",
      "       m.year,\n",
      "       m.name\n",
      "FROM Movie m\n",
      "WHERE m.director IN\n",
      "    (SELECT mID\n",
      "     FROM Rating\n",
      "     WHERE mID > 1);': no such column: m.name\n"
     ]
    },
    {
     "name": "stderr",
     "output_type": "stream",
     "text": [
      "c:\\Users\\zly20\\AppData\\Local\\Programs\\Python\\Python311\\Lib\\site-packages\\transformers\\generation\\configuration_utils.py:628: UserWarning: `do_sample` is set to `False`. However, `temperature` is set to `0.6` -- this flag is only used in sample-based generation modes. You should set `do_sample=True` or unset `temperature`.\n",
      "  warnings.warn(\n",
      "c:\\Users\\zly20\\AppData\\Local\\Programs\\Python\\Python311\\Lib\\site-packages\\transformers\\generation\\configuration_utils.py:633: UserWarning: `do_sample` is set to `False`. However, `top_p` is set to `0.95` -- this flag is only used in sample-based generation modes. You should set `do_sample=True` or unset `top_p`.\n",
      "  warnings.warn(\n",
      "movie_1:  56%|█████▌    | 55/98 [03:00<02:31,  3.51s/it]c:\\Users\\zly20\\AppData\\Local\\Programs\\Python\\Python311\\Lib\\site-packages\\transformers\\generation\\configuration_utils.py:628: UserWarning: `do_sample` is set to `False`. However, `temperature` is set to `0.6` -- this flag is only used in sample-based generation modes. You should set `do_sample=True` or unset `temperature`.\n",
      "  warnings.warn(\n",
      "c:\\Users\\zly20\\AppData\\Local\\Programs\\Python\\Python311\\Lib\\site-packages\\transformers\\generation\\configuration_utils.py:633: UserWarning: `do_sample` is set to `False`. However, `top_p` is set to `0.95` -- this flag is only used in sample-based generation modes. You should set `do_sample=True` or unset `top_p`.\n",
      "  warnings.warn(\n",
      "movie_1:  57%|█████▋    | 56/98 [03:05<02:37,  3.75s/it]"
     ]
    },
    {
     "name": "stdout",
     "output_type": "stream",
     "text": [
      "Query failed: Execution failed on sql '\n",
      "SELECT m.title,\n",
      "       m.year,\n",
      "       m.date,\n",
      "       r.name as director,\n",
      "       r.year as dir_year,\n",
      "       r.stars as dir_stars\n",
      "FROM Movie m\n",
      "JOIN Reviewer r ON m.rID = r.rID\n",
      "WHERE m.rID > 1': no such column: m.date\n"
     ]
    },
    {
     "name": "stderr",
     "output_type": "stream",
     "text": [
      "c:\\Users\\zly20\\AppData\\Local\\Programs\\Python\\Python311\\Lib\\site-packages\\transformers\\generation\\configuration_utils.py:628: UserWarning: `do_sample` is set to `False`. However, `temperature` is set to `0.6` -- this flag is only used in sample-based generation modes. You should set `do_sample=True` or unset `temperature`.\n",
      "  warnings.warn(\n",
      "c:\\Users\\zly20\\AppData\\Local\\Programs\\Python\\Python311\\Lib\\site-packages\\transformers\\generation\\configuration_utils.py:633: UserWarning: `do_sample` is set to `False`. However, `top_p` is set to `0.95` -- this flag is only used in sample-based generation modes. You should set `do_sample=True` or unset `top_p`.\n",
      "  warnings.warn(\n",
      "movie_1:  58%|█████▊    | 57/98 [03:08<02:23,  3.49s/it]"
     ]
    },
    {
     "name": "stdout",
     "output_type": "stream",
     "text": [
      "Query failed: Execution failed on sql '\n",
      "SELECT d.name\n",
      "FROM Director d\n",
      "JOIN Reviewer r ON d.mID = r.rID\n",
      "JOIN Rating g ON g.rID = r.rID\n",
      "WHERE g.mID = d.mID\n",
      "  AND COUNT(g.rID) = 1;': no such table: Director\n"
     ]
    },
    {
     "name": "stderr",
     "output_type": "stream",
     "text": [
      "c:\\Users\\zly20\\AppData\\Local\\Programs\\Python\\Python311\\Lib\\site-packages\\transformers\\generation\\configuration_utils.py:628: UserWarning: `do_sample` is set to `False`. However, `temperature` is set to `0.6` -- this flag is only used in sample-based generation modes. You should set `do_sample=True` or unset `temperature`.\n",
      "  warnings.warn(\n",
      "c:\\Users\\zly20\\AppData\\Local\\Programs\\Python\\Python311\\Lib\\site-packages\\transformers\\generation\\configuration_utils.py:633: UserWarning: `do_sample` is set to `False`. However, `top_p` is set to `0.95` -- this flag is only used in sample-based generation modes. You should set `do_sample=True` or unset `top_p`.\n",
      "  warnings.warn(\n",
      "movie_1:  59%|█████▉    | 58/98 [03:11<02:12,  3.31s/it]"
     ]
    },
    {
     "name": "stdout",
     "output_type": "stream",
     "text": [
      "Query failed: Execution failed on sql '\n",
      "SELECT d.name\n",
      "FROM Director d\n",
      "JOIN Reviewer r ON d.mID = r.rID\n",
      "JOIN Rating g ON g.rID = r.rID\n",
      "WHERE d.mID =\n",
      "    (SELECT m.MID\n",
      "     FROM Movie m);': no such table: Director\n"
     ]
    },
    {
     "name": "stderr",
     "output_type": "stream",
     "text": [
      "c:\\Users\\zly20\\AppData\\Local\\Programs\\Python\\Python311\\Lib\\site-packages\\transformers\\generation\\configuration_utils.py:628: UserWarning: `do_sample` is set to `False`. However, `temperature` is set to `0.6` -- this flag is only used in sample-based generation modes. You should set `do_sample=True` or unset `temperature`.\n",
      "  warnings.warn(\n",
      "c:\\Users\\zly20\\AppData\\Local\\Programs\\Python\\Python311\\Lib\\site-packages\\transformers\\generation\\configuration_utils.py:633: UserWarning: `do_sample` is set to `False`. However, `top_p` is set to `0.95` -- this flag is only used in sample-based generation modes. You should set `do_sample=True` or unset `top_p`.\n",
      "  warnings.warn(\n",
      "movie_1:  60%|██████    | 59/98 [03:14<02:09,  3.31s/it]"
     ]
    },
    {
     "name": "stdout",
     "output_type": "stream",
     "text": [
      "Query failed: Execution failed on sql '\n",
      "SELECT d.name\n",
      "FROM Director d\n",
      "JOIN Reviewer r ON d.rID = r.rID\n",
      "JOIN Rating g ON g.rID = d.rID\n",
      "WHERE d.mID = 1\n",
      "  AND d.rID = NULL\n",
      "  AND d.name LIKE '% NULL' '%'': near \"'%'\": syntax error\n"
     ]
    },
    {
     "name": "stderr",
     "output_type": "stream",
     "text": [
      "c:\\Users\\zly20\\AppData\\Local\\Programs\\Python\\Python311\\Lib\\site-packages\\transformers\\generation\\configuration_utils.py:628: UserWarning: `do_sample` is set to `False`. However, `temperature` is set to `0.6` -- this flag is only used in sample-based generation modes. You should set `do_sample=True` or unset `temperature`.\n",
      "  warnings.warn(\n",
      "c:\\Users\\zly20\\AppData\\Local\\Programs\\Python\\Python311\\Lib\\site-packages\\transformers\\generation\\configuration_utils.py:633: UserWarning: `do_sample` is set to `False`. However, `top_p` is set to `0.95` -- this flag is only used in sample-based generation modes. You should set `do_sample=True` or unset `top_p`.\n",
      "  warnings.warn(\n",
      "movie_1:  61%|██████    | 60/98 [03:17<02:03,  3.24s/it]"
     ]
    },
    {
     "name": "stdout",
     "output_type": "stream",
     "text": [
      "Query failed: Execution failed on sql '\n",
      "SELECT d.name\n",
      "FROM Director d\n",
      "JOIN Reviewer r ON d.rID = r.rID\n",
      "JOIN Rating g ON g.rID = r.rID\n",
      "WHERE d.name IS NULL\n",
      "  OR d.direcName IS NULL': no such table: Director\n"
     ]
    },
    {
     "name": "stderr",
     "output_type": "stream",
     "text": [
      "c:\\Users\\zly20\\AppData\\Local\\Programs\\Python\\Python311\\Lib\\site-packages\\transformers\\generation\\configuration_utils.py:628: UserWarning: `do_sample` is set to `False`. However, `temperature` is set to `0.6` -- this flag is only used in sample-based generation modes. You should set `do_sample=True` or unset `temperature`.\n",
      "  warnings.warn(\n",
      "c:\\Users\\zly20\\AppData\\Local\\Programs\\Python\\Python311\\Lib\\site-packages\\transformers\\generation\\configuration_utils.py:633: UserWarning: `do_sample` is set to `False`. However, `top_p` is set to `0.95` -- this flag is only used in sample-based generation modes. You should set `do_sample=True` or unset `top_p`.\n",
      "  warnings.warn(\n",
      "movie_1:  62%|██████▏   | 61/98 [03:22<02:18,  3.74s/it]c:\\Users\\zly20\\AppData\\Local\\Programs\\Python\\Python311\\Lib\\site-packages\\transformers\\generation\\configuration_utils.py:628: UserWarning: `do_sample` is set to `False`. However, `temperature` is set to `0.6` -- this flag is only used in sample-based generation modes. You should set `do_sample=True` or unset `temperature`.\n",
      "  warnings.warn(\n",
      "c:\\Users\\zly20\\AppData\\Local\\Programs\\Python\\Python311\\Lib\\site-packages\\transformers\\generation\\configuration_utils.py:633: UserWarning: `do_sample` is set to `False`. However, `top_p` is set to `0.95` -- this flag is only used in sample-based generation modes. You should set `do_sample=True` or unset `top_p`.\n",
      "  warnings.warn(\n",
      "movie_1:  63%|██████▎   | 62/98 [03:26<02:20,  3.90s/it]"
     ]
    },
    {
     "name": "stdout",
     "output_type": "stream",
     "text": [
      "Query failed: Execution failed on sql '\n",
      "SELECT d.name,\n",
      "       COUNT(r.ratingDate) as review_count\n",
      "FROM Director d\n",
      "JOIN Reviewer r ON d.name = r.name\n",
      "GROUP BY d.name': no such table: Director\n"
     ]
    },
    {
     "name": "stderr",
     "output_type": "stream",
     "text": [
      "c:\\Users\\zly20\\AppData\\Local\\Programs\\Python\\Python311\\Lib\\site-packages\\transformers\\generation\\configuration_utils.py:628: UserWarning: `do_sample` is set to `False`. However, `temperature` is set to `0.6` -- this flag is only used in sample-based generation modes. You should set `do_sample=True` or unset `temperature`.\n",
      "  warnings.warn(\n",
      "c:\\Users\\zly20\\AppData\\Local\\Programs\\Python\\Python311\\Lib\\site-packages\\transformers\\generation\\configuration_utils.py:633: UserWarning: `do_sample` is set to `False`. However, `top_p` is set to `0.95` -- this flag is only used in sample-based generation modes. You should set `do_sample=True` or unset `top_p`.\n",
      "  warnings.warn(\n",
      "movie_1:  64%|██████▍   | 63/98 [03:29<02:06,  3.62s/it]"
     ]
    },
    {
     "name": "stdout",
     "output_type": "stream",
     "text": [
      "Query failed: 'NoneType' object is not iterable\n"
     ]
    },
    {
     "name": "stderr",
     "output_type": "stream",
     "text": [
      "c:\\Users\\zly20\\AppData\\Local\\Programs\\Python\\Python311\\Lib\\site-packages\\transformers\\generation\\configuration_utils.py:628: UserWarning: `do_sample` is set to `False`. However, `temperature` is set to `0.6` -- this flag is only used in sample-based generation modes. You should set `do_sample=True` or unset `temperature`.\n",
      "  warnings.warn(\n",
      "c:\\Users\\zly20\\AppData\\Local\\Programs\\Python\\Python311\\Lib\\site-packages\\transformers\\generation\\configuration_utils.py:633: UserWarning: `do_sample` is set to `False`. However, `top_p` is set to `0.95` -- this flag is only used in sample-based generation modes. You should set `do_sample=True` or unset `top_p`.\n",
      "  warnings.warn(\n",
      "movie_1:  65%|██████▌   | 64/98 [03:32<01:59,  3.52s/it]"
     ]
    },
    {
     "name": "stdout",
     "output_type": "stream",
     "text": [
      "Query failed: Execution failed on sql '\n",
      "SELECT m.title,\n",
      "       AVG(ratingRating) AS avgRating\n",
      "FROM Movie m\n",
      "LEFT JOIN Reviewer r ON m.mID = r.mID\n",
      "LEFT JOIN Rating ratingRating ON r.rID = m.rID\n",
      "GROUP BY m.title\n",
      "ORDER BY avgRating DESC': no such column: ratingRating\n"
     ]
    },
    {
     "name": "stderr",
     "output_type": "stream",
     "text": [
      "c:\\Users\\zly20\\AppData\\Local\\Programs\\Python\\Python311\\Lib\\site-packages\\transformers\\generation\\configuration_utils.py:628: UserWarning: `do_sample` is set to `False`. However, `temperature` is set to `0.6` -- this flag is only used in sample-based generation modes. You should set `do_sample=True` or unset `temperature`.\n",
      "  warnings.warn(\n",
      "c:\\Users\\zly20\\AppData\\Local\\Programs\\Python\\Python311\\Lib\\site-packages\\transformers\\generation\\configuration_utils.py:633: UserWarning: `do_sample` is set to `False`. However, `top_p` is set to `0.95` -- this flag is only used in sample-based generation modes. You should set `do_sample=True` or unset `top_p`.\n",
      "  warnings.warn(\n",
      "movie_1:  66%|██████▋   | 65/98 [03:35<01:49,  3.32s/it]"
     ]
    },
    {
     "name": "stdout",
     "output_type": "stream",
     "text": [
      "Query failed: Execution failed on sql '\n",
      "SELECT m.title,\n",
      "       avg(rating) as avg_rating\n",
      "FROM Movie m\n",
      "LEFT JOIN Reviewer r ON m.mID = r.mID\n",
      "LEFT JOIN Rating rating ON r.rID = m.mID\n",
      "GROUP BY m.mID\n",
      "ORDER BY avg_rating ASC': no such column: rating\n"
     ]
    },
    {
     "name": "stderr",
     "output_type": "stream",
     "text": [
      "c:\\Users\\zly20\\AppData\\Local\\Programs\\Python\\Python311\\Lib\\site-packages\\transformers\\generation\\configuration_utils.py:628: UserWarning: `do_sample` is set to `False`. However, `temperature` is set to `0.6` -- this flag is only used in sample-based generation modes. You should set `do_sample=True` or unset `temperature`.\n",
      "  warnings.warn(\n",
      "c:\\Users\\zly20\\AppData\\Local\\Programs\\Python\\Python311\\Lib\\site-packages\\transformers\\generation\\configuration_utils.py:633: UserWarning: `do_sample` is set to `False`. However, `top_p` is set to `0.95` -- this flag is only used in sample-based generation modes. You should set `do_sample=True` or unset `top_p`.\n",
      "  warnings.warn(\n",
      "movie_1:  67%|██████▋   | 66/98 [03:39<01:50,  3.46s/it]"
     ]
    },
    {
     "name": "stdout",
     "output_type": "stream",
     "text": [
      "Query failed: Execution failed on sql '\n",
      "SELECT m.title,\n",
      "       avg(rating) as avg_rating\n",
      "FROM Movie m\n",
      "LEFT JOIN Reviewer r ON m.mID = r.mID\n",
      "LEFT JOIN Rating rating ON r.mID = rating.mID\n",
      "GROUP BY m.mID\n",
      "ORDER BY (avg_rating) ASC': no such column: rating\n"
     ]
    },
    {
     "name": "stderr",
     "output_type": "stream",
     "text": [
      "c:\\Users\\zly20\\AppData\\Local\\Programs\\Python\\Python311\\Lib\\site-packages\\transformers\\generation\\configuration_utils.py:628: UserWarning: `do_sample` is set to `False`. However, `temperature` is set to `0.6` -- this flag is only used in sample-based generation modes. You should set `do_sample=True` or unset `temperature`.\n",
      "  warnings.warn(\n",
      "c:\\Users\\zly20\\AppData\\Local\\Programs\\Python\\Python311\\Lib\\site-packages\\transformers\\generation\\configuration_utils.py:633: UserWarning: `do_sample` is set to `False`. However, `top_p` is set to `0.95` -- this flag is only used in sample-based generation modes. You should set `do_sample=True` or unset `top_p`.\n",
      "  warnings.warn(\n",
      "movie_1:  68%|██████▊   | 67/98 [03:43<01:55,  3.74s/it]"
     ]
    },
    {
     "name": "stdout",
     "output_type": "stream",
     "text": [
      "Query failed: Execution failed on sql '\n",
      "SELECT m.title,\n",
      "       m.year,\n",
      "       R.name,\n",
      "       R.year\n",
      "FROM Movie m,\n",
      "     Reviewer R': no such column: R.year\n"
     ]
    },
    {
     "name": "stderr",
     "output_type": "stream",
     "text": [
      "c:\\Users\\zly20\\AppData\\Local\\Programs\\Python\\Python311\\Lib\\site-packages\\transformers\\generation\\configuration_utils.py:628: UserWarning: `do_sample` is set to `False`. However, `temperature` is set to `0.6` -- this flag is only used in sample-based generation modes. You should set `do_sample=True` or unset `temperature`.\n",
      "  warnings.warn(\n",
      "c:\\Users\\zly20\\AppData\\Local\\Programs\\Python\\Python311\\Lib\\site-packages\\transformers\\generation\\configuration_utils.py:633: UserWarning: `do_sample` is set to `False`. However, `top_p` is set to `0.95` -- this flag is only used in sample-based generation modes. You should set `do_sample=True` or unset `top_p`.\n",
      "  warnings.warn(\n",
      "movie_1:  69%|██████▉   | 68/98 [03:46<01:43,  3.44s/it]"
     ]
    },
    {
     "name": "stdout",
     "output_type": "stream",
     "text": [
      "Query failed: Execution failed on sql '\n",
      "SELECT m.title,\n",
      "       m.year,\n",
      "       R.ratingDate\n",
      "FROM Movie m\n",
      "JOIN Reviewer R ON R.name = m.name\n",
      "JOIN RatingRating R2 ON R2.rID = R.rID\n",
      "AND R2.mID = m.mID\n",
      "SELECT TOP 3\n",
      "FROM RatingRating': near \"SELECT\": syntax error\n"
     ]
    },
    {
     "name": "stderr",
     "output_type": "stream",
     "text": [
      "c:\\Users\\zly20\\AppData\\Local\\Programs\\Python\\Python311\\Lib\\site-packages\\transformers\\generation\\configuration_utils.py:628: UserWarning: `do_sample` is set to `False`. However, `temperature` is set to `0.6` -- this flag is only used in sample-based generation modes. You should set `do_sample=True` or unset `temperature`.\n",
      "  warnings.warn(\n",
      "c:\\Users\\zly20\\AppData\\Local\\Programs\\Python\\Python311\\Lib\\site-packages\\transformers\\generation\\configuration_utils.py:633: UserWarning: `do_sample` is set to `False`. However, `top_p` is set to `0.95` -- this flag is only used in sample-based generation modes. You should set `do_sample=True` or unset `top_p`.\n",
      "  warnings.warn(\n",
      "movie_1:  70%|███████   | 69/98 [03:49<01:37,  3.36s/it]"
     ]
    },
    {
     "name": "stdout",
     "output_type": "stream",
     "text": [
      "Query failed: Execution failed on sql '\n",
      "SELECT d.name,\n",
      "       d.title,\n",
      "\n",
      "  (SELECT MAX(stars)\n",
      "   FROM Rating\n",
      "   WHERE mID = d.mID) AS max_rating\n",
      "FROM Director d\n",
      "LEFT JOIN Rating r ON d.mID = r.mID\n",
      "GROUP BY d.name,\n",
      "         d.mID\n",
      "ORDER BY max_rating DESC': no such table: Director\n"
     ]
    },
    {
     "name": "stderr",
     "output_type": "stream",
     "text": [
      "c:\\Users\\zly20\\AppData\\Local\\Programs\\Python\\Python311\\Lib\\site-packages\\transformers\\generation\\configuration_utils.py:628: UserWarning: `do_sample` is set to `False`. However, `temperature` is set to `0.6` -- this flag is only used in sample-based generation modes. You should set `do_sample=True` or unset `temperature`.\n",
      "  warnings.warn(\n",
      "c:\\Users\\zly20\\AppData\\Local\\Programs\\Python\\Python311\\Lib\\site-packages\\transformers\\generation\\configuration_utils.py:633: UserWarning: `do_sample` is set to `False`. However, `top_p` is set to `0.95` -- this flag is only used in sample-based generation modes. You should set `do_sample=True` or unset `top_p`.\n",
      "  warnings.warn(\n",
      "movie_1:  71%|███████▏  | 70/98 [03:52<01:29,  3.19s/it]"
     ]
    },
    {
     "name": "stdout",
     "output_type": "stream",
     "text": [
      "Query failed: Execution failed on sql '\n",
      "SELECT d.name,\n",
      "       d.title,\n",
      "       r.stars,\n",
      "       r.ratingDate,\n",
      "       COUNT(rID) as num_reviews\n",
      "FROM Reviewer d\n",
      "JOIN Reviewer r ON r.rID = d.rID\n",
      "JOIN Rating ON r.rID = r.mID\n",
      "GROUP BY d.name,\n",
      "         d.title\n",
      "ORDER BY d.name,\n",
      "         d.title;': no such column: d.title\n"
     ]
    },
    {
     "name": "stderr",
     "output_type": "stream",
     "text": [
      "c:\\Users\\zly20\\AppData\\Local\\Programs\\Python\\Python311\\Lib\\site-packages\\transformers\\generation\\configuration_utils.py:628: UserWarning: `do_sample` is set to `False`. However, `temperature` is set to `0.6` -- this flag is only used in sample-based generation modes. You should set `do_sample=True` or unset `temperature`.\n",
      "  warnings.warn(\n",
      "c:\\Users\\zly20\\AppData\\Local\\Programs\\Python\\Python311\\Lib\\site-packages\\transformers\\generation\\configuration_utils.py:633: UserWarning: `do_sample` is set to `False`. However, `top_p` is set to `0.95` -- this flag is only used in sample-based generation modes. You should set `do_sample=True` or unset `top_p`.\n",
      "  warnings.warn(\n",
      "movie_1:  72%|███████▏  | 71/98 [03:55<01:24,  3.11s/it]"
     ]
    },
    {
     "name": "stdout",
     "output_type": "stream",
     "text": [
      "Query failed: 'NoneType' object is not iterable\n"
     ]
    },
    {
     "name": "stderr",
     "output_type": "stream",
     "text": [
      "c:\\Users\\zly20\\AppData\\Local\\Programs\\Python\\Python311\\Lib\\site-packages\\transformers\\generation\\configuration_utils.py:628: UserWarning: `do_sample` is set to `False`. However, `temperature` is set to `0.6` -- this flag is only used in sample-based generation modes. You should set `do_sample=True` or unset `temperature`.\n",
      "  warnings.warn(\n",
      "c:\\Users\\zly20\\AppData\\Local\\Programs\\Python\\Python311\\Lib\\site-packages\\transformers\\generation\\configuration_utils.py:633: UserWarning: `do_sample` is set to `False`. However, `top_p` is set to `0.95` -- this flag is only used in sample-based generation modes. You should set `do_sample=True` or unset `top_p`.\n",
      "  warnings.warn(\n",
      "movie_1:  73%|███████▎  | 72/98 [03:59<01:27,  3.36s/it]"
     ]
    },
    {
     "name": "stdout",
     "output_type": "stream",
     "text": [
      "Query failed: Execution failed on sql '\n",
      "SELECT R.name,\n",
      "       R.rating,\n",
      "  (SELECT MIN(R.stars) as min_rating\n",
      "   FROM Rating R\n",
      "   WHERE R.stars =\n",
      "       (SELECT MIN(R.stars) as min_rating\n",
      "        FROM Rating R\n",
      "        WHERE R.stars = R.stars))\n",
      "FROM Reviewer R': no such column: R.rating\n"
     ]
    },
    {
     "name": "stderr",
     "output_type": "stream",
     "text": [
      "c:\\Users\\zly20\\AppData\\Local\\Programs\\Python\\Python311\\Lib\\site-packages\\transformers\\generation\\configuration_utils.py:628: UserWarning: `do_sample` is set to `False`. However, `temperature` is set to `0.6` -- this flag is only used in sample-based generation modes. You should set `do_sample=True` or unset `temperature`.\n",
      "  warnings.warn(\n",
      "c:\\Users\\zly20\\AppData\\Local\\Programs\\Python\\Python311\\Lib\\site-packages\\transformers\\generation\\configuration_utils.py:633: UserWarning: `do_sample` is set to `False`. However, `top_p` is set to `0.95` -- this flag is only used in sample-based generation modes. You should set `do_sample=True` or unset `top_p`.\n",
      "  warnings.warn(\n",
      "movie_1:  74%|███████▍  | 73/98 [04:03<01:29,  3.58s/it]c:\\Users\\zly20\\AppData\\Local\\Programs\\Python\\Python311\\Lib\\site-packages\\transformers\\generation\\configuration_utils.py:628: UserWarning: `do_sample` is set to `False`. However, `temperature` is set to `0.6` -- this flag is only used in sample-based generation modes. You should set `do_sample=True` or unset `temperature`.\n",
      "  warnings.warn(\n",
      "c:\\Users\\zly20\\AppData\\Local\\Programs\\Python\\Python311\\Lib\\site-packages\\transformers\\generation\\configuration_utils.py:633: UserWarning: `do_sample` is set to `False`. However, `top_p` is set to `0.95` -- this flag is only used in sample-based generation modes. You should set `do_sample=True` or unset `top_p`.\n",
      "  warnings.warn(\n"
     ]
    },
    {
     "name": "stdout",
     "output_type": "stream",
     "text": [
      "Query failed: Execution failed on sql '\n",
      "SELECT title,\n",
      "       rating\n",
      "FROM Movie\n",
      "WHERE\n",
      "    (SELECT mID\n",
      "     FROM Reviewer\n",
      "     WHERE name =\n",
      "         (SELECT name\n",
      "          FROM Reviewer m\n",
      "          WHERE mID =\n",
      "              (SELECT mID\n",
      "               FROM Movie m\n",
      "               WHERE director = '...')))\n",
      "  AND rating =\n",
      "    (SELECT stars\n",
      "     FROM Rating\n",
      "     WHERE mID =\n",
      "         (SELECT mID\n",
      "          FROM Movie m\n",
      "          WHERE director = '...'))': no such column: rating\n"
     ]
    },
    {
     "name": "stderr",
     "output_type": "stream",
     "text": [
      "movie_1:  76%|███████▌  | 74/98 [04:06<01:20,  3.35s/it]"
     ]
    },
    {
     "name": "stdout",
     "output_type": "stream",
     "text": [
      "Query failed: Execution failed on sql '\n",
      "SELECT d.title,\n",
      "       d.stars,\n",
      "       R.stars AS rating\n",
      "FROM Director d\n",
      "LEFT JOIN Reviewer r ON d.director = r.name\n",
      "LEFT JOIN Rating rating ON rating.mID = d.mID\n",
      "WHERE d.stars =\n",
      "    (SELECT MAX(stars)\n",
      "     FROM Rating rating)': no such table: Director\n"
     ]
    },
    {
     "name": "stderr",
     "output_type": "stream",
     "text": [
      "c:\\Users\\zly20\\AppData\\Local\\Programs\\Python\\Python311\\Lib\\site-packages\\transformers\\generation\\configuration_utils.py:628: UserWarning: `do_sample` is set to `False`. However, `temperature` is set to `0.6` -- this flag is only used in sample-based generation modes. You should set `do_sample=True` or unset `temperature`.\n",
      "  warnings.warn(\n",
      "c:\\Users\\zly20\\AppData\\Local\\Programs\\Python\\Python311\\Lib\\site-packages\\transformers\\generation\\configuration_utils.py:633: UserWarning: `do_sample` is set to `False`. However, `top_p` is set to `0.95` -- this flag is only used in sample-based generation modes. You should set `do_sample=True` or unset `top_p`.\n",
      "  warnings.warn(\n",
      "movie_1:  77%|███████▋  | 75/98 [04:09<01:16,  3.33s/it]"
     ]
    },
    {
     "name": "stdout",
     "output_type": "stream",
     "text": [
      "Query failed: Execution failed on sql '\n",
      "SELECT m.title\n",
      "FROM Movie\n",
      "WHERE m.stars =\n",
      "    (SELECT MAX(m.stars)\n",
      "     FROM Movie)': no such column: m.title\n"
     ]
    },
    {
     "name": "stderr",
     "output_type": "stream",
     "text": [
      "c:\\Users\\zly20\\AppData\\Local\\Programs\\Python\\Python311\\Lib\\site-packages\\transformers\\generation\\configuration_utils.py:628: UserWarning: `do_sample` is set to `False`. However, `temperature` is set to `0.6` -- this flag is only used in sample-based generation modes. You should set `do_sample=True` or unset `temperature`.\n",
      "  warnings.warn(\n",
      "c:\\Users\\zly20\\AppData\\Local\\Programs\\Python\\Python311\\Lib\\site-packages\\transformers\\generation\\configuration_utils.py:633: UserWarning: `do_sample` is set to `False`. However, `top_p` is set to `0.95` -- this flag is only used in sample-based generation modes. You should set `do_sample=True` or unset `top_p`.\n",
      "  warnings.warn(\n",
      "movie_1:  78%|███████▊  | 76/98 [04:13<01:14,  3.39s/it]c:\\Users\\zly20\\AppData\\Local\\Programs\\Python\\Python311\\Lib\\site-packages\\transformers\\generation\\configuration_utils.py:628: UserWarning: `do_sample` is set to `False`. However, `temperature` is set to `0.6` -- this flag is only used in sample-based generation modes. You should set `do_sample=True` or unset `temperature`.\n",
      "  warnings.warn(\n",
      "c:\\Users\\zly20\\AppData\\Local\\Programs\\Python\\Python311\\Lib\\site-packages\\transformers\\generation\\configuration_utils.py:633: UserWarning: `do_sample` is set to `False`. However, `top_p` is set to `0.95` -- this flag is only used in sample-based generation modes. You should set `do_sample=True` or unset `top_p`.\n",
      "  warnings.warn(\n",
      "movie_1:  79%|███████▊  | 77/98 [04:16<01:08,  3.25s/it]"
     ]
    },
    {
     "name": "stdout",
     "output_type": "stream",
     "text": [
      "Query failed: Execution failed on sql '\n",
      "SELECT title\n",
      "FROM Movie\n",
      "WHERE rating.stars > 3\n",
      "  AND rating.stars < 5;': no such column: rating.stars\n"
     ]
    },
    {
     "name": "stderr",
     "output_type": "stream",
     "text": [
      "c:\\Users\\zly20\\AppData\\Local\\Programs\\Python\\Python311\\Lib\\site-packages\\transformers\\generation\\configuration_utils.py:628: UserWarning: `do_sample` is set to `False`. However, `temperature` is set to `0.6` -- this flag is only used in sample-based generation modes. You should set `do_sample=True` or unset `temperature`.\n",
      "  warnings.warn(\n",
      "c:\\Users\\zly20\\AppData\\Local\\Programs\\Python\\Python311\\Lib\\site-packages\\transformers\\generation\\configuration_utils.py:633: UserWarning: `do_sample` is set to `False`. However, `top_p` is set to `0.95` -- this flag is only used in sample-based generation modes. You should set `do_sample=True` or unset `top_p`.\n",
      "  warnings.warn(\n",
      "movie_1:  80%|███████▉  | 78/98 [04:19<01:08,  3.42s/it]"
     ]
    },
    {
     "name": "stdout",
     "output_type": "stream",
     "text": [
      "Query failed: Execution failed on sql '\n",
      "SELECT title\n",
      "FROM Movie\n",
      "WHERE rating.stars >= 3\n",
      "  AND rating.stars <= 5;': no such column: rating.stars\n"
     ]
    },
    {
     "name": "stderr",
     "output_type": "stream",
     "text": [
      "c:\\Users\\zly20\\AppData\\Local\\Programs\\Python\\Python311\\Lib\\site-packages\\transformers\\generation\\configuration_utils.py:628: UserWarning: `do_sample` is set to `False`. However, `temperature` is set to `0.6` -- this flag is only used in sample-based generation modes. You should set `do_sample=True` or unset `temperature`.\n",
      "  warnings.warn(\n",
      "c:\\Users\\zly20\\AppData\\Local\\Programs\\Python\\Python311\\Lib\\site-packages\\transformers\\generation\\configuration_utils.py:633: UserWarning: `do_sample` is set to `False`. However, `top_p` is set to `0.95` -- this flag is only used in sample-based generation modes. You should set `do_sample=True` or unset `top_p`.\n",
      "  warnings.warn(\n",
      "movie_1:  81%|████████  | 79/98 [04:24<01:10,  3.69s/it]"
     ]
    },
    {
     "name": "stdout",
     "output_type": "stream",
     "text": [
      "Query failed: 'NoneType' object is not iterable\n"
     ]
    },
    {
     "name": "stderr",
     "output_type": "stream",
     "text": [
      "c:\\Users\\zly20\\AppData\\Local\\Programs\\Python\\Python311\\Lib\\site-packages\\transformers\\generation\\configuration_utils.py:628: UserWarning: `do_sample` is set to `False`. However, `temperature` is set to `0.6` -- this flag is only used in sample-based generation modes. You should set `do_sample=True` or unset `temperature`.\n",
      "  warnings.warn(\n",
      "c:\\Users\\zly20\\AppData\\Local\\Programs\\Python\\Python311\\Lib\\site-packages\\transformers\\generation\\configuration_utils.py:633: UserWarning: `do_sample` is set to `False`. However, `top_p` is set to `0.95` -- this flag is only used in sample-based generation modes. You should set `do_sample=True` or unset `top_p`.\n",
      "  warnings.warn(\n",
      "movie_1:  82%|████████▏ | 80/98 [04:27<01:03,  3.54s/it]"
     ]
    },
    {
     "name": "stdout",
     "output_type": "stream",
     "text": [
      "Query failed: Execution failed on sql '\n",
      "SELECT r.name\n",
      "FROM Reviewer r\n",
      "WHERE r.rID IN\n",
      "    (SELECT mID\n",
      "     FROM Movie m\n",
      "     WHERE m.stars > 3);': no such column: m.stars\n"
     ]
    },
    {
     "name": "stderr",
     "output_type": "stream",
     "text": [
      "c:\\Users\\zly20\\AppData\\Local\\Programs\\Python\\Python311\\Lib\\site-packages\\transformers\\generation\\configuration_utils.py:628: UserWarning: `do_sample` is set to `False`. However, `temperature` is set to `0.6` -- this flag is only used in sample-based generation modes. You should set `do_sample=True` or unset `temperature`.\n",
      "  warnings.warn(\n",
      "c:\\Users\\zly20\\AppData\\Local\\Programs\\Python\\Python311\\Lib\\site-packages\\transformers\\generation\\configuration_utils.py:633: UserWarning: `do_sample` is set to `False`. However, `top_p` is set to `0.95` -- this flag is only used in sample-based generation modes. You should set `do_sample=True` or unset `top_p`.\n",
      "  warnings.warn(\n",
      "movie_1:  83%|████████▎ | 81/98 [04:30<00:55,  3.28s/it]"
     ]
    },
    {
     "name": "stdout",
     "output_type": "stream",
     "text": [
      "Query failed: Execution failed on sql '\n",
      "SELECT m.title,\n",
      "       AVG(r.stars) AS avg_rating\n",
      "FROM Movie m\n",
      "LEFT JOIN Reviewer r ON r.mID = m.mID\n",
      "WHERE m.title LIKE '%not reviewed by Brittany Harris%' -- Note: The above query may not be accurate due to potential issues with the database schema.\n",
      "': no such column: r.stars\n"
     ]
    },
    {
     "name": "stderr",
     "output_type": "stream",
     "text": [
      "c:\\Users\\zly20\\AppData\\Local\\Programs\\Python\\Python311\\Lib\\site-packages\\transformers\\generation\\configuration_utils.py:628: UserWarning: `do_sample` is set to `False`. However, `temperature` is set to `0.6` -- this flag is only used in sample-based generation modes. You should set `do_sample=True` or unset `temperature`.\n",
      "  warnings.warn(\n",
      "c:\\Users\\zly20\\AppData\\Local\\Programs\\Python\\Python311\\Lib\\site-packages\\transformers\\generation\\configuration_utils.py:633: UserWarning: `do_sample` is set to `False`. However, `top_p` is set to `0.95` -- this flag is only used in sample-based generation modes. You should set `do_sample=True` or unset `top_p`.\n",
      "  warnings.warn(\n",
      "movie_1:  84%|████████▎ | 82/98 [04:32<00:50,  3.15s/it]"
     ]
    },
    {
     "name": "stdout",
     "output_type": "stream",
     "text": [
      "Query failed: Execution failed on sql '\n",
      "SELECT m.title,\n",
      "       AVG(ratingRate) AS avgRating\n",
      "FROM Movie m\n",
      "LEFT JOIN Reviewer r ON m.mID = r.mID\n",
      "WHERE r.name = 'Brittany Harris'\n",
      "GROUP BY m.title': no such column: ratingRate\n"
     ]
    },
    {
     "name": "stderr",
     "output_type": "stream",
     "text": [
      "c:\\Users\\zly20\\AppData\\Local\\Programs\\Python\\Python311\\Lib\\site-packages\\transformers\\generation\\configuration_utils.py:628: UserWarning: `do_sample` is set to `False`. However, `temperature` is set to `0.6` -- this flag is only used in sample-based generation modes. You should set `do_sample=True` or unset `temperature`.\n",
      "  warnings.warn(\n",
      "c:\\Users\\zly20\\AppData\\Local\\Programs\\Python\\Python311\\Lib\\site-packages\\transformers\\generation\\configuration_utils.py:633: UserWarning: `do_sample` is set to `False`. However, `top_p` is set to `0.95` -- this flag is only used in sample-based generation modes. You should set `do_sample=True` or unset `top_p`.\n",
      "  warnings.warn(\n",
      "movie_1:  85%|████████▍ | 83/98 [04:36<00:46,  3.12s/it]"
     ]
    },
    {
     "name": "stdout",
     "output_type": "stream",
     "text": [
      "Query failed: Execution failed on sql '-- The query first selects the movie IDs where the reviewer is Brittany Harris and the movie is not reviewed by her.\n",
      "\n",
      "SELECT mID\n",
      "FROM Movie\n",
      "WHERE rID =\n",
      "    (SELECT rID\n",
      "     FROM Reviewer\n",
      "     WHERE name = 'Brittany Harris'\n",
      "       AND mID = mID) -- The query then joins the Movie and Reviewer tables to get the movie IDs that are not reviewed by Brittany Harris.\n",
      "': no such column: rID\n"
     ]
    },
    {
     "name": "stderr",
     "output_type": "stream",
     "text": [
      "c:\\Users\\zly20\\AppData\\Local\\Programs\\Python\\Python311\\Lib\\site-packages\\transformers\\generation\\configuration_utils.py:628: UserWarning: `do_sample` is set to `False`. However, `temperature` is set to `0.6` -- this flag is only used in sample-based generation modes. You should set `do_sample=True` or unset `temperature`.\n",
      "  warnings.warn(\n",
      "c:\\Users\\zly20\\AppData\\Local\\Programs\\Python\\Python311\\Lib\\site-packages\\transformers\\generation\\configuration_utils.py:633: UserWarning: `do_sample` is set to `False`. However, `top_p` is set to `0.95` -- this flag is only used in sample-based generation modes. You should set `do_sample=True` or unset `top_p`.\n",
      "  warnings.warn(\n",
      "movie_1:  86%|████████▌ | 84/98 [04:40<00:49,  3.55s/it]c:\\Users\\zly20\\AppData\\Local\\Programs\\Python\\Python311\\Lib\\site-packages\\transformers\\generation\\configuration_utils.py:628: UserWarning: `do_sample` is set to `False`. However, `temperature` is set to `0.6` -- this flag is only used in sample-based generation modes. You should set `do_sample=True` or unset `temperature`.\n",
      "  warnings.warn(\n",
      "c:\\Users\\zly20\\AppData\\Local\\Programs\\Python\\Python311\\Lib\\site-packages\\transformers\\generation\\configuration_utils.py:633: UserWarning: `do_sample` is set to `False`. However, `top_p` is set to `0.95` -- this flag is only used in sample-based generation modes. You should set `do_sample=True` or unset `top_p`.\n",
      "  warnings.warn(\n",
      "movie_1:  87%|████████▋ | 85/98 [04:44<00:47,  3.63s/it]"
     ]
    },
    {
     "name": "stdout",
     "output_type": "stream",
     "text": [
      "Query failed: 'NoneType' object is not iterable\n"
     ]
    },
    {
     "name": "stderr",
     "output_type": "stream",
     "text": [
      "c:\\Users\\zly20\\AppData\\Local\\Programs\\Python\\Python311\\Lib\\site-packages\\transformers\\generation\\configuration_utils.py:628: UserWarning: `do_sample` is set to `False`. However, `temperature` is set to `0.6` -- this flag is only used in sample-based generation modes. You should set `do_sample=True` or unset `temperature`.\n",
      "  warnings.warn(\n",
      "c:\\Users\\zly20\\AppData\\Local\\Programs\\Python\\Python311\\Lib\\site-packages\\transformers\\generation\\configuration_utils.py:633: UserWarning: `do_sample` is set to `False`. However, `top_p` is set to `0.95` -- this flag is only used in sample-based generation modes. You should set `do_sample=True` or unset `top_p`.\n",
      "  warnings.warn(\n",
      "movie_1:  88%|████████▊ | 86/98 [04:47<00:40,  3.39s/it]"
     ]
    },
    {
     "name": "stdout",
     "output_type": "stream",
     "text": [
      "Query failed: Execution failed on sql '\n",
      "SELECT m.title,\n",
      "       COUNT(rID) as review_count\n",
      "FROM Movie m\n",
      "JOIN Reviewer r ON m.mID = r.rID\n",
      "JOIN Rating rating ON rating.mID = rID\n",
      "WHERE m.mID IN\n",
      "    (SELECT mID\n",
      "     FROM Movie m\n",
      "     WHERE dID > 3);': ambiguous column name: rID\n"
     ]
    },
    {
     "name": "stderr",
     "output_type": "stream",
     "text": [
      "c:\\Users\\zly20\\AppData\\Local\\Programs\\Python\\Python311\\Lib\\site-packages\\transformers\\generation\\configuration_utils.py:628: UserWarning: `do_sample` is set to `False`. However, `temperature` is set to `0.6` -- this flag is only used in sample-based generation modes. You should set `do_sample=True` or unset `temperature`.\n",
      "  warnings.warn(\n",
      "c:\\Users\\zly20\\AppData\\Local\\Programs\\Python\\Python311\\Lib\\site-packages\\transformers\\generation\\configuration_utils.py:633: UserWarning: `do_sample` is set to `False`. However, `top_p` is set to `0.95` -- this flag is only used in sample-based generation modes. You should set `do_sample=True` or unset `top_p`.\n",
      "  warnings.warn(\n",
      "movie_1:  89%|████████▉ | 87/98 [04:49<00:33,  3.05s/it]"
     ]
    },
    {
     "name": "stdout",
     "output_type": "stream",
     "text": [
      "Query failed: Execution failed on sql '-- The query selects the RID from the Reviewer table where the stars are not equal to 4.\n",
      "\n",
      "SELECT r.rID\n",
      "FROM Reviewer r\n",
      "WHERE r.stars != 4;': no such column: r.stars\n"
     ]
    },
    {
     "name": "stderr",
     "output_type": "stream",
     "text": [
      "c:\\Users\\zly20\\AppData\\Local\\Programs\\Python\\Python311\\Lib\\site-packages\\transformers\\generation\\configuration_utils.py:628: UserWarning: `do_sample` is set to `False`. However, `temperature` is set to `0.6` -- this flag is only used in sample-based generation modes. You should set `do_sample=True` or unset `temperature`.\n",
      "  warnings.warn(\n",
      "c:\\Users\\zly20\\AppData\\Local\\Programs\\Python\\Python311\\Lib\\site-packages\\transformers\\generation\\configuration_utils.py:633: UserWarning: `do_sample` is set to `False`. However, `top_p` is set to `0.95` -- this flag is only used in sample-based generation modes. You should set `do_sample=True` or unset `top_p`.\n",
      "  warnings.warn(\n",
      "movie_1:  90%|████████▉ | 88/98 [04:52<00:29,  2.94s/it]"
     ]
    },
    {
     "name": "stdout",
     "output_type": "stream",
     "text": [
      "Query failed: Execution failed on sql '\n",
      "SELECT R.rID\n",
      "FROM Reviewer R\n",
      "WHERE R.stars != 4;': no such column: R.stars\n"
     ]
    },
    {
     "name": "stderr",
     "output_type": "stream",
     "text": [
      "c:\\Users\\zly20\\AppData\\Local\\Programs\\Python\\Python311\\Lib\\site-packages\\transformers\\generation\\configuration_utils.py:628: UserWarning: `do_sample` is set to `False`. However, `temperature` is set to `0.6` -- this flag is only used in sample-based generation modes. You should set `do_sample=True` or unset `temperature`.\n",
      "  warnings.warn(\n",
      "c:\\Users\\zly20\\AppData\\Local\\Programs\\Python\\Python311\\Lib\\site-packages\\transformers\\generation\\configuration_utils.py:633: UserWarning: `do_sample` is set to `False`. However, `top_p` is set to `0.95` -- this flag is only used in sample-based generation modes. You should set `do_sample=True` or unset `top_p`.\n",
      "  warnings.warn(\n",
      "movie_1:  91%|█████████ | 89/98 [04:55<00:27,  3.04s/it]"
     ]
    },
    {
     "name": "stdout",
     "output_type": "stream",
     "text": [
      "Query failed: Execution failed on sql '-- The query selects the RID from the Reviewer table where the stars are not equal to 4.\n",
      "\n",
      "SELECT rID\n",
      "FROM Reviewer\n",
      "WHERE stars != 4;': no such column: stars\n"
     ]
    },
    {
     "name": "stderr",
     "output_type": "stream",
     "text": [
      "c:\\Users\\zly20\\AppData\\Local\\Programs\\Python\\Python311\\Lib\\site-packages\\transformers\\generation\\configuration_utils.py:628: UserWarning: `do_sample` is set to `False`. However, `temperature` is set to `0.6` -- this flag is only used in sample-based generation modes. You should set `do_sample=True` or unset `temperature`.\n",
      "  warnings.warn(\n",
      "c:\\Users\\zly20\\AppData\\Local\\Programs\\Python\\Python311\\Lib\\site-packages\\transformers\\generation\\configuration_utils.py:633: UserWarning: `do_sample` is set to `False`. However, `top_p` is set to `0.95` -- this flag is only used in sample-based generation modes. You should set `do_sample=True` or unset `top_p`.\n",
      "  warnings.warn(\n",
      "movie_1:  92%|█████████▏| 90/98 [04:59<00:27,  3.39s/it]c:\\Users\\zly20\\AppData\\Local\\Programs\\Python\\Python311\\Lib\\site-packages\\transformers\\generation\\configuration_utils.py:628: UserWarning: `do_sample` is set to `False`. However, `temperature` is set to `0.6` -- this flag is only used in sample-based generation modes. You should set `do_sample=True` or unset `temperature`.\n",
      "  warnings.warn(\n",
      "c:\\Users\\zly20\\AppData\\Local\\Programs\\Python\\Python311\\Lib\\site-packages\\transformers\\generation\\configuration_utils.py:633: UserWarning: `do_sample` is set to `False`. However, `top_p` is set to `0.95` -- this flag is only used in sample-based generation modes. You should set `do_sample=True` or unset `top_p`.\n",
      "  warnings.warn(\n",
      "movie_1:  93%|█████████▎| 91/98 [05:03<00:23,  3.41s/it]"
     ]
    },
    {
     "name": "stdout",
     "output_type": "stream",
     "text": [
      "Query failed: Execution failed on sql '\n",
      "SELECT title\n",
      "FROM Movie\n",
      "WHERE year > 2000\n",
      "  OR\n",
      "    (SELECT name\n",
      "     FROM Reviewer\n",
      "     WHERE name = 'Brittany Harris'\n",
      "       AND EXISTS(Rating,\n",
      "                    (SELECT mID\n",
      "                     FROM Movie\n",
      "                     WHERE year > 2000), 1));': near \"Rating\": syntax error\n"
     ]
    },
    {
     "name": "stderr",
     "output_type": "stream",
     "text": [
      "c:\\Users\\zly20\\AppData\\Local\\Programs\\Python\\Python311\\Lib\\site-packages\\transformers\\generation\\configuration_utils.py:628: UserWarning: `do_sample` is set to `False`. However, `temperature` is set to `0.6` -- this flag is only used in sample-based generation modes. You should set `do_sample=True` or unset `temperature`.\n",
      "  warnings.warn(\n",
      "c:\\Users\\zly20\\AppData\\Local\\Programs\\Python\\Python311\\Lib\\site-packages\\transformers\\generation\\configuration_utils.py:633: UserWarning: `do_sample` is set to `False`. However, `top_p` is set to `0.95` -- this flag is only used in sample-based generation modes. You should set `do_sample=True` or unset `top_p`.\n",
      "  warnings.warn(\n",
      "movie_1:  94%|█████████▍| 92/98 [05:05<00:19,  3.24s/it]"
     ]
    },
    {
     "name": "stdout",
     "output_type": "stream",
     "text": [
      "Query failed: Execution failed on sql '\n",
      "SELECT title\n",
      "FROM Movie\n",
      "WHERE year > 2000\n",
      "  AND name LIKE '% Brittany Harris %';': no such column: name\n"
     ]
    },
    {
     "name": "stderr",
     "output_type": "stream",
     "text": [
      "c:\\Users\\zly20\\AppData\\Local\\Programs\\Python\\Python311\\Lib\\site-packages\\transformers\\generation\\configuration_utils.py:628: UserWarning: `do_sample` is set to `False`. However, `temperature` is set to `0.6` -- this flag is only used in sample-based generation modes. You should set `do_sample=True` or unset `temperature`.\n",
      "  warnings.warn(\n",
      "c:\\Users\\zly20\\AppData\\Local\\Programs\\Python\\Python311\\Lib\\site-packages\\transformers\\generation\\configuration_utils.py:633: UserWarning: `do_sample` is set to `False`. However, `top_p` is set to `0.95` -- this flag is only used in sample-based generation modes. You should set `do_sample=True` or unset `top_p`.\n",
      "  warnings.warn(\n",
      "movie_1:  97%|█████████▋| 95/98 [05:16<00:10,  3.47s/it]"
     ]
    },
    {
     "name": "stdout",
     "output_type": "stream",
     "text": [
      "Query failed: Execution failed on sql '\n",
      "SELECT r.name\n",
      "FROM Reviewer r\n",
      "WHERE r.rID IN\n",
      "    (SELECT mID\n",
      "     FROM Movie\n",
      "     WHERE stars = 3);\n",
      "\n",
      "\n",
      "SELECT r.name\n",
      "FROM Reviewer r\n",
      "WHERE r.rID IN\n",
      "    (SELECT mID\n",
      "     FROM Movie\n",
      "     WHERE stars = 4);': no such column: stars\n"
     ]
    },
    {
     "name": "stderr",
     "output_type": "stream",
     "text": [
      "c:\\Users\\zly20\\AppData\\Local\\Programs\\Python\\Python311\\Lib\\site-packages\\transformers\\generation\\configuration_utils.py:628: UserWarning: `do_sample` is set to `False`. However, `temperature` is set to `0.6` -- this flag is only used in sample-based generation modes. You should set `do_sample=True` or unset `temperature`.\n",
      "  warnings.warn(\n",
      "c:\\Users\\zly20\\AppData\\Local\\Programs\\Python\\Python311\\Lib\\site-packages\\transformers\\generation\\configuration_utils.py:633: UserWarning: `do_sample` is set to `False`. However, `top_p` is set to `0.95` -- this flag is only used in sample-based generation modes. You should set `do_sample=True` or unset `top_p`.\n",
      "  warnings.warn(\n",
      "movie_1:  98%|█████████▊| 96/98 [05:21<00:07,  3.92s/it]c:\\Users\\zly20\\AppData\\Local\\Programs\\Python\\Python311\\Lib\\site-packages\\transformers\\generation\\configuration_utils.py:628: UserWarning: `do_sample` is set to `False`. However, `temperature` is set to `0.6` -- this flag is only used in sample-based generation modes. You should set `do_sample=True` or unset `temperature`.\n",
      "  warnings.warn(\n",
      "c:\\Users\\zly20\\AppData\\Local\\Programs\\Python\\Python311\\Lib\\site-packages\\transformers\\generation\\configuration_utils.py:633: UserWarning: `do_sample` is set to `False`. However, `top_p` is set to `0.95` -- this flag is only used in sample-based generation modes. You should set `do_sample=True` or unset `top_p`.\n",
      "  warnings.warn(\n",
      "movie_1:  99%|█████████▉| 97/98 [05:24<00:03,  3.59s/it]"
     ]
    },
    {
     "name": "stdout",
     "output_type": "stream",
     "text": [
      "Query failed: Execution failed on sql '\n",
      "SELECT m.title\n",
      "FROM Movie\n",
      "WHERE m.stars = 3\n",
      "  OR m.stars = 4;': no such column: m.title\n"
     ]
    },
    {
     "name": "stderr",
     "output_type": "stream",
     "text": [
      "c:\\Users\\zly20\\AppData\\Local\\Programs\\Python\\Python311\\Lib\\site-packages\\transformers\\generation\\configuration_utils.py:628: UserWarning: `do_sample` is set to `False`. However, `temperature` is set to `0.6` -- this flag is only used in sample-based generation modes. You should set `do_sample=True` or unset `temperature`.\n",
      "  warnings.warn(\n",
      "c:\\Users\\zly20\\AppData\\Local\\Programs\\Python\\Python311\\Lib\\site-packages\\transformers\\generation\\configuration_utils.py:633: UserWarning: `do_sample` is set to `False`. However, `top_p` is set to `0.95` -- this flag is only used in sample-based generation modes. You should set `do_sample=True` or unset `top_p`.\n",
      "  warnings.warn(\n",
      "movie_1: 100%|██████████| 98/98 [05:27<00:00,  3.34s/it]"
     ]
    },
    {
     "name": "stdout",
     "output_type": "stream",
     "text": [
      "Query failed: Execution failed on sql '\n",
      "SELECT m.title\n",
      "FROM Movie\n",
      "WHERE m.year >= 2000\n",
      "  AND m.year <= 2023\n",
      "  AND m.stars = 3\n",
      "  OR m.stars = 4;': no such column: m.title\n",
      "✅ Accuracy for movie_1: 17/98 = 17.35%\n",
      "\n",
      "📊 Summary of Accuracy per Dataset:\n",
      " - movie_1: 17/98 = 17.35%\n",
      "\n",
      "🎯 Final Accuracy: 17/98 = 17.35%\n",
      "Saved bad cases to bad_cases_deepseek-ai_DeepSeek-R1-Distill-Qwen-1.5B_movie_1.json\n"
     ]
    },
    {
     "name": "stderr",
     "output_type": "stream",
     "text": [
      "\n"
     ]
    }
   ],
   "source": [
    "import torch\n",
    "from datasets import load_dataset\n",
    "from peft import PeftModel\n",
    "from transformers import AutoModelForCausalLM, AutoTokenizer\n",
    "\n",
    "movie_1_prompt = \"\"\"\n",
    "### Task\n",
    "Generate a SQLite query to answer [QUESTION]{question}[/QUESTION]\n",
    "\n",
    "### Instructions\n",
    "- If you cannot answer the question with the available database schema, return 'I do not know'\n",
    "- Pay close attention to the given database schema, note on how they can join together\n",
    "- You do not need to generate your thought process but just the answer\n",
    "- Your answer should end with '[/SQL]'\n",
    "\n",
    "create table Movie(\n",
    "\tmID int primary key, \n",
    "\ttitle text, \n",
    "\tyear int, \n",
    "\tdirector text\n",
    ");\n",
    "create table Reviewer(\n",
    "\trID int primary key, \n",
    "\tname text);\n",
    "\n",
    "create table Rating(\n",
    "\trID int, \n",
    "\tmID int, \n",
    "\tstars int, \n",
    "\tratingDate date,\n",
    "\tFOREIGN KEY (mID) references Movie(mID),\n",
    "\tFOREIGN KEY (rID) references Reviewer(rID)\n",
    ");\n",
    "\n",
    "### Answer\n",
    "Given the database schema, here is the SQLite query that answers [QUESTION]{question}[/QUESTION]\n",
    "[SQL]\n",
    "\"\"\" \n",
    "\n",
    "# Store each prompt and its corresponding DB name\n",
    "dbs = [\n",
    "    (\"movie_1\", movie_1_prompt)\n",
    "]\n",
    "\n",
    "model_name = \"deepseek-ai/DeepSeek-R1-Distill-Qwen-1.5B\"\n",
    "cache_dir = \"E:/Data File/transformers.cache\"\n",
    "tokenizer = AutoTokenizer.from_pretrained(model_name,cache_dir=cache_dir)\n",
    "\n",
    "model = AutoModelForCausalLM.from_pretrained(\n",
    "    model_name,\n",
    "    trust_remote_code=True,\n",
    "    torch_dtype=torch.float16,\n",
    "    device_map=\"auto\",\n",
    "    use_cache=True,\n",
    "    cache_dir=cache_dir\n",
    ")\n",
    "\n",
    "# Load Spider dataset\n",
    "ds = load_dataset(\"spider\")\n",
    "db_ids = [\"movie_1\"]\n",
    "\n",
    "data = []\n",
    "\n",
    "for db_id in db_ids:\n",
    "    subset = ds[\"train\"].filter(lambda x: x[\"db_id\"] == db_id)\n",
    "    questions = [entry[\"question\"] for entry in subset]\n",
    "    queries = [entry[\"query\"] for entry in subset]\n",
    "\n",
    "    # Combine into (db_id, question, query) triplets\n",
    "    entries = [{\"db_id\": db_id, \"question\": q, \"query\": sql} for q, sql in zip(questions, queries)]\n",
    "\n",
    "    # Add to overall list\n",
    "    data.extend(entries)\n",
    "\n",
    "import sqlite3\n",
    "import json\n",
    "import pandas as pd\n",
    "from pathlib import Path\n",
    "from tqdm import tqdm\n",
    "import sqlparse\n",
    "\n",
    "# Path config\n",
    "def get_db_path(db_id):\n",
    "    base_dir = Path(r\"C:\\Users\\zly20\\OneDrive - The University of Western Ontario\\1B\\CS 9860 Advanced Machine Learning\\Final Project\\CS_9860_Final_Project\\data\")\n",
    "    return str(base_dir / f\"{db_id}.sqlite\")\n",
    "\n",
    "# Run SQL and return DataFrame\n",
    "def run_query_on_db(db_path, query):\n",
    "    try:\n",
    "        with sqlite3.connect(db_path) as conn:\n",
    "            result = pd.read_sql_query(query, conn)\n",
    "        return result\n",
    "    except Exception as e:\n",
    "        print(\"Query failed:\", e)\n",
    "        return None\n",
    "\n",
    "# Accumulators\n",
    "correct = 0\n",
    "total = 0\n",
    "bad_cases = []\n",
    "\n",
    "# Per-dataset tracking\n",
    "correct_by_db = {}\n",
    "total_by_db = {}\n",
    "\n",
    "# Loop through each database and use corresponding prompt\n",
    "for db_id, prompt_template in dbs:\n",
    "    subset = [item for item in data if item[\"db_id\"] == db_id]\n",
    "    db_path = get_db_path(db_id)\n",
    "\n",
    "    correct_local = 0\n",
    "    total_local = 0\n",
    "\n",
    "    def generate_query(question):\n",
    "        prompt = prompt_template.format(question=question)\n",
    "        inputs = tokenizer(prompt, return_tensors=\"pt\").to(\"cuda\")\n",
    "        generated_ids = model.generate(\n",
    "            **inputs,\n",
    "            num_return_sequences=1,\n",
    "            eos_token_id=tokenizer.eos_token_id,\n",
    "            pad_token_id=tokenizer.eos_token_id,\n",
    "            max_new_tokens=168,\n",
    "            do_sample=False,\n",
    "            num_beams=1,\n",
    "        )\n",
    "        outputs = tokenizer.batch_decode(generated_ids, skip_special_tokens=True)\n",
    "        return sqlparse.format(outputs[0].split(\"[SQL]\")[1].split(\"[/SQL]\")[0], reindent=True)\n",
    "\n",
    "    print(f\"🔍 Evaluating {db_id} ({len(subset)} questions)\")\n",
    "    for item in tqdm(subset, desc=f\"{db_id}\"):\n",
    "        question = item[\"question\"]\n",
    "        gold_query = item[\"query\"]\n",
    "\n",
    "        try:\n",
    "            pred_query = generate_query(question)\n",
    "\n",
    "            gold_result = run_query_on_db(db_path, gold_query)\n",
    "            pred_result = run_query_on_db(db_path, pred_query)\n",
    "\n",
    "            if gold_result is not None and pred_result is not None:\n",
    "                if gold_result.equals(pred_result):\n",
    "                    correct += 1\n",
    "                    correct_local += 1\n",
    "                else:\n",
    "                    bad_cases.append({\n",
    "                        \"db_id\": db_id,\n",
    "                        \"question\": question,\n",
    "                        \"gold_query\": gold_query,\n",
    "                        \"pred_query\": pred_query,\n",
    "                        \"error_type\": \"Mismatch\",\n",
    "                        \"gold_result\": gold_result.to_string(index=False),\n",
    "                        \"pred_result\": pred_result.to_string(index=False)\n",
    "                    })\n",
    "            else:\n",
    "                bad_cases.append({\n",
    "                    \"db_id\": db_id,\n",
    "                    \"question\": question,\n",
    "                    \"gold_query\": gold_query,\n",
    "                    \"pred_query\": pred_query,\n",
    "                    \"error_type\": \"ExecutionError\",\n",
    "                    \"gold_result\": str(gold_result),\n",
    "                    \"pred_result\": str(pred_result)\n",
    "                })\n",
    "\n",
    "            total += 1\n",
    "            total_local += 1\n",
    "\n",
    "        except Exception as e:\n",
    "            bad_cases.append({\n",
    "                \"db_id\": db_id,\n",
    "                \"question\": question,\n",
    "                \"gold_query\": gold_query,\n",
    "                \"pred_query\": \"N/A\",\n",
    "                \"error_type\": f\"Exception: {str(e)}\",\n",
    "                \"gold_result\": \"N/A\",\n",
    "                \"pred_result\": \"N/A\"\n",
    "            })\n",
    "            total += 1\n",
    "            total_local += 1\n",
    "            continue\n",
    "\n",
    "    correct_by_db[db_id] = correct_local\n",
    "    total_by_db[db_id] = total_local\n",
    "    print(f\"✅ Accuracy for {db_id}: {correct_local}/{total_local} = {correct_local / total_local:.2%}\")\n",
    "\n",
    "safe_model_name = model_name.replace(\"/\", \"_\")\n",
    "output_filename = f\"bad_cases_{safe_model_name}_movie_1.json\"\n",
    "\n",
    "with open(output_filename, \"w\", encoding=\"utf-8\") as f:\n",
    "    json.dump({\n",
    "        \"model_name\": \"lora-finetuned_deepseek-1.5b\",\n",
    "        \"final_accuracy\": correct / total,\n",
    "        \"per_dataset_accuracy\": {\n",
    "            db_id: correct_by_db[db_id] / total_by_db[db_id] for db_id in correct_by_db\n",
    "        },\n",
    "        \"bad_cases\": bad_cases\n",
    "    }, f, ensure_ascii=False, indent=2)\n",
    "\n",
    "print(\"\\n📊 Summary of Accuracy per Dataset:\")\n",
    "for db_id in correct_by_db:\n",
    "    print(f\" - {db_id}: {correct_by_db[db_id]}/{total_by_db[db_id]} = {correct_by_db[db_id] / total_by_db[db_id]:.2%}\")\n",
    "\n",
    "print(f\"\\n🎯 Final Accuracy: {correct}/{total} = {correct / total:.2%}\")\n",
    "print(f\"Saved bad cases to {output_filename}\")"
   ]
  }
 ],
 "metadata": {
  "kernelspec": {
   "display_name": "Python 3",
   "language": "python",
   "name": "python3"
  },
  "language_info": {
   "codemirror_mode": {
    "name": "ipython",
    "version": 3
   },
   "file_extension": ".py",
   "mimetype": "text/x-python",
   "name": "python",
   "nbconvert_exporter": "python",
   "pygments_lexer": "ipython3",
   "version": "3.11.9"
  }
 },
 "nbformat": 4,
 "nbformat_minor": 2
}
