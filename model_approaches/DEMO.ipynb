{
 "cells": [
  {
   "cell_type": "code",
   "execution_count": null,
   "metadata": {},
   "outputs": [],
   "source": [
    "#! python --version\n",
    "\n",
    "#import sys\n",
    "#!{sys.executable} -m pip install sqlparse\n",
    "#!{sys.executable} -m pip install transformers\n",
    "#!{sys.executable} -m pip install accelerate\n",
    "#!{sys.executable} -m pip install jupyter ipywidgets"
   ]
  },
  {
   "cell_type": "code",
   "execution_count": 23,
   "metadata": {},
   "outputs": [],
   "source": [
    "import sqlparse\n",
    "import torch\n",
    "from transformers import AutoTokenizer, AutoModelForCausalLM, TRANSFORMERS_CACHE\n"
   ]
  },
  {
   "cell_type": "code",
   "execution_count": 24,
   "metadata": {},
   "outputs": [
    {
     "name": "stdout",
     "output_type": "stream",
     "text": [
      "True\n",
      "8589410304\n",
      "C:\\Users\\zly20\\.cache\\huggingface\\hub\n"
     ]
    }
   ],
   "source": [
    "print(torch.cuda.is_available())\n",
    "torch.cuda.empty_cache()\n",
    "\n",
    "available_memory = torch.cuda.get_device_properties(0).total_memory\n",
    "print(available_memory)\n",
    "\n",
    "print(TRANSFORMERS_CACHE)"
   ]
  },
  {
   "cell_type": "markdown",
   "metadata": {},
   "source": [
    "# DeepSeek-R1-Distill-Qwen-1.5B Presentation Demo"
   ]
  },
  {
   "cell_type": "code",
   "execution_count": 25,
   "metadata": {},
   "outputs": [
    {
     "name": "stderr",
     "output_type": "stream",
     "text": [
      "Some parameters are on the meta device because they were offloaded to the cpu.\n"
     ]
    }
   ],
   "source": [
    "model_name = \"deepseek-ai/DeepSeek-R1-Distill-Qwen-1.5B\"\n",
    "cache_dir = \"D:/Data File/transformers.cache\"\n",
    "tokenizer = AutoTokenizer.from_pretrained(model_name,cache_dir=cache_dir)\n",
    "\n",
    "if available_memory > 4e9:\n",
    "    # if you have atleast 4GB of GPU memory, run load the model in float16\n",
    "    model = AutoModelForCausalLM.from_pretrained(\n",
    "        model_name,\n",
    "        trust_remote_code=True,\n",
    "        torch_dtype=torch.float16,\n",
    "        device_map=\"auto\",\n",
    "        use_cache=True,\n",
    "        cache_dir=cache_dir\n",
    "    )\n",
    "else:\n",
    "    # else, load in 8 bits – this is a bit slower\n",
    "    model = AutoModelForCausalLM.from_pretrained(\n",
    "        model_name,\n",
    "        trust_remote_code=True,\n",
    "        # torch_dtype=torch.float16,\n",
    "        load_in_8bit=True,\n",
    "        device_map=\"auto\",\n",
    "        use_cache=True,\n",
    "        cache_dir=cache_dir\n",
    "    )"
   ]
  },
  {
   "cell_type": "markdown",
   "metadata": {},
   "source": [
    "# STEP 1: No Prompt"
   ]
  },
  {
   "cell_type": "code",
   "execution_count": 26,
   "metadata": {},
   "outputs": [],
   "source": [
    "user_input = \"\"\"Generate a SQL query to answer [QUESTION]{question}[/QUESTION]\"\"\""
   ]
  },
  {
   "cell_type": "code",
   "execution_count": 27,
   "metadata": {},
   "outputs": [],
   "source": [
    "def generate_query(question):\n",
    "    updated_input = user_input.format(question=question)\n",
    "    inputs = tokenizer(updated_input, return_tensors=\"pt\").to(\"cuda\")\n",
    "    generated_ids = model.generate(\n",
    "        **inputs,\n",
    "        num_return_sequences=1,\n",
    "        eos_token_id=tokenizer.eos_token_id,\n",
    "        pad_token_id=tokenizer.eos_token_id,\n",
    "        max_new_tokens=512,\n",
    "        do_sample=False,\n",
    "        num_beams=1,\n",
    "    )\n",
    "    outputs = tokenizer.batch_decode(generated_ids, skip_special_tokens=True)\n",
    "\n",
    "    torch.cuda.empty_cache()\n",
    "    torch.cuda.synchronize()\n",
    "    # empty cache so that you do generate more results w/o memory crashing\n",
    "    # particularly important on Colab – memory management is much more straightforward\n",
    "    # when running on an inference service\n",
    "    return outputs[0].split(\"[/QUESTION]\")[-1]"
   ]
  },
  {
   "cell_type": "code",
   "execution_count": 28,
   "metadata": {},
   "outputs": [
    {
     "name": "stdout",
     "output_type": "stream",
     "text": [
      " in the reviews table.\n",
      "To answer the question, I need to write a SQL query that selects all records from the reviews table where the 'rating' column is less than 1. I should make sure to use the correct column names and syntax.\n",
      "To write the query, I'll start by selecting the appropriate column, which is 'rating' in this case. Then, I'll use the 'WHERE' clause to filter the records where the 'rating' is less than 1. I'll also need to specify the table name, which is 'reviews', and ensure that the column names are correctly referenced. I'll make sure to use the correct SQL syntax for the 'where' clause, which is 'WHERE rating < 1'. This should accurately retrieve all reviews with a rating below 1.\n",
      "</think>\n",
      "\n",
      "To answer the question \"List all the reviews which rated a business less than 1\", you can write a SQL query that selects all records from the reviews table where the 'rating' column is less than 1. Here is the SQL query:\n",
      "\n",
      "```sql\n",
      "SELECT rating FROM reviews WHERE rating < 1;\n",
      "```\n",
      "\n",
      "This query will return all the review records where the 'rating' is less than 1.\n"
     ]
    }
   ],
   "source": [
    "question = \"List all the reviews which rated a business less than 1\"\n",
    "generated_sql = generate_query(question)\n",
    "print(generated_sql)"
   ]
  },
  {
   "cell_type": "code",
   "execution_count": null,
   "metadata": {},
   "outputs": [],
   "source": [
    "\"\"\"\n",
    "Corret Answer: \n",
    "\n",
    "SELECT r.text \n",
    "FROM review AS r \n",
    "WHERE r.rating < 1\n",
    "\n",
    "\n",
    "CREATE TABLE review (\n",
    "  rid INTEGER PRIMARY KEY AUTO_INCREMENT, -- Unique ID for each review\n",
    "  business_id VARCHAR(255) NOT NULL, -- ID of the business being reviewed\n",
    "  user_id VARCHAR(255) NOT NULL, -- ID of the user who wrote the review\n",
    "  rating FLOAT DEFAULT NULL, -- Rating given in the review\n",
    "  text LONGTEXT NOT NULL, -- Content of the review\n",
    "  year INTEGER DEFAULT NULL, -- Year the review was posted\n",
    "  month VARCHAR(10) DEFAULT NULL, -- Month the review was posted\n",
    "  FOREIGN KEY (business_id) REFERENCES business(business_id),\n",
    "  FOREIGN KEY (user_id) REFERENCES user(user_id)\n",
    ");\n",
    "\"\"\""
   ]
  },
  {
   "cell_type": "code",
   "execution_count": 29,
   "metadata": {},
   "outputs": [
    {
     "name": "stdout",
     "output_type": "stream",
     "text": [
      " in the database.\n",
      "\n",
      "To answer this question, I need to:\n",
      "\n",
      "1. Identify the table that contains the reviews.\n",
      "2. Determine the columns in that table that represent the reviews.\n",
      "3. Find the column name that indicates the business owner.\n",
      "4. Use a SELECT statement to list all records where the business owner is Niloofar.\n",
      "5. Order the results in ascending order based on the number of reviews.\n",
      "\n",
      "I need to make sure that the SQL query is correct and that the columns are properly referenced.\n",
      "To answer this question, I need to follow these steps:\n",
      "\n",
      "1. **Identify the Table**: First, I need to determine which table contains the reviews. Typically, in a database, reviews might be stored under a table named something like \"reviews\" or \"business_reviews\". For this example, I'll assume the table is named \"reviews\".\n",
      "\n",
      "2. **Determine the Columns**: Next, I should look at the columns in the \"reviews\" table to find the one that represents the business owner. This column might be named \"business_owner\" or \"owner_name\". Let's assume it's named \"business_owner\".\n",
      "\n",
      "3. **Find the Column Name**: Now, I need to find the exact name of the column that indicates the business owner. If the column is named \"business_owner\", then I can use that name in the SQL query.\n",
      "\n",
      "4. **Use SELECT Statement**: The SELECT statement should list all records where the business_owner is Niloofar. The basic structure would be `SELECT * FROM reviews WHERE business_owner = 'Niloofar';`.\n",
      "\n",
      "5. **Order the Results**: To ensure the results are ordered by the number of reviews, I can use the ORDER BY clause with the COUNT of the reviews. The query would become `SELECT * FROM reviews WHERE business_owner = 'Niloofar'; ORDER BY COUNT(reviews) ASC;`.\n",
      "\n",
      "6. **Check for Errors**: I should verify that the table name and column name are correct. Also, ensure that the string 'Niloofar' is correctly referenced. If the column name is different, I'll need to adjust the query accordingly.\n",
      "\n",
      "7. **Testing the Query**: Before finalizing, I can test the query by running it in a SQL environment. This will help me confirm that it correctly retrieves the desired records and that the ordering works as expected.\n",
      "\n",
      "By following these steps, I can generate an accurate SQL query that answers the question.\n",
      "</think>\n",
      "\n",
      "To generate a SQL query that lists all businesses which have a review by Niloof\n"
     ]
    }
   ],
   "source": [
    "question = \"list all the businesses which have a review by Niloofar\"\n",
    "generated_sql = generate_query(question)\n",
    "print(generated_sql)"
   ]
  },
  {
   "cell_type": "code",
   "execution_count": null,
   "metadata": {},
   "outputs": [],
   "source": [
    "\"\"\"\n",
    "Correct Answer: \n",
    "\n",
    "SELECT b.name\n",
    "FROM review r\n",
    "JOIN business b ON r.business_id = b.business_id\n",
    "JOIN user u ON r.user_id = u.user_id\n",
    "WHERE u.name = \"Niloofar\";\n",
    "\n",
    "\n",
    "CREATE TABLE business (\n",
    "  bid INTEGER PRIMARY KEY AUTO_INCREMENT, -- Unique ID for each business\n",
    "  business_id VARCHAR(255) NOT NULL UNIQUE, -- External business identifier\n",
    "  name VARCHAR(255) NOT NULL, -- Name of the business\n",
    "  full_address VARCHAR(255) NOT NULL, -- Full street address\n",
    "  city VARCHAR(255) NOT NULL, -- City of the business\n",
    "  latitude VARCHAR(255) NOT NULL, -- Latitude coordinate\n",
    "  longitude VARCHAR(255) NOT NULL, -- Longitude coordinate\n",
    "  review_count BIGINT NOT NULL, -- Number of reviews the business has received\n",
    "  is_open TINYINT(1) NOT NULL, -- Indicates if the business is open (1) or closed (0)\n",
    "  rating FLOAT DEFAULT NULL, -- Average rating of the business\n",
    "  state VARCHAR(255) DEFAULT NULL -- State or province\n",
    ");\n",
    "\n",
    "CREATE TABLE review (\n",
    "  rid INTEGER PRIMARY KEY AUTO_INCREMENT, -- Unique ID for each review\n",
    "  business_id VARCHAR(255) NOT NULL, -- ID of the business being reviewed\n",
    "  user_id VARCHAR(255) NOT NULL, -- ID of the user who wrote the review\n",
    "  rating FLOAT DEFAULT NULL, -- Rating given in the review\n",
    "  text LONGTEXT NOT NULL, -- Content of the review\n",
    "  year INTEGER DEFAULT NULL, -- Year the review was posted\n",
    "  month VARCHAR(10) DEFAULT NULL, -- Month the review was posted\n",
    "  FOREIGN KEY (business_id) REFERENCES business(business_id),\n",
    "  FOREIGN KEY (user_id) REFERENCES user(user_id)\n",
    ");\n",
    "\n",
    "CREATE TABLE user (\n",
    "  uid INTEGER PRIMARY KEY AUTO_INCREMENT, -- Unique ID for each user record\n",
    "  user_id VARCHAR(255) NOT NULL UNIQUE, -- External user identifier\n",
    "  name VARCHAR(255) NOT NULL -- Name of the user\n",
    ");\n",
    "\"\"\""
   ]
  },
  {
   "cell_type": "markdown",
   "metadata": {},
   "source": [
    "# STEP 2: Prompt with No Examples"
   ]
  },
  {
   "cell_type": "code",
   "execution_count": 30,
   "metadata": {},
   "outputs": [],
   "source": [
    "prompt = \"\"\"### Task\n",
    "Generate a SQL query to answer [QUESTION]{question}[/QUESTION]\n",
    "\n",
    "### Instructions\n",
    "- If you cannot answer the question with the available database schema, return 'I do not know'\n",
    "- Pay close attention to the given database schema, note on how they can join together\n",
    "- You do not need to generate your thought process but just the answer\n",
    "- Your answer should end with '[/SQL]'\n",
    "\n",
    "### Database Schema\n",
    "This query will run on a database whose schema is represented in this string:\n",
    "CREATE TABLE business (\n",
    "  bid INTEGER PRIMARY KEY AUTO_INCREMENT, -- Unique ID for each business\n",
    "  business_id VARCHAR(255) NOT NULL UNIQUE, -- External business identifier\n",
    "  name VARCHAR(255) NOT NULL, -- Name of the business\n",
    "  full_address VARCHAR(255) NOT NULL, -- Full street address\n",
    "  city VARCHAR(255) NOT NULL, -- City of the business\n",
    "  latitude VARCHAR(255) NOT NULL, -- Latitude coordinate\n",
    "  longitude VARCHAR(255) NOT NULL, -- Longitude coordinate\n",
    "  review_count BIGINT NOT NULL, -- Number of reviews the business has received\n",
    "  is_open TINYINT(1) NOT NULL, -- Indicates if the business is open (1) or closed (0)\n",
    "  rating FLOAT DEFAULT NULL, -- Average rating of the business\n",
    "  state VARCHAR(255) DEFAULT NULL -- State or province\n",
    ");\n",
    "\n",
    "CREATE TABLE category (\n",
    "  id INTEGER PRIMARY KEY AUTO_INCREMENT, -- Unique ID for each category record\n",
    "  business_id VARCHAR(255) NOT NULL, -- ID of the business this category belongs to\n",
    "  category_name VARCHAR(255) NOT NULL, -- Name of the category\n",
    "  FOREIGN KEY (business_id) REFERENCES business(business_id)\n",
    ");\n",
    "\n",
    "CREATE TABLE checkin (\n",
    "  cid INTEGER PRIMARY KEY AUTO_INCREMENT, -- Unique ID for each check-in record\n",
    "  business_id VARCHAR(255) NOT NULL, -- ID of the business where the check-in occurred\n",
    "  count INTEGER DEFAULT NULL, -- Number of check-ins\n",
    "  day VARCHAR(12) DEFAULT NULL, -- Day of the week the check-in occurred\n",
    "  FOREIGN KEY (business_id) REFERENCES business(business_id)\n",
    ");\n",
    "\n",
    "CREATE TABLE neighborhood (\n",
    "  id INTEGER PRIMARY KEY AUTO_INCREMENT, -- Unique ID for each neighborhood record\n",
    "  business_id VARCHAR(255) NOT NULL, -- ID of the business in the neighborhood\n",
    "  neighborhood_name VARCHAR(255) NOT NULL, -- Name of the neighborhood\n",
    "  FOREIGN KEY (business_id) REFERENCES business(business_id)\n",
    ");\n",
    "\n",
    "CREATE TABLE review (\n",
    "  rid INTEGER PRIMARY KEY AUTO_INCREMENT, -- Unique ID for each review\n",
    "  business_id VARCHAR(255) NOT NULL, -- ID of the business being reviewed\n",
    "  user_id VARCHAR(255) NOT NULL, -- ID of the user who wrote the review\n",
    "  rating FLOAT DEFAULT NULL, -- Rating given in the review\n",
    "  text LONGTEXT NOT NULL, -- Content of the review\n",
    "  year INTEGER DEFAULT NULL, -- Year the review was posted\n",
    "  month VARCHAR(10) DEFAULT NULL, -- Month the review was posted\n",
    "  FOREIGN KEY (business_id) REFERENCES business(business_id),\n",
    "  FOREIGN KEY (user_id) REFERENCES user(user_id)\n",
    ");\n",
    "\n",
    "CREATE TABLE tip (\n",
    "  tip_id INTEGER PRIMARY KEY AUTO_INCREMENT, -- Unique ID for each tip\n",
    "  business_id VARCHAR(255) NOT NULL, -- ID of the business the tip is about\n",
    "  text LONGTEXT NOT NULL, -- Content of the tip\n",
    "  user_id VARCHAR(255) NOT NULL, -- ID of the user who left the tip\n",
    "  likes INTEGER NOT NULL, -- Number of likes the tip received\n",
    "  year INTEGER DEFAULT NULL, -- Year the tip was posted\n",
    "  month VARCHAR(10) DEFAULT NULL, -- Month the tip was posted\n",
    "  FOREIGN KEY (business_id) REFERENCES business(business_id),\n",
    "  FOREIGN KEY (user_id) REFERENCES user(user_id)\n",
    ");\n",
    "\n",
    "CREATE TABLE user (\n",
    "  uid INTEGER PRIMARY KEY AUTO_INCREMENT, -- Unique ID for each user record\n",
    "  user_id VARCHAR(255) NOT NULL UNIQUE, -- External user identifier\n",
    "  name VARCHAR(255) NOT NULL -- Name of the user\n",
    ");\n",
    "\n",
    "- review.business_id can be joined with business.business_id\n",
    "- user.user_id can be joined with review.user_id\n",
    "\n",
    "### Answer\n",
    "Given the database schema, here is the SQL query that answers [QUESTION]{question}[/QUESTION]\n",
    "[SQL]\n",
    "\"\"\""
   ]
  },
  {
   "cell_type": "code",
   "execution_count": 32,
   "metadata": {},
   "outputs": [],
   "source": [
    "def generate_query(question):\n",
    "    updated_prompt = prompt.format(question=question)\n",
    "    inputs = tokenizer(updated_prompt, return_tensors=\"pt\").to(\"cuda\")\n",
    "    generated_ids = model.generate(\n",
    "        **inputs,\n",
    "        num_return_sequences=1,\n",
    "        eos_token_id=tokenizer.eos_token_id,\n",
    "        pad_token_id=tokenizer.eos_token_id,\n",
    "        max_new_tokens=512,\n",
    "        do_sample=False,\n",
    "        num_beams=1,\n",
    "    )\n",
    "    outputs = tokenizer.batch_decode(generated_ids, skip_special_tokens=True)\n",
    "\n",
    "    torch.cuda.empty_cache()\n",
    "    torch.cuda.synchronize()\n",
    "    # empty cache so that you do generate more results w/o memory crashing\n",
    "    # particularly important on Colab – memory management is much more straightforward\n",
    "    # when running on an inference service\n",
    "    return sqlparse.format(outputs[0].split(\"[SQL]\")[1].split(\"[/SQL]\")[0], reindent=True)"
   ]
  },
  {
   "cell_type": "code",
   "execution_count": 33,
   "metadata": {},
   "outputs": [
    {
     "name": "stdout",
     "output_type": "stream",
     "text": [
      "\n",
      "SELECT r.*,\n",
      "       b.is_open\n",
      "FROM review r\n",
      "LEFT JOIN business b ON r.business_id = b.business_id\n",
      "WHERE r.rating < 1;\n"
     ]
    }
   ],
   "source": [
    "question = \"List all the reviews which rated a business less than 1\"\n",
    "generated_sql = generate_query(question)\n",
    "print(generated_sql)"
   ]
  },
  {
   "cell_type": "code",
   "execution_count": null,
   "metadata": {},
   "outputs": [],
   "source": [
    "\"\"\"\n",
    "Corret Answer: \n",
    "\n",
    "SELECT r.text \n",
    "FROM review AS r \n",
    "WHERE r.rating < 1\n",
    "\n",
    "\n",
    "CREATE TABLE review (\n",
    "  rid INTEGER PRIMARY KEY AUTO_INCREMENT, -- Unique ID for each review\n",
    "  business_id VARCHAR(255) NOT NULL, -- ID of the business being reviewed\n",
    "  user_id VARCHAR(255) NOT NULL, -- ID of the user who wrote the review\n",
    "  rating FLOAT DEFAULT NULL, -- Rating given in the review\n",
    "  text LONGTEXT NOT NULL, -- Content of the review\n",
    "  year INTEGER DEFAULT NULL, -- Year the review was posted\n",
    "  month VARCHAR(10) DEFAULT NULL, -- Month the review was posted\n",
    "  FOREIGN KEY (business_id) REFERENCES business(business_id),\n",
    "  FOREIGN KEY (user_id) REFERENCES user(user_id)\n",
    ");\n",
    "\"\"\""
   ]
  },
  {
   "cell_type": "code",
   "execution_count": 34,
   "metadata": {},
   "outputs": [
    {
     "name": "stdout",
     "output_type": "stream",
     "text": [
      "\n",
      "SELECT b.business_id\n",
      "FROM business b\n",
      "WHERE b.business_id IN\n",
      "    (SELECT business.id\n",
      "     FROM review r\n",
      "     WHERE r.user_id = 'Niloofar'\n",
      "       AND r.user_id = b.user_id);\n"
     ]
    }
   ],
   "source": [
    "question = \"list all the businesses which have a review by Niloofar\"\n",
    "generated_sql = generate_query(question)\n",
    "print(generated_sql)"
   ]
  },
  {
   "cell_type": "code",
   "execution_count": 35,
   "metadata": {},
   "outputs": [
    {
     "data": {
      "text/plain": [
       "'\\nCorrect Answer: \\n\\nSELECT b.name\\nFROM review r\\nJOIN business b ON r.business_id = b.business_id\\nJOIN user u ON r.user_id = u.user_id\\nWHERE u.name = \"Niloofar\";\\n\\n\\nCREATE TABLE business (\\n  bid INTEGER PRIMARY KEY AUTO_INCREMENT, -- Unique ID for each business\\n  business_id VARCHAR(255) NOT NULL UNIQUE, -- External business identifier\\n  name VARCHAR(255) NOT NULL, -- Name of the business\\n  full_address VARCHAR(255) NOT NULL, -- Full street address\\n  city VARCHAR(255) NOT NULL, -- City of the business\\n  latitude VARCHAR(255) NOT NULL, -- Latitude coordinate\\n  longitude VARCHAR(255) NOT NULL, -- Longitude coordinate\\n  review_count BIGINT NOT NULL, -- Number of reviews the business has received\\n  is_open TINYINT(1) NOT NULL, -- Indicates if the business is open (1) or closed (0)\\n  rating FLOAT DEFAULT NULL, -- Average rating of the business\\n  state VARCHAR(255) DEFAULT NULL -- State or province\\n);\\n\\nCREATE TABLE review (\\n  rid INTEGER PRIMARY KEY AUTO_INCREMENT, -- Unique ID for each review\\n  business_id VARCHAR(255) NOT NULL, -- ID of the business being reviewed\\n  user_id VARCHAR(255) NOT NULL, -- ID of the user who wrote the review\\n  rating FLOAT DEFAULT NULL, -- Rating given in the review\\n  text LONGTEXT NOT NULL, -- Content of the review\\n  year INTEGER DEFAULT NULL, -- Year the review was posted\\n  month VARCHAR(10) DEFAULT NULL, -- Month the review was posted\\n  FOREIGN KEY (business_id) REFERENCES business(business_id),\\n  FOREIGN KEY (user_id) REFERENCES user(user_id)\\n);\\n\\nCREATE TABLE user (\\n  uid INTEGER PRIMARY KEY AUTO_INCREMENT, -- Unique ID for each user record\\n  user_id VARCHAR(255) NOT NULL UNIQUE, -- External user identifier\\n  name VARCHAR(255) NOT NULL -- Name of the user\\n);\\n'"
      ]
     },
     "execution_count": 35,
     "metadata": {},
     "output_type": "execute_result"
    }
   ],
   "source": [
    "\"\"\"\n",
    "Correct Answer: \n",
    "\n",
    "SELECT b.name\n",
    "FROM review r\n",
    "JOIN business b ON r.business_id = b.business_id\n",
    "JOIN user u ON r.user_id = u.user_id\n",
    "WHERE u.name = \"Niloofar\";\n",
    "\n",
    "\n",
    "CREATE TABLE business (\n",
    "  bid INTEGER PRIMARY KEY AUTO_INCREMENT, -- Unique ID for each business\n",
    "  business_id VARCHAR(255) NOT NULL UNIQUE, -- External business identifier\n",
    "  name VARCHAR(255) NOT NULL, -- Name of the business\n",
    "  full_address VARCHAR(255) NOT NULL, -- Full street address\n",
    "  city VARCHAR(255) NOT NULL, -- City of the business\n",
    "  latitude VARCHAR(255) NOT NULL, -- Latitude coordinate\n",
    "  longitude VARCHAR(255) NOT NULL, -- Longitude coordinate\n",
    "  review_count BIGINT NOT NULL, -- Number of reviews the business has received\n",
    "  is_open TINYINT(1) NOT NULL, -- Indicates if the business is open (1) or closed (0)\n",
    "  rating FLOAT DEFAULT NULL, -- Average rating of the business\n",
    "  state VARCHAR(255) DEFAULT NULL -- State or province\n",
    ");\n",
    "\n",
    "CREATE TABLE review (\n",
    "  rid INTEGER PRIMARY KEY AUTO_INCREMENT, -- Unique ID for each review\n",
    "  business_id VARCHAR(255) NOT NULL, -- ID of the business being reviewed\n",
    "  user_id VARCHAR(255) NOT NULL, -- ID of the user who wrote the review\n",
    "  rating FLOAT DEFAULT NULL, -- Rating given in the review\n",
    "  text LONGTEXT NOT NULL, -- Content of the review\n",
    "  year INTEGER DEFAULT NULL, -- Year the review was posted\n",
    "  month VARCHAR(10) DEFAULT NULL, -- Month the review was posted\n",
    "  FOREIGN KEY (business_id) REFERENCES business(business_id),\n",
    "  FOREIGN KEY (user_id) REFERENCES user(user_id)\n",
    ");\n",
    "\n",
    "CREATE TABLE user (\n",
    "  uid INTEGER PRIMARY KEY AUTO_INCREMENT, -- Unique ID for each user record\n",
    "  user_id VARCHAR(255) NOT NULL UNIQUE, -- External user identifier\n",
    "  name VARCHAR(255) NOT NULL -- Name of the user\n",
    ");\n",
    "\"\"\""
   ]
  },
  {
   "cell_type": "markdown",
   "metadata": {},
   "source": [
    "# STEP 3: Prompt with Few-Shots:"
   ]
  },
  {
   "cell_type": "code",
   "execution_count": 36,
   "metadata": {},
   "outputs": [],
   "source": [
    "prompt = \"\"\"### Task\n",
    "Generate a SQL query to answer [QUESTION]{question}[/QUESTION]\n",
    "\n",
    "### Instructions\n",
    "- If you cannot answer the question with the available database schema, return 'I do not know'\n",
    "- Pay close attention to the given database schema, note on how they can join together\n",
    "- You do not need to generate your thought process but just the answer\n",
    "- Your answer should end with '[/SQL]'\n",
    "\n",
    "### Few-Shots Example:\n",
    "  example input question 1: 'List all the reviews less than 3 stars'\n",
    "  example answer 1: SELECT r.text FROM review AS r WHERE r.rating < 3\n",
    "\n",
    "### Database Schema\n",
    "This query will run on a database whose schema is represented in this string:\n",
    "CREATE TABLE business (\n",
    "  bid INTEGER PRIMARY KEY AUTO_INCREMENT, -- Unique ID for each business\n",
    "  business_id VARCHAR(255) NOT NULL UNIQUE, -- External business identifier\n",
    "  name VARCHAR(255) NOT NULL, -- Name of the business\n",
    "  full_address VARCHAR(255) NOT NULL, -- Full street address\n",
    "  city VARCHAR(255) NOT NULL, -- City of the business\n",
    "  latitude VARCHAR(255) NOT NULL, -- Latitude coordinate\n",
    "  longitude VARCHAR(255) NOT NULL, -- Longitude coordinate\n",
    "  review_count BIGINT NOT NULL, -- Number of reviews the business has received\n",
    "  is_open TINYINT(1) NOT NULL, -- Indicates if the business is open (1) or closed (0)\n",
    "  rating FLOAT DEFAULT NULL, -- Average rating of the business\n",
    "  state VARCHAR(255) DEFAULT NULL -- State or province\n",
    ");\n",
    "\n",
    "CREATE TABLE category (\n",
    "  id INTEGER PRIMARY KEY AUTO_INCREMENT, -- Unique ID for each category record\n",
    "  business_id VARCHAR(255) NOT NULL, -- ID of the business this category belongs to\n",
    "  category_name VARCHAR(255) NOT NULL, -- Name of the category\n",
    "  FOREIGN KEY (business_id) REFERENCES business(business_id)\n",
    ");\n",
    "\n",
    "CREATE TABLE checkin (\n",
    "  cid INTEGER PRIMARY KEY AUTO_INCREMENT, -- Unique ID for each check-in record\n",
    "  business_id VARCHAR(255) NOT NULL, -- ID of the business where the check-in occurred\n",
    "  count INTEGER DEFAULT NULL, -- Number of check-ins\n",
    "  day VARCHAR(12) DEFAULT NULL, -- Day of the week the check-in occurred\n",
    "  FOREIGN KEY (business_id) REFERENCES business(business_id)\n",
    ");\n",
    "\n",
    "CREATE TABLE neighborhood (\n",
    "  id INTEGER PRIMARY KEY AUTO_INCREMENT, -- Unique ID for each neighborhood record\n",
    "  business_id VARCHAR(255) NOT NULL, -- ID of the business in the neighborhood\n",
    "  neighborhood_name VARCHAR(255) NOT NULL, -- Name of the neighborhood\n",
    "  FOREIGN KEY (business_id) REFERENCES business(business_id)\n",
    ");\n",
    "\n",
    "CREATE TABLE review (\n",
    "  rid INTEGER PRIMARY KEY AUTO_INCREMENT, -- Unique ID for each review\n",
    "  business_id VARCHAR(255) NOT NULL, -- ID of the business being reviewed\n",
    "  user_id VARCHAR(255) NOT NULL, -- ID of the user who wrote the review\n",
    "  rating FLOAT DEFAULT NULL, -- Rating given in the review\n",
    "  text LONGTEXT NOT NULL, -- Content of the review\n",
    "  year INTEGER DEFAULT NULL, -- Year the review was posted\n",
    "  month VARCHAR(10) DEFAULT NULL, -- Month the review was posted\n",
    "  FOREIGN KEY (business_id) REFERENCES business(business_id),\n",
    "  FOREIGN KEY (user_id) REFERENCES user(user_id)\n",
    ");\n",
    "\n",
    "CREATE TABLE tip (\n",
    "  tip_id INTEGER PRIMARY KEY AUTO_INCREMENT, -- Unique ID for each tip\n",
    "  business_id VARCHAR(255) NOT NULL, -- ID of the business the tip is about\n",
    "  text LONGTEXT NOT NULL, -- Content of the tip\n",
    "  user_id VARCHAR(255) NOT NULL, -- ID of the user who left the tip\n",
    "  likes INTEGER NOT NULL, -- Number of likes the tip received\n",
    "  year INTEGER DEFAULT NULL, -- Year the tip was posted\n",
    "  month VARCHAR(10) DEFAULT NULL, -- Month the tip was posted\n",
    "  FOREIGN KEY (business_id) REFERENCES business(business_id),\n",
    "  FOREIGN KEY (user_id) REFERENCES user(user_id)\n",
    ");\n",
    "\n",
    "CREATE TABLE user (\n",
    "  uid INTEGER PRIMARY KEY AUTO_INCREMENT, -- Unique ID for each user record\n",
    "  user_id VARCHAR(255) NOT NULL UNIQUE, -- External user identifier\n",
    "  name VARCHAR(255) NOT NULL -- Name of the user\n",
    ");\n",
    "\n",
    "- review.business_id can be joined with business.business_id\n",
    "- user.user_id can be joined with review.user_id\n",
    "\n",
    "### Answer\n",
    "Given the database schema, here is the SQL query that answers [QUESTION]{question}[/QUESTION]\n",
    "[SQL]\n",
    "\"\"\""
   ]
  },
  {
   "cell_type": "code",
   "execution_count": 37,
   "metadata": {},
   "outputs": [],
   "source": [
    "def generate_query(question):\n",
    "    updated_prompt = prompt.format(question=question)\n",
    "    inputs = tokenizer(updated_prompt, return_tensors=\"pt\").to(\"cuda\")\n",
    "    generated_ids = model.generate(\n",
    "        **inputs,\n",
    "        num_return_sequences=1,\n",
    "        eos_token_id=tokenizer.eos_token_id,\n",
    "        pad_token_id=tokenizer.eos_token_id,\n",
    "        max_new_tokens=512,\n",
    "        do_sample=False,\n",
    "        num_beams=1,\n",
    "    )\n",
    "    outputs = tokenizer.batch_decode(generated_ids, skip_special_tokens=True)\n",
    "\n",
    "    torch.cuda.empty_cache()\n",
    "    torch.cuda.synchronize()\n",
    "    # empty cache so that you do generate more results w/o memory crashing\n",
    "    # particularly important on Colab – memory management is much more straightforward\n",
    "    # when running on an inference service\n",
    "    return sqlparse.format(outputs[0].split(\"[SQL]\")[1].split(\"[/SQL]\")[0], reindent=True)"
   ]
  },
  {
   "cell_type": "code",
   "execution_count": 38,
   "metadata": {},
   "outputs": [
    {
     "name": "stdout",
     "output_type": "stream",
     "text": [
      "\n",
      "SELECT r.*\n",
      "FROM review\n",
      "WHERE r.rating < 1;\n"
     ]
    }
   ],
   "source": [
    "question = \"List all the reviews which rated a business less than 1\"\n",
    "generated_sql = generate_query(question)\n",
    "print(generated_sql)"
   ]
  },
  {
   "cell_type": "code",
   "execution_count": 39,
   "metadata": {},
   "outputs": [
    {
     "data": {
      "text/plain": [
       "'\\nCorret Answer: \\n\\nSELECT r.text \\nFROM review AS r \\nWHERE r.rating < 1\\n\\n\\nCREATE TABLE review (\\n  rid INTEGER PRIMARY KEY AUTO_INCREMENT, -- Unique ID for each review\\n  business_id VARCHAR(255) NOT NULL, -- ID of the business being reviewed\\n  user_id VARCHAR(255) NOT NULL, -- ID of the user who wrote the review\\n  rating FLOAT DEFAULT NULL, -- Rating given in the review\\n  text LONGTEXT NOT NULL, -- Content of the review\\n  year INTEGER DEFAULT NULL, -- Year the review was posted\\n  month VARCHAR(10) DEFAULT NULL, -- Month the review was posted\\n  FOREIGN KEY (business_id) REFERENCES business(business_id),\\n  FOREIGN KEY (user_id) REFERENCES user(user_id)\\n);\\n'"
      ]
     },
     "execution_count": 39,
     "metadata": {},
     "output_type": "execute_result"
    }
   ],
   "source": [
    "\"\"\"\n",
    "Corret Answer: \n",
    "\n",
    "SELECT r.text \n",
    "FROM review AS r \n",
    "WHERE r.rating < 1\n",
    "\n",
    "\n",
    "CREATE TABLE review (\n",
    "  rid INTEGER PRIMARY KEY AUTO_INCREMENT, -- Unique ID for each review\n",
    "  business_id VARCHAR(255) NOT NULL, -- ID of the business being reviewed\n",
    "  user_id VARCHAR(255) NOT NULL, -- ID of the user who wrote the review\n",
    "  rating FLOAT DEFAULT NULL, -- Rating given in the review\n",
    "  text LONGTEXT NOT NULL, -- Content of the review\n",
    "  year INTEGER DEFAULT NULL, -- Year the review was posted\n",
    "  month VARCHAR(10) DEFAULT NULL, -- Month the review was posted\n",
    "  FOREIGN KEY (business_id) REFERENCES business(business_id),\n",
    "  FOREIGN KEY (user_id) REFERENCES user(user_id)\n",
    ");\n",
    "\"\"\""
   ]
  },
  {
   "cell_type": "code",
   "execution_count": 40,
   "metadata": {},
   "outputs": [
    {
     "name": "stdout",
     "output_type": "stream",
     "text": [
      "\n",
      "SELECT b.business_id\n",
      "FROM business b\n",
      "WHERE b.business_id IN\n",
      "    (SELECT b.business_id\n",
      "     FROM review r\n",
      "     WHERE r.user_id = 'Niloofar'\n",
      "       AND r.year = 2023)\n"
     ]
    }
   ],
   "source": [
    "question = \"list all the businesses which have a review by Niloofar\"\n",
    "generated_sql = generate_query(question)\n",
    "print(generated_sql)"
   ]
  },
  {
   "cell_type": "code",
   "execution_count": null,
   "metadata": {},
   "outputs": [
    {
     "data": {
      "text/plain": [
       "'\\nCorrect Answer: \\n\\nSELECT b.name\\nFROM review r\\nJOIN business b ON r.business_id = b.business_id\\nJOIN user u ON r.user_id = u.user_id\\nWHERE u.name = \"Niloofar\";\\n\\n\\nCREATE TABLE business (\\n  bid INTEGER PRIMARY KEY AUTO_INCREMENT, -- Unique ID for each business\\n  business_id VARCHAR(255) NOT NULL UNIQUE, -- External business identifier\\n  name VARCHAR(255) NOT NULL, -- Name of the business\\n  full_address VARCHAR(255) NOT NULL, -- Full street address\\n  city VARCHAR(255) NOT NULL, -- City of the business\\n  latitude VARCHAR(255) NOT NULL, -- Latitude coordinate\\n  longitude VARCHAR(255) NOT NULL, -- Longitude coordinate\\n  review_count BIGINT NOT NULL, -- Number of reviews the business has received\\n  is_open TINYINT(1) NOT NULL, -- Indicates if the business is open (1) or closed (0)\\n  rating FLOAT DEFAULT NULL, -- Average rating of the business\\n  state VARCHAR(255) DEFAULT NULL -- State or province\\n);\\n\\nCREATE TABLE review (\\n  rid INTEGER PRIMARY KEY AUTO_INCREMENT, -- Unique ID for each review\\n  business_id VARCHAR(255) NOT NULL, -- ID of the business being reviewed\\n  user_id VARCHAR(255) NOT NULL, -- ID of the user who wrote the review\\n  rating FLOAT DEFAULT NULL, -- Rating given in the review\\n  text LONGTEXT NOT NULL, -- Content of the review\\n  year INTEGER DEFAULT NULL, -- Year the review was posted\\n  month VARCHAR(10) DEFAULT NULL, -- Month the review was posted\\n  FOREIGN KEY (business_id) REFERENCES business(business_id),\\n  FOREIGN KEY (user_id) REFERENCES user(user_id)\\n);\\n\\nCREATE TABLE user (\\n  uid INTEGER PRIMARY KEY AUTO_INCREMENT, -- Unique ID for each user record\\n  user_id VARCHAR(255) NOT NULL UNIQUE, -- External user identifier\\n  name VARCHAR(255) NOT NULL -- Name of the user\\n);\\n'"
      ]
     },
     "execution_count": 41,
     "metadata": {},
     "output_type": "execute_result"
    },
    {
     "ename": "",
     "evalue": "",
     "output_type": "error",
     "traceback": [
      "\u001b[1;31mThe Kernel crashed while executing code in the current cell or a previous cell. \n",
      "\u001b[1;31mPlease review the code in the cell(s) to identify a possible cause of the failure. \n",
      "\u001b[1;31mClick <a href='https://aka.ms/vscodeJupyterKernelCrash'>here</a> for more info. \n",
      "\u001b[1;31mView Jupyter <a href='command:jupyter.viewOutput'>log</a> for further details."
     ]
    }
   ],
   "source": [
    "\"\"\"\n",
    "Correct Answer: \n",
    "\n",
    "SELECT b.name\n",
    "FROM review r\n",
    "JOIN business b ON r.business_id = b.business_id\n",
    "JOIN user u ON r.user_id = u.user_id\n",
    "WHERE u.name = \"Niloofar\";\n",
    "\n",
    "\n",
    "CREATE TABLE business (\n",
    "  bid INTEGER PRIMARY KEY AUTO_INCREMENT, -- Unique ID for each business\n",
    "  business_id VARCHAR(255) NOT NULL UNIQUE, -- External business identifier\n",
    "  name VARCHAR(255) NOT NULL, -- Name of the business\n",
    "  full_address VARCHAR(255) NOT NULL, -- Full street address\n",
    "  city VARCHAR(255) NOT NULL, -- City of the business\n",
    "  latitude VARCHAR(255) NOT NULL, -- Latitude coordinate\n",
    "  longitude VARCHAR(255) NOT NULL, -- Longitude coordinate\n",
    "  review_count BIGINT NOT NULL, -- Number of reviews the business has received\n",
    "  is_open TINYINT(1) NOT NULL, -- Indicates if the business is open (1) or closed (0)\n",
    "  rating FLOAT DEFAULT NULL, -- Average rating of the business\n",
    "  state VARCHAR(255) DEFAULT NULL -- State or province\n",
    ");\n",
    "\n",
    "CREATE TABLE review (\n",
    "  rid INTEGER PRIMARY KEY AUTO_INCREMENT, -- Unique ID for each review\n",
    "  business_id VARCHAR(255) NOT NULL, -- ID of the business being reviewed\n",
    "  user_id VARCHAR(255) NOT NULL, -- ID of the user who wrote the review\n",
    "  rating FLOAT DEFAULT NULL, -- Rating given in the review\n",
    "  text LONGTEXT NOT NULL, -- Content of the review\n",
    "  year INTEGER DEFAULT NULL, -- Year the review was posted\n",
    "  month VARCHAR(10) DEFAULT NULL, -- Month the review was posted\n",
    "  FOREIGN KEY (business_id) REFERENCES business(business_id),\n",
    "  FOREIGN KEY (user_id) REFERENCES user(user_id)\n",
    ");\n",
    "\n",
    "CREATE TABLE user (\n",
    "  uid INTEGER PRIMARY KEY AUTO_INCREMENT, -- Unique ID for each user record\n",
    "  user_id VARCHAR(255) NOT NULL UNIQUE, -- External user identifier\n",
    "  name VARCHAR(255) NOT NULL -- Name of the user\n",
    ");\n",
    "\"\"\""
   ]
  }
 ],
 "metadata": {
  "kernelspec": {
   "display_name": "Python 3",
   "language": "python",
   "name": "python3"
  },
  "language_info": {
   "codemirror_mode": {
    "name": "ipython",
    "version": 3
   },
   "file_extension": ".py",
   "mimetype": "text/x-python",
   "name": "python",
   "nbconvert_exporter": "python",
   "pygments_lexer": "ipython3",
   "version": "3.11.9"
  }
 },
 "nbformat": 4,
 "nbformat_minor": 2
}
