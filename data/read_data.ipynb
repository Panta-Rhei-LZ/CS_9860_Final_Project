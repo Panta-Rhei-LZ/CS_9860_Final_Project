{
 "cells": [
  {
   "cell_type": "markdown",
   "id": "7de16935",
   "metadata": {},
   "source": [
    "# Dataset Used\n",
    "\n",
    "* Spider Dataset\n",
    "\n",
    "* https://yale-lily.github.io/spider"
   ]
  },
  {
   "cell_type": "code",
   "execution_count": 36,
   "id": "8783c668",
   "metadata": {},
   "outputs": [],
   "source": [
    "from datasets import load_dataset\n",
    "\n",
    "ds = load_dataset(\"spider\")\n",
    "department = ds[\"train\"].filter(lambda x: x[\"db_id\"] == \"department_management\")\n",
    "farm = ds[\"train\"].filter(lambda x: x[\"db_id\"] == \"farm\")\n",
    "aircraft = ds[\"train\"].filter(lambda x: x[\"db_id\"] == \"aircraft\")\n",
    "architecture = ds[\"train\"].filter(lambda x: x[\"db_id\"] == \"architecture\")\n",
    "cinema = ds[\"train\"].filter(lambda x: x[\"db_id\"] == \"cinema\")"
   ]
  },
  {
   "cell_type": "code",
   "execution_count": 37,
   "id": "0fe64f5b",
   "metadata": {},
   "outputs": [
    {
     "name": "stdout",
     "output_type": "stream",
     "text": [
      "{'db_id': 'student_assessment', 'query': 'SELECT T1.course_name FROM courses AS T1 JOIN student_course_registrations AS T2 ON T1.course_id = T2.course_Id GROUP BY T1.course_id ORDER BY count(*) DESC LIMIT 1', 'question': 'What is the name of the course with the most registered students?', 'query_toks': ['SELECT', 'T1.course_name', 'FROM', 'courses', 'AS', 'T1', 'JOIN', 'student_course_registrations', 'AS', 'T2', 'ON', 'T1.course_id', '=', 'T2.course_Id', 'GROUP', 'BY', 'T1.course_id', 'ORDER', 'BY', 'count', '(', '*', ')', 'DESC', 'LIMIT', '1'], 'query_toks_no_value': ['select', 't1', '.', 'course_name', 'from', 'courses', 'as', 't1', 'join', 'student_course_registrations', 'as', 't2', 'on', 't1', '.', 'course_id', '=', 't2', '.', 'course_id', 'group', 'by', 't1', '.', 'course_id', 'order', 'by', 'count', '(', '*', ')', 'desc', 'limit', 'value'], 'question_toks': ['What', 'is', 'the', 'name', 'of', 'the', 'course', 'with', 'the', 'most', 'registered', 'students', '?']}\n",
      "Number of entries: 16\n",
      "{'db_id': 'department_management', 'query': 'SELECT count(*) FROM head WHERE age  >  56', 'question': 'How many heads of the departments are older than 56 ?', 'query_toks': ['SELECT', 'count', '(', '*', ')', 'FROM', 'head', 'WHERE', 'age', '>', '56'], 'query_toks_no_value': ['select', 'count', '(', '*', ')', 'from', 'head', 'where', 'age', '>', 'value'], 'question_toks': ['How', 'many', 'heads', 'of', 'the', 'departments', 'are', 'older', 'than', '56', '?']}\n",
      "Number of entries: 40\n",
      "{'db_id': 'farm', 'query': 'SELECT count(*) FROM farm', 'question': 'How many farms are there?', 'query_toks': ['SELECT', 'count', '(', '*', ')', 'FROM', 'farm'], 'query_toks_no_value': ['select', 'count', '(', '*', ')', 'from', 'farm'], 'question_toks': ['How', 'many', 'farms', 'are', 'there', '?']}\n",
      "Number of entries: 46\n",
      "{'db_id': 'aircraft', 'query': 'SELECT count(*) FROM aircraft', 'question': 'How many aircrafts are there?', 'query_toks': ['SELECT', 'count', '(', '*', ')', 'FROM', 'aircraft'], 'query_toks_no_value': ['select', 'count', '(', '*', ')', 'from', 'aircraft'], 'question_toks': ['How', 'many', 'aircrafts', 'are', 'there', '?']}\n",
      "Number of entries: 17\n",
      "{'db_id': 'architecture', 'query': \"SELECT count(*) FROM architect WHERE gender  =  'female'\", 'question': 'How many architects are female?', 'query_toks': ['SELECT', 'count', '(', '*', ')', 'FROM', 'architect', 'WHERE', 'gender', '=', \"'female\", \"'\"], 'query_toks_no_value': ['select', 'count', '(', '*', ')', 'from', 'architect', 'where', 'gender', '=', 'value'], 'question_toks': ['How', 'many', 'architects', 'are', 'female', '?']}\n",
      "Number of entries: 30\n",
      "{'db_id': 'cinema', 'query': 'SELECT LOCATION FROM cinema EXCEPT SELECT LOCATION FROM cinema WHERE capacity  >  800', 'question': 'Show all the locations where no cinema has capacity over 800.', 'query_toks': ['SELECT', 'LOCATION', 'FROM', 'cinema', 'EXCEPT', 'SELECT', 'LOCATION', 'FROM', 'cinema', 'WHERE', 'capacity', '>', '800'], 'query_toks_no_value': ['select', 'location', 'from', 'cinema', 'except', 'select', 'location', 'from', 'cinema', 'where', 'capacity', '>', 'value'], 'question_toks': ['Show', 'all', 'the', 'locations', 'where', 'no', 'cinema', 'has', 'capacity', 'over', '800', '.']}\n"
     ]
    }
   ],
   "source": [
    "print(ds[\"train\"][57])  # View one sample\n",
    "\n",
    "print(f\"Number of entries: {len(department)}\")\n",
    "print(department[0])  # View one sample\n",
    "\n",
    "print(f\"Number of entries: {len(farm)}\")\n",
    "print(farm[0])  # View one sample\n",
    "\n",
    "print(f\"Number of entries: {len(aircraft)}\")\n",
    "print(aircraft[0])  # View one sample\n",
    "\n",
    "print(f\"Number of entries: {len(architecture)}\")\n",
    "print(architecture[0])  # View one sample\n",
    "\n",
    "print(f\"Number of entries: {len(cinema)}\")\n",
    "print(cinema[0])  # View one sample"
   ]
  },
  {
   "cell_type": "markdown",
   "id": "9690fb39",
   "metadata": {},
   "source": [
    "# Combine Question"
   ]
  },
  {
   "cell_type": "code",
   "execution_count": 38,
   "id": "a37cbdc6",
   "metadata": {},
   "outputs": [],
   "source": [
    "department_question = []\n",
    "farm_question = []\n",
    "aircraft_question = []\n",
    "architecture_question = []\n",
    "cinema_question = []\n",
    "\n",
    "for i in range(len(department)):\n",
    "    department_question.append(('department_management', department[i]['question']))\n",
    "\n",
    "for i in range(len(farm)):\n",
    "    department_question.append(('farm', farm[i]['question']))\n",
    "\n",
    "for i in range(len(aircraft)):\n",
    "    department_question.append(('aircraft', aircraft[i]['question']))\n",
    "\n",
    "for i in range(len(architecture)):\n",
    "    department_question.append(('architecture', architecture[i]['question']))\n",
    "\n",
    "for i in range(len(cinema)):\n",
    "    department_question.append(('cinema', cinema[i]['question']))"
   ]
  },
  {
   "cell_type": "markdown",
   "id": "f6417aec",
   "metadata": {},
   "source": [
    "# Combine Query"
   ]
  },
  {
   "cell_type": "code",
   "execution_count": 39,
   "id": "631850b6",
   "metadata": {},
   "outputs": [],
   "source": [
    "department_query = []\n",
    "farm_query = []\n",
    "aircraft_query = []\n",
    "architecture_query = []\n",
    "cinema_query = []\n",
    "\n",
    "for i in range(len(department)):\n",
    "    department_query.append(('department_management', department[i]['query']))\n",
    "\n",
    "for i in range(len(farm)):\n",
    "    farm_query.append(('farm', farm[i]['query']))\n",
    "\n",
    "for i in range(len(aircraft)):\n",
    "    aircraft_query.append(('aircraft', aircraft[i]['query']))\n",
    "\n",
    "for i in range(len(architecture)):\n",
    "    architecture_query.append(('architecture', architecture[i]['query']))\n",
    "\n",
    "for i in range(len(cinema)):\n",
    "    cinema_query.append(('cinema', cinema[i]['query']))"
   ]
  }
 ],
 "metadata": {
  "kernelspec": {
   "display_name": "Python 3",
   "language": "python",
   "name": "python3"
  },
  "language_info": {
   "codemirror_mode": {
    "name": "ipython",
    "version": 3
   },
   "file_extension": ".py",
   "mimetype": "text/x-python",
   "name": "python",
   "nbconvert_exporter": "python",
   "pygments_lexer": "ipython3",
   "version": "3.11.9"
  }
 },
 "nbformat": 4,
 "nbformat_minor": 5
}
